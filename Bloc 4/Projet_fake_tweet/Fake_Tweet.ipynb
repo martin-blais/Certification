{
 "cells": [
  {
   "cell_type": "markdown",
   "id": "cf655a42-0fa1-4e2f-a86a-e76218865851",
   "metadata": {},
   "source": [
    "# Projet: détecter les Fakes tweets"
   ]
  },
  {
   "cell_type": "markdown",
   "id": "970f7c6c-23d3-4958-800d-0d9b45e25241",
   "metadata": {},
   "source": [
    "Twitter est devenu un canal de communication important en cas d’urgence.\n",
    "L’omniprésence des smartphones permet aux gens d’annoncer une urgence qu’ils observent en temps réel. Pour cette raison, de plus en plus d’agences sont intéressées par la surveillance programmatique de Twitter (c’est-à-dire les organisations de secours en cas de catastrophe et les agences de presse).\n",
    "Mais, il n’est pas toujours clair si les mots d’une personne annoncent réellement une catastrophe.  \n",
    "  \n",
    "**Objectifs**  \n",
    "- Traitement des données \"text\". Le prprocessing est important\n",
    "- Création d'un algorythme de deep learning\n"
   ]
  },
  {
   "cell_type": "markdown",
   "id": "f9d6f993-df16-425e-9356-ad9ec58954c8",
   "metadata": {},
   "source": [
    "## Importations des bibliothèques\n"
   ]
  },
  {
   "cell_type": "code",
   "execution_count": 1,
   "id": "c5f53ed3-1ef0-461d-b1f1-0a00cd343a6c",
   "metadata": {},
   "outputs": [],
   "source": [
    "import pandas as pd\n",
    "import numpy as np\n",
    "import seaborn as sns\n",
    "\n",
    "import re\n",
    "import string\n",
    "\n",
    "import tensorflow as tf\n",
    "import matplotlib.pyplot as plt\n",
    "import en_core_web_sm\n",
    "from spacy.lang.en.stop_words import STOP_WORDS\n",
    "\n",
    "from keras.models import Sequential\n",
    "from keras.layers import (LSTM, \n",
    "                          Embedding, \n",
    "                          BatchNormalization,\n",
    "                          Dense, \n",
    "                          TimeDistributed, \n",
    "                          Dropout, \n",
    "                          Bidirectional,\n",
    "                          Flatten, \n",
    "                          GlobalMaxPool1D)\n",
    "\n",
    "from sklearn.model_selection import train_test_split\n",
    "from sklearn.metrics import classification_report,confusion_matrix\n",
    "\n",
    "from keras.optimizers import *\n",
    "\n",
    "\n",
    "import json"
   ]
  },
  {
   "cell_type": "code",
   "execution_count": 3,
   "id": "53027bb2-c2d0-464d-86f3-d4b0e8a71dc7",
   "metadata": {},
   "outputs": [],
   "source": [
    "data = pd.read_csv(\"tweet_train.csv\")"
   ]
  },
  {
   "cell_type": "code",
   "execution_count": 4,
   "id": "849b7bbe-9bc3-4276-9605-33cee30feff4",
   "metadata": {},
   "outputs": [
    {
     "data": {
      "text/html": [
       "<div>\n",
       "<style scoped>\n",
       "    .dataframe tbody tr th:only-of-type {\n",
       "        vertical-align: middle;\n",
       "    }\n",
       "\n",
       "    .dataframe tbody tr th {\n",
       "        vertical-align: top;\n",
       "    }\n",
       "\n",
       "    .dataframe thead th {\n",
       "        text-align: right;\n",
       "    }\n",
       "</style>\n",
       "<table border=\"1\" class=\"dataframe\">\n",
       "  <thead>\n",
       "    <tr style=\"text-align: right;\">\n",
       "      <th></th>\n",
       "      <th>id</th>\n",
       "      <th>keyword</th>\n",
       "      <th>location</th>\n",
       "      <th>text</th>\n",
       "      <th>target</th>\n",
       "    </tr>\n",
       "  </thead>\n",
       "  <tbody>\n",
       "    <tr>\n",
       "      <th>0</th>\n",
       "      <td>1</td>\n",
       "      <td>NaN</td>\n",
       "      <td>NaN</td>\n",
       "      <td>Our Deeds are the Reason of this #earthquake M...</td>\n",
       "      <td>1</td>\n",
       "    </tr>\n",
       "    <tr>\n",
       "      <th>1</th>\n",
       "      <td>4</td>\n",
       "      <td>NaN</td>\n",
       "      <td>NaN</td>\n",
       "      <td>Forest fire near La Ronge Sask. Canada</td>\n",
       "      <td>1</td>\n",
       "    </tr>\n",
       "    <tr>\n",
       "      <th>2</th>\n",
       "      <td>5</td>\n",
       "      <td>NaN</td>\n",
       "      <td>NaN</td>\n",
       "      <td>All residents asked to 'shelter in place' are ...</td>\n",
       "      <td>1</td>\n",
       "    </tr>\n",
       "    <tr>\n",
       "      <th>3</th>\n",
       "      <td>6</td>\n",
       "      <td>NaN</td>\n",
       "      <td>NaN</td>\n",
       "      <td>13,000 people receive #wildfires evacuation or...</td>\n",
       "      <td>1</td>\n",
       "    </tr>\n",
       "    <tr>\n",
       "      <th>4</th>\n",
       "      <td>7</td>\n",
       "      <td>NaN</td>\n",
       "      <td>NaN</td>\n",
       "      <td>Just got sent this photo from Ruby #Alaska as ...</td>\n",
       "      <td>1</td>\n",
       "    </tr>\n",
       "  </tbody>\n",
       "</table>\n",
       "</div>"
      ],
      "text/plain": [
       "   id keyword location                                               text  \\\n",
       "0   1     NaN      NaN  Our Deeds are the Reason of this #earthquake M...   \n",
       "1   4     NaN      NaN             Forest fire near La Ronge Sask. Canada   \n",
       "2   5     NaN      NaN  All residents asked to 'shelter in place' are ...   \n",
       "3   6     NaN      NaN  13,000 people receive #wildfires evacuation or...   \n",
       "4   7     NaN      NaN  Just got sent this photo from Ruby #Alaska as ...   \n",
       "\n",
       "   target  \n",
       "0       1  \n",
       "1       1  \n",
       "2       1  \n",
       "3       1  \n",
       "4       1  "
      ]
     },
     "execution_count": 4,
     "metadata": {},
     "output_type": "execute_result"
    }
   ],
   "source": [
    "data.head()"
   ]
  },
  {
   "cell_type": "code",
   "execution_count": 5,
   "id": "f59b12c0-ae1f-40ca-87d8-ef4734c3f4a8",
   "metadata": {},
   "outputs": [
    {
     "data": {
      "text/html": [
       "<div>\n",
       "<style scoped>\n",
       "    .dataframe tbody tr th:only-of-type {\n",
       "        vertical-align: middle;\n",
       "    }\n",
       "\n",
       "    .dataframe tbody tr th {\n",
       "        vertical-align: top;\n",
       "    }\n",
       "\n",
       "    .dataframe thead th {\n",
       "        text-align: right;\n",
       "    }\n",
       "</style>\n",
       "<table border=\"1\" class=\"dataframe\">\n",
       "  <thead>\n",
       "    <tr style=\"text-align: right;\">\n",
       "      <th></th>\n",
       "      <th>id</th>\n",
       "      <th>target</th>\n",
       "    </tr>\n",
       "  </thead>\n",
       "  <tbody>\n",
       "    <tr>\n",
       "      <th>count</th>\n",
       "      <td>7613.000000</td>\n",
       "      <td>7613.00000</td>\n",
       "    </tr>\n",
       "    <tr>\n",
       "      <th>mean</th>\n",
       "      <td>5441.934848</td>\n",
       "      <td>0.42966</td>\n",
       "    </tr>\n",
       "    <tr>\n",
       "      <th>std</th>\n",
       "      <td>3137.116090</td>\n",
       "      <td>0.49506</td>\n",
       "    </tr>\n",
       "    <tr>\n",
       "      <th>min</th>\n",
       "      <td>1.000000</td>\n",
       "      <td>0.00000</td>\n",
       "    </tr>\n",
       "    <tr>\n",
       "      <th>25%</th>\n",
       "      <td>2734.000000</td>\n",
       "      <td>0.00000</td>\n",
       "    </tr>\n",
       "    <tr>\n",
       "      <th>50%</th>\n",
       "      <td>5408.000000</td>\n",
       "      <td>0.00000</td>\n",
       "    </tr>\n",
       "    <tr>\n",
       "      <th>75%</th>\n",
       "      <td>8146.000000</td>\n",
       "      <td>1.00000</td>\n",
       "    </tr>\n",
       "    <tr>\n",
       "      <th>max</th>\n",
       "      <td>10873.000000</td>\n",
       "      <td>1.00000</td>\n",
       "    </tr>\n",
       "  </tbody>\n",
       "</table>\n",
       "</div>"
      ],
      "text/plain": [
       "                 id      target\n",
       "count   7613.000000  7613.00000\n",
       "mean    5441.934848     0.42966\n",
       "std     3137.116090     0.49506\n",
       "min        1.000000     0.00000\n",
       "25%     2734.000000     0.00000\n",
       "50%     5408.000000     0.00000\n",
       "75%     8146.000000     1.00000\n",
       "max    10873.000000     1.00000"
      ]
     },
     "execution_count": 5,
     "metadata": {},
     "output_type": "execute_result"
    }
   ],
   "source": [
    "data.describe()"
   ]
  },
  {
   "cell_type": "code",
   "execution_count": 6,
   "id": "268719f9-3d54-417d-90b3-1841d1dc513f",
   "metadata": {},
   "outputs": [
    {
     "name": "stdout",
     "output_type": "stream",
     "text": [
      "<class 'pandas.core.frame.DataFrame'>\n",
      "RangeIndex: 7613 entries, 0 to 7612\n",
      "Data columns (total 5 columns):\n",
      " #   Column    Non-Null Count  Dtype \n",
      "---  ------    --------------  ----- \n",
      " 0   id        7613 non-null   int64 \n",
      " 1   keyword   7552 non-null   object\n",
      " 2   location  5080 non-null   object\n",
      " 3   text      7613 non-null   object\n",
      " 4   target    7613 non-null   int64 \n",
      "dtypes: int64(2), object(3)\n",
      "memory usage: 297.5+ KB\n"
     ]
    }
   ],
   "source": [
    "data.info()"
   ]
  },
  {
   "cell_type": "markdown",
   "id": "4428a993-6eed-44b2-b4eb-bd8d58d29bd0",
   "metadata": {},
   "source": [
    "Il n'y a pas de valeurs manquantes"
   ]
  },
  {
   "cell_type": "markdown",
   "id": "3528633a-71a6-4d68-9297-2dc8c3760de4",
   "metadata": {},
   "source": [
    "## Analyses des données"
   ]
  },
  {
   "cell_type": "code",
   "execution_count": 7,
   "id": "0ede77bb-b722-41ff-b674-587fcfd8cf5e",
   "metadata": {},
   "outputs": [
    {
     "data": {
      "text/plain": [
       "0    0.57034\n",
       "1    0.42966\n",
       "Name: target, dtype: float64"
      ]
     },
     "execution_count": 7,
     "metadata": {},
     "output_type": "execute_result"
    }
   ],
   "source": [
    "data[\"target\"].value_counts(normalize = True) # connaître la proportion de fake news ou non du dataset"
   ]
  },
  {
   "cell_type": "markdown",
   "id": "db632964-71a1-4cb2-9d0f-518b742992fb",
   "metadata": {},
   "source": [
    "1 correspond à des fake tweet. 0 correspond aux tweets réels. Il y a 57% de tweets réels et 43% de fake tweets"
   ]
  },
  {
   "cell_type": "code",
   "execution_count": 8,
   "id": "bfa1b6bc-ee6d-4a50-8f2a-1b096b2181bc",
   "metadata": {},
   "outputs": [
    {
     "data": {
      "text/plain": [
       "0        69\n",
       "1        38\n",
       "2       133\n",
       "3        65\n",
       "4        88\n",
       "       ... \n",
       "7608     83\n",
       "7609    125\n",
       "7610     65\n",
       "7611    137\n",
       "7612     94\n",
       "Name: text, Length: 7613, dtype: int64"
      ]
     },
     "execution_count": 8,
     "metadata": {},
     "output_type": "execute_result"
    }
   ],
   "source": [
    "data[\"text\"].str.len() # permet de connaitre le nombre de caractère de chaques tweets"
   ]
  },
  {
   "cell_type": "code",
   "execution_count": 9,
   "id": "0c34d389-f665-46ab-8954-f88ae7c65f60",
   "metadata": {},
   "outputs": [
    {
     "data": {
      "text/plain": [
       "Text(0.5, 1.0, 'real tweets')"
      ]
     },
     "execution_count": 9,
     "metadata": {},
     "output_type": "execute_result"
    },
    {
     "data": {
      "image/png": "[encoded data removed]",
      "text/plain": [
       "<Figure size 720x360 with 2 Axes>"
      ]
     },
     "metadata": {
      "needs_background": "light"
     },
     "output_type": "display_data"
    }
   ],
   "source": [
    "fig,(ax1,ax2)=plt.subplots(1,2,figsize=(10,5))\n",
    "ax1.hist(data[data[\"target\"]==1][\"text\"].str.len(), color = \"red\")\n",
    "ax1.set_title('fake tweets')\n",
    "\n",
    "ax2.hist(data[data[\"target\"]==0][\"text\"].str.len())\n",
    "ax1.set_title('real tweets')\n"
   ]
  },
  {
   "cell_type": "markdown",
   "id": "cfe3181a-8454-4a90-a551-b1f730209b56",
   "metadata": {},
   "source": [
    "Il n'y a pas de différence dans le nombre de caractère entre un vrai et un faux tweet"
   ]
  },
  {
   "cell_type": "markdown",
   "id": "f7bf7d1a-c5b4-4f3b-bf7b-a5f143c51657",
   "metadata": {},
   "source": [
    "## Preprocessing"
   ]
  },
  {
   "cell_type": "markdown",
   "id": "7ec9fcaf-f894-44fc-a25a-8b27b9ee5f81",
   "metadata": {},
   "source": [
    "On garde que id, text et target"
   ]
  },
  {
   "cell_type": "code",
   "execution_count": 10,
   "id": "9f7c0c41-f7ba-4962-9022-4c32c3864bb9",
   "metadata": {},
   "outputs": [
    {
     "data": {
      "text/html": [
       "<div>\n",
       "<style scoped>\n",
       "    .dataframe tbody tr th:only-of-type {\n",
       "        vertical-align: middle;\n",
       "    }\n",
       "\n",
       "    .dataframe tbody tr th {\n",
       "        vertical-align: top;\n",
       "    }\n",
       "\n",
       "    .dataframe thead th {\n",
       "        text-align: right;\n",
       "    }\n",
       "</style>\n",
       "<table border=\"1\" class=\"dataframe\">\n",
       "  <thead>\n",
       "    <tr style=\"text-align: right;\">\n",
       "      <th></th>\n",
       "      <th>id</th>\n",
       "      <th>text</th>\n",
       "      <th>target</th>\n",
       "    </tr>\n",
       "  </thead>\n",
       "  <tbody>\n",
       "    <tr>\n",
       "      <th>0</th>\n",
       "      <td>1</td>\n",
       "      <td>Our Deeds are the Reason of this #earthquake M...</td>\n",
       "      <td>1</td>\n",
       "    </tr>\n",
       "    <tr>\n",
       "      <th>1</th>\n",
       "      <td>4</td>\n",
       "      <td>Forest fire near La Ronge Sask. Canada</td>\n",
       "      <td>1</td>\n",
       "    </tr>\n",
       "    <tr>\n",
       "      <th>2</th>\n",
       "      <td>5</td>\n",
       "      <td>All residents asked to 'shelter in place' are ...</td>\n",
       "      <td>1</td>\n",
       "    </tr>\n",
       "    <tr>\n",
       "      <th>3</th>\n",
       "      <td>6</td>\n",
       "      <td>13,000 people receive #wildfires evacuation or...</td>\n",
       "      <td>1</td>\n",
       "    </tr>\n",
       "    <tr>\n",
       "      <th>4</th>\n",
       "      <td>7</td>\n",
       "      <td>Just got sent this photo from Ruby #Alaska as ...</td>\n",
       "      <td>1</td>\n",
       "    </tr>\n",
       "  </tbody>\n",
       "</table>\n",
       "</div>"
      ],
      "text/plain": [
       "   id                                               text  target\n",
       "0   1  Our Deeds are the Reason of this #earthquake M...       1\n",
       "1   4             Forest fire near La Ronge Sask. Canada       1\n",
       "2   5  All residents asked to 'shelter in place' are ...       1\n",
       "3   6  13,000 people receive #wildfires evacuation or...       1\n",
       "4   7  Just got sent this photo from Ruby #Alaska as ...       1"
      ]
     },
     "execution_count": 10,
     "metadata": {},
     "output_type": "execute_result"
    }
   ],
   "source": [
    "df = data[[\"id\", \"text\", \"target\"]]\n",
    "df.head()"
   ]
  },
  {
   "cell_type": "code",
   "execution_count": 11,
   "id": "d3c10aa8-2807-4460-8dbb-ffefa78ad3c6",
   "metadata": {},
   "outputs": [],
   "source": [
    "def clean_text(text):\n",
    "    \"\"\"Mettre en minuscule, enlever les crochets, enlever https, enlever la ponctuation et enlever les nombres\"\"\"\n",
    "    text = text.lower()\n",
    "    text = re.sub('\\[.*?\\]', '', text)\n",
    "    text = re.sub('https?://\\S+|www\\.\\S+', '', text)\n",
    "    text = re.sub('<.*?>+', '', text)\n",
    "    text = re.sub('[%s]' % re.escape(string.punctuation), '', text)\n",
    "    text = re.sub('\\n', '', text)\n",
    "    text = re.sub('\\w*\\d\\w*', '', text)\n",
    "    return text"
   ]
  },
  {
   "cell_type": "code",
   "execution_count": 12,
   "id": "35db2f4c-085f-4253-a77d-83f4e447098a",
   "metadata": {},
   "outputs": [
    {
     "name": "stderr",
     "output_type": "stream",
     "text": [
      "<ipython-input-12-569759ae6f0b>:1: SettingWithCopyWarning: \n",
      "A value is trying to be set on a copy of a slice from a DataFrame.\n",
      "Try using .loc[row_indexer,col_indexer] = value instead\n",
      "\n",
      "See the caveats in the documentation: https://pandas.pydata.org/pandas-docs/stable/user_guide/indexing.html#returning-a-view-versus-a-copy\n",
      "  df[\"text_clean\"] = df[\"text\"].apply(lambda x: clean_text(x))\n"
     ]
    },
    {
     "data": {
      "text/html": [
       "<div>\n",
       "<style scoped>\n",
       "    .dataframe tbody tr th:only-of-type {\n",
       "        vertical-align: middle;\n",
       "    }\n",
       "\n",
       "    .dataframe tbody tr th {\n",
       "        vertical-align: top;\n",
       "    }\n",
       "\n",
       "    .dataframe thead th {\n",
       "        text-align: right;\n",
       "    }\n",
       "</style>\n",
       "<table border=\"1\" class=\"dataframe\">\n",
       "  <thead>\n",
       "    <tr style=\"text-align: right;\">\n",
       "      <th></th>\n",
       "      <th>id</th>\n",
       "      <th>text</th>\n",
       "      <th>target</th>\n",
       "      <th>text_clean</th>\n",
       "    </tr>\n",
       "  </thead>\n",
       "  <tbody>\n",
       "    <tr>\n",
       "      <th>0</th>\n",
       "      <td>1</td>\n",
       "      <td>Our Deeds are the Reason of this #earthquake M...</td>\n",
       "      <td>1</td>\n",
       "      <td>our deeds are the reason of this earthquake ma...</td>\n",
       "    </tr>\n",
       "    <tr>\n",
       "      <th>1</th>\n",
       "      <td>4</td>\n",
       "      <td>Forest fire near La Ronge Sask. Canada</td>\n",
       "      <td>1</td>\n",
       "      <td>forest fire near la ronge sask canada</td>\n",
       "    </tr>\n",
       "    <tr>\n",
       "      <th>2</th>\n",
       "      <td>5</td>\n",
       "      <td>All residents asked to 'shelter in place' are ...</td>\n",
       "      <td>1</td>\n",
       "      <td>all residents asked to shelter in place are be...</td>\n",
       "    </tr>\n",
       "    <tr>\n",
       "      <th>3</th>\n",
       "      <td>6</td>\n",
       "      <td>13,000 people receive #wildfires evacuation or...</td>\n",
       "      <td>1</td>\n",
       "      <td>people receive wildfires evacuation orders in...</td>\n",
       "    </tr>\n",
       "    <tr>\n",
       "      <th>4</th>\n",
       "      <td>7</td>\n",
       "      <td>Just got sent this photo from Ruby #Alaska as ...</td>\n",
       "      <td>1</td>\n",
       "      <td>just got sent this photo from ruby alaska as s...</td>\n",
       "    </tr>\n",
       "  </tbody>\n",
       "</table>\n",
       "</div>"
      ],
      "text/plain": [
       "   id                                               text  target  \\\n",
       "0   1  Our Deeds are the Reason of this #earthquake M...       1   \n",
       "1   4             Forest fire near La Ronge Sask. Canada       1   \n",
       "2   5  All residents asked to 'shelter in place' are ...       1   \n",
       "3   6  13,000 people receive #wildfires evacuation or...       1   \n",
       "4   7  Just got sent this photo from Ruby #Alaska as ...       1   \n",
       "\n",
       "                                          text_clean  \n",
       "0  our deeds are the reason of this earthquake ma...  \n",
       "1              forest fire near la ronge sask canada  \n",
       "2  all residents asked to shelter in place are be...  \n",
       "3   people receive wildfires evacuation orders in...  \n",
       "4  just got sent this photo from ruby alaska as s...  "
      ]
     },
     "execution_count": 12,
     "metadata": {},
     "output_type": "execute_result"
    }
   ],
   "source": [
    "df[\"text_clean\"] = df[\"text\"].apply(lambda x: clean_text(x))\n",
    "df.head()\n",
    "# Appliquer la fonction clean_text"
   ]
  },
  {
   "cell_type": "code",
   "execution_count": 13,
   "id": "03e05a8e-610d-47f2-9897-67c878b0130e",
   "metadata": {},
   "outputs": [],
   "source": [
    "nlp = en_core_web_sm.load() # chargement d'un modèle de spacy"
   ]
  },
  {
   "cell_type": "code",
   "execution_count": 14,
   "id": "3d199784-fca8-41a2-92a8-2d70bc785a46",
   "metadata": {},
   "outputs": [],
   "source": [
    "def lemma(text):\n",
    "    \"\"\" Lematisation, on enlève aussi les STOP_WORDS\"\"\"\n",
    "    text = \" \".join([token.lemma_ for token in nlp(text) if token.lemma_ not in STOP_WORDS])\n",
    "    return text"
   ]
  },
  {
   "cell_type": "code",
   "execution_count": 15,
   "id": "224fdb97-ab05-4908-848f-2850b906d849",
   "metadata": {},
   "outputs": [
    {
     "name": "stderr",
     "output_type": "stream",
     "text": [
      "<ipython-input-15-0dfa8b193204>:1: SettingWithCopyWarning: \n",
      "A value is trying to be set on a copy of a slice from a DataFrame.\n",
      "Try using .loc[row_indexer,col_indexer] = value instead\n",
      "\n",
      "See the caveats in the documentation: https://pandas.pydata.org/pandas-docs/stable/user_guide/indexing.html#returning-a-view-versus-a-copy\n",
      "  df[\"text_clean\"] = df[\"text_clean\"].apply(lambda x: lemma(x))\n"
     ]
    },
    {
     "data": {
      "text/html": [
       "<div>\n",
       "<style scoped>\n",
       "    .dataframe tbody tr th:only-of-type {\n",
       "        vertical-align: middle;\n",
       "    }\n",
       "\n",
       "    .dataframe tbody tr th {\n",
       "        vertical-align: top;\n",
       "    }\n",
       "\n",
       "    .dataframe thead th {\n",
       "        text-align: right;\n",
       "    }\n",
       "</style>\n",
       "<table border=\"1\" class=\"dataframe\">\n",
       "  <thead>\n",
       "    <tr style=\"text-align: right;\">\n",
       "      <th></th>\n",
       "      <th>id</th>\n",
       "      <th>text</th>\n",
       "      <th>target</th>\n",
       "      <th>text_clean</th>\n",
       "    </tr>\n",
       "  </thead>\n",
       "  <tbody>\n",
       "    <tr>\n",
       "      <th>0</th>\n",
       "      <td>1</td>\n",
       "      <td>Our Deeds are the Reason of this #earthquake M...</td>\n",
       "      <td>1</td>\n",
       "      <td>deed reason earthquake allah forgive</td>\n",
       "    </tr>\n",
       "    <tr>\n",
       "      <th>1</th>\n",
       "      <td>4</td>\n",
       "      <td>Forest fire near La Ronge Sask. Canada</td>\n",
       "      <td>1</td>\n",
       "      <td>forest fire near la ronge sask canada</td>\n",
       "    </tr>\n",
       "    <tr>\n",
       "      <th>2</th>\n",
       "      <td>5</td>\n",
       "      <td>All residents asked to 'shelter in place' are ...</td>\n",
       "      <td>1</td>\n",
       "      <td>resident ask shelter place notify officer evac...</td>\n",
       "    </tr>\n",
       "    <tr>\n",
       "      <th>3</th>\n",
       "      <td>6</td>\n",
       "      <td>13,000 people receive #wildfires evacuation or...</td>\n",
       "      <td>1</td>\n",
       "      <td>people receive wildfire evacuation order cal...</td>\n",
       "    </tr>\n",
       "    <tr>\n",
       "      <th>4</th>\n",
       "      <td>7</td>\n",
       "      <td>Just got sent this photo from Ruby #Alaska as ...</td>\n",
       "      <td>1</td>\n",
       "      <td>got send photo ruby alaska smoke wildfire pour...</td>\n",
       "    </tr>\n",
       "  </tbody>\n",
       "</table>\n",
       "</div>"
      ],
      "text/plain": [
       "   id                                               text  target  \\\n",
       "0   1  Our Deeds are the Reason of this #earthquake M...       1   \n",
       "1   4             Forest fire near La Ronge Sask. Canada       1   \n",
       "2   5  All residents asked to 'shelter in place' are ...       1   \n",
       "3   6  13,000 people receive #wildfires evacuation or...       1   \n",
       "4   7  Just got sent this photo from Ruby #Alaska as ...       1   \n",
       "\n",
       "                                          text_clean  \n",
       "0               deed reason earthquake allah forgive  \n",
       "1              forest fire near la ronge sask canada  \n",
       "2  resident ask shelter place notify officer evac...  \n",
       "3    people receive wildfire evacuation order cal...  \n",
       "4  got send photo ruby alaska smoke wildfire pour...  "
      ]
     },
     "execution_count": 15,
     "metadata": {},
     "output_type": "execute_result"
    }
   ],
   "source": [
    "df[\"text_clean\"] = df[\"text_clean\"].apply(lambda x: lemma(x))\n",
    "df.head()\n",
    "# Application da la fonction lemma"
   ]
  },
  {
   "cell_type": "code",
   "execution_count": 16,
   "id": "f41cccf7-ad23-46d8-b24a-19228f9eeb6f",
   "metadata": {},
   "outputs": [],
   "source": [
    "tokenizer = tf.keras.preprocessing.text.Tokenizer() "
   ]
  },
  {
   "cell_type": "code",
   "execution_count": 17,
   "id": "0c5465c6-8773-49ca-be18-1a150ce9df93",
   "metadata": {},
   "outputs": [],
   "source": [
    "tokenizer.fit_on_texts(df[\"text_clean\"])\n",
    "df[\"text_encoded\"] = tokenizer.texts_to_sequences(df[\"text_clean\"])\n",
    "df[\"len_text\"] = df[\"text_encoded\"].apply(lambda x: len(x))\n",
    "df = df[df[\"len_text\"]!=0]"
   ]
  },
  {
   "cell_type": "code",
   "execution_count": 18,
   "id": "7e52800e-1a3d-48d3-aa6e-128d9563728c",
   "metadata": {},
   "outputs": [
    {
     "data": {
      "text/html": [
       "<div>\n",
       "<style scoped>\n",
       "    .dataframe tbody tr th:only-of-type {\n",
       "        vertical-align: middle;\n",
       "    }\n",
       "\n",
       "    .dataframe tbody tr th {\n",
       "        vertical-align: top;\n",
       "    }\n",
       "\n",
       "    .dataframe thead th {\n",
       "        text-align: right;\n",
       "    }\n",
       "</style>\n",
       "<table border=\"1\" class=\"dataframe\">\n",
       "  <thead>\n",
       "    <tr style=\"text-align: right;\">\n",
       "      <th></th>\n",
       "      <th>id</th>\n",
       "      <th>text</th>\n",
       "      <th>target</th>\n",
       "      <th>text_clean</th>\n",
       "      <th>text_encoded</th>\n",
       "      <th>len_text</th>\n",
       "    </tr>\n",
       "  </thead>\n",
       "  <tbody>\n",
       "    <tr>\n",
       "      <th>0</th>\n",
       "      <td>1</td>\n",
       "      <td>Our Deeds are the Reason of this #earthquake M...</td>\n",
       "      <td>1</td>\n",
       "      <td>deed reason earthquake allah forgive</td>\n",
       "      <td>[3483, 406, 165, 1327, 1638]</td>\n",
       "      <td>5</td>\n",
       "    </tr>\n",
       "    <tr>\n",
       "      <th>1</th>\n",
       "      <td>4</td>\n",
       "      <td>Forest fire near La Ronge Sask. Canada</td>\n",
       "      <td>1</td>\n",
       "      <td>forest fire near la ronge sask canada</td>\n",
       "      <td>[117, 4, 156, 512, 5191, 5192, 936]</td>\n",
       "      <td>7</td>\n",
       "    </tr>\n",
       "    <tr>\n",
       "      <th>2</th>\n",
       "      <td>5</td>\n",
       "      <td>All residents asked to 'shelter in place' are ...</td>\n",
       "      <td>1</td>\n",
       "      <td>resident ask shelter place notify officer evac...</td>\n",
       "      <td>[1328, 435, 1639, 317, 5193, 290, 179, 1639, 3...</td>\n",
       "      <td>11</td>\n",
       "    </tr>\n",
       "    <tr>\n",
       "      <th>3</th>\n",
       "      <td>6</td>\n",
       "      <td>13,000 people receive #wildfires evacuation or...</td>\n",
       "      <td>1</td>\n",
       "      <td>people receive wildfire evacuation order cal...</td>\n",
       "      <td>[9, 2221, 68, 179, 276, 36]</td>\n",
       "      <td>6</td>\n",
       "    </tr>\n",
       "    <tr>\n",
       "      <th>4</th>\n",
       "      <td>7</td>\n",
       "      <td>Just got sent this photo from Ruby #Alaska as ...</td>\n",
       "      <td>1</td>\n",
       "      <td>got send photo ruby alaska smoke wildfire pour...</td>\n",
       "      <td>[277, 172, 124, 5194, 1640, 166, 68, 2222, 105]</td>\n",
       "      <td>9</td>\n",
       "    </tr>\n",
       "  </tbody>\n",
       "</table>\n",
       "</div>"
      ],
      "text/plain": [
       "   id                                               text  target  \\\n",
       "0   1  Our Deeds are the Reason of this #earthquake M...       1   \n",
       "1   4             Forest fire near La Ronge Sask. Canada       1   \n",
       "2   5  All residents asked to 'shelter in place' are ...       1   \n",
       "3   6  13,000 people receive #wildfires evacuation or...       1   \n",
       "4   7  Just got sent this photo from Ruby #Alaska as ...       1   \n",
       "\n",
       "                                          text_clean  \\\n",
       "0               deed reason earthquake allah forgive   \n",
       "1              forest fire near la ronge sask canada   \n",
       "2  resident ask shelter place notify officer evac...   \n",
       "3    people receive wildfire evacuation order cal...   \n",
       "4  got send photo ruby alaska smoke wildfire pour...   \n",
       "\n",
       "                                        text_encoded  len_text  \n",
       "0                       [3483, 406, 165, 1327, 1638]         5  \n",
       "1                [117, 4, 156, 512, 5191, 5192, 936]         7  \n",
       "2  [1328, 435, 1639, 317, 5193, 290, 179, 1639, 3...        11  \n",
       "3                        [9, 2221, 68, 179, 276, 36]         6  \n",
       "4    [277, 172, 124, 5194, 1640, 166, 68, 2222, 105]         9  "
      ]
     },
     "execution_count": 18,
     "metadata": {},
     "output_type": "execute_result"
    }
   ],
   "source": [
    "df.head()"
   ]
  },
  {
   "cell_type": "code",
   "execution_count": null,
   "id": "09e7553f-91e3-481f-8325-dc49496d2bea",
   "metadata": {},
   "outputs": [],
   "source": []
  },
  {
   "cell_type": "code",
   "execution_count": 19,
   "id": "20f59557-4142-44d7-beec-77be5c82016d",
   "metadata": {},
   "outputs": [],
   "source": [
    "reviews_pad = tf.keras.preprocessing.sequence.pad_sequences(df.text_encoded, padding=\"post\")"
   ]
  },
  {
   "cell_type": "code",
   "execution_count": 20,
   "id": "2531c672-38a2-4ee4-9fc3-857182ed68ba",
   "metadata": {},
   "outputs": [
    {
     "data": {
      "text/plain": [
       "array([[3483,  406,  165, ...,    0,    0,    0],\n",
       "       [ 117,    4,  156, ...,    0,    0,    0],\n",
       "       [1328,  435, 1639, ...,    0,    0,    0],\n",
       "       ...,\n",
       "       [   7,  387, 1205, ...,    0,    0,    0],\n",
       "       [  25,  717, 2473, ...,    0,    0,    0],\n",
       "       [ 107,   29,  348, ...,    0,    0,    0]])"
      ]
     },
     "execution_count": 20,
     "metadata": {},
     "output_type": "execute_result"
    }
   ],
   "source": [
    "reviews_pad"
   ]
  },
  {
   "cell_type": "code",
   "execution_count": 33,
   "id": "a9c30a30-0b36-4488-94c5-c86e91920272",
   "metadata": {},
   "outputs": [
    {
     "data": {
      "text/plain": [
       "(7611, 21)"
      ]
     },
     "execution_count": 33,
     "metadata": {},
     "output_type": "execute_result"
    }
   ],
   "source": [
    "reviews_pad.shape"
   ]
  },
  {
   "cell_type": "code",
   "execution_count": 21,
   "id": "7dada492-6bd4-460a-8050-2a4dd9a9eefd",
   "metadata": {},
   "outputs": [],
   "source": [
    "full_ds = tf.data.Dataset.from_tensor_slices((reviews_pad, df[\"target\"].values)) # Création de tensorflow dataset"
   ]
  },
  {
   "cell_type": "code",
   "execution_count": 32,
   "id": "792b56e4-c837-46d3-9519-ebefd4913d61",
   "metadata": {},
   "outputs": [
    {
     "data": {
      "text/plain": [
       "<TensorSliceDataset shapes: ((21,), ()), types: (tf.int32, tf.int64)>"
      ]
     },
     "execution_count": 32,
     "metadata": {},
     "output_type": "execute_result"
    }
   ],
   "source": [
    "full_ds\n"
   ]
  },
  {
   "cell_type": "code",
   "execution_count": 22,
   "id": "22dce07d-54d7-4dcc-bdd9-2277de3aa66f",
   "metadata": {},
   "outputs": [],
   "source": [
    "# Train Test Split\n",
    "TAKE_SIZE = int(0.7*df.shape[0])\n",
    "\n",
    "train_data = full_ds.take(TAKE_SIZE).shuffle(TAKE_SIZE)\n",
    "train_data = train_data.batch(16)\n",
    "\n",
    "test_data = full_ds.skip(TAKE_SIZE)\n",
    "test_data = test_data.batch(16)"
   ]
  },
  {
   "cell_type": "code",
   "execution_count": 35,
   "id": "d152df99-97d6-4e89-8ae7-80082d68bc51",
   "metadata": {},
   "outputs": [
    {
     "name": "stdout",
     "output_type": "stream",
     "text": [
      "tf.Tensor(\n",
      "[[ 1716  2343   595  2858  2344  1715   148   368     0     0     0     0\n",
      "      0     0     0     0     0     0     0     0     0]\n",
      " [  128  1914   198   697   693  2068  8666   847    51    53   697  8667\n",
      "      0     0     0     0     0     0     0     0     0]\n",
      " [ 1350  1010  1144  1912  5564   294     0     0     0     0     0     0\n",
      "      0     0     0     0     0     0     0     0     0]\n",
      " [ 1110  4381 10330 10331   435   275     0     0     0     0     0     0\n",
      "      0     0     0     0     0     0     0     0     0]\n",
      " [  753  1400   371  3551    96    38  9891  9892  3025   823     0     0\n",
      "      0     0     0     0     0     0     0     0     0]\n",
      " [ 5934  1667   668  5935     7  5936  2843  5937     0     0     0     0\n",
      "      0     0     0     0     0     0     0     0     0]\n",
      " [  117    70   732  1315  3936     4     0     0     0     0     0     0\n",
      "      0     0     0     0     0     0     0     0     0]\n",
      " [  517   397  7169   517    42    87     0     0     0     0     0     0\n",
      "      0     0     0     0     0     0     0     0     0]\n",
      " [10108     1    34  1000   536   514  1164 10109   609    26     0     0\n",
      "      0     0     0     0     0     0     0     0     0]\n",
      " [ 1584  1944   106  2111  3488 10363  1944  4744    83   342    67  2442\n",
      "      0     0     0     0     0     0     0     0     0]\n",
      " [ 7052     1     2  1223   519    43  1788  7053  2406  7054     0     0\n",
      "      0     0     0     0     0     0     0     0     0]\n",
      " [  134  7986     0     0     0     0     0     0     0     0     0     0\n",
      "      0     0     0     0     0     0     0     0     0]\n",
      " [   48  5816  3700   340   100   469   846  2314   365  1018   258   632\n",
      "    412   633   114     0     0     0     0     0     0]\n",
      " [    1   172  2734  2250    58   135   159   321   822     0     0     0\n",
      "      0     0     0     0     0     0     0     0     0]\n",
      " [ 4579  9383   202  1089    86   168   624     0     0     0     0     0\n",
      "      0     0     0     0     0     0     0     0     0]\n",
      " [ 3918  1397  1742    81     9    11    32     0     0     0     0     0\n",
      "      0     0     0     0     0     0     0     0     0]], shape=(16, 21), dtype=int32) tf.Tensor([0 1 0 0 0 0 1 0 1 0 0 0 0 0 1 0], shape=(16,), dtype=int64)\n"
     ]
    }
   ],
   "source": [
    "for review, target in train_data.take(1):\n",
    "    print(review, target)"
   ]
  },
  {
   "cell_type": "code",
   "execution_count": 23,
   "id": "2fa58d43-c713-4259-8988-279c375f63c4",
   "metadata": {},
   "outputs": [],
   "source": [
    "train=reviews_pad[:df.shape[0]]\n",
    "test=reviews_pad[df.shape[0]:]"
   ]
  },
  {
   "cell_type": "code",
   "execution_count": 24,
   "id": "4f0d4a06-683b-437d-aa7c-7090007b98b2",
   "metadata": {},
   "outputs": [
    {
     "data": {
      "text/plain": [
       "array([[3483,  406,  165, ...,    0,    0,    0],\n",
       "       [ 117,    4,  156, ...,    0,    0,    0],\n",
       "       [1328,  435, 1639, ...,    0,    0,    0],\n",
       "       ...,\n",
       "       [   7,  387, 1205, ...,    0,    0,    0],\n",
       "       [  25,  717, 2473, ...,    0,    0,    0],\n",
       "       [ 107,   29,  348, ...,    0,    0,    0]])"
      ]
     },
     "execution_count": 24,
     "metadata": {},
     "output_type": "execute_result"
    }
   ],
   "source": [
    "train"
   ]
  },
  {
   "cell_type": "code",
   "execution_count": 25,
   "id": "d98d8680-3bbb-4c40-aeb0-f53e4d2a303d",
   "metadata": {},
   "outputs": [
    {
     "data": {
      "text/plain": [
       "array([], shape=(0, 21), dtype=int32)"
      ]
     },
     "execution_count": 25,
     "metadata": {},
     "output_type": "execute_result"
    }
   ],
   "source": [
    "test"
   ]
  },
  {
   "cell_type": "code",
   "execution_count": 26,
   "id": "058eec1d-94dc-41c9-948d-0bc73d0bf559",
   "metadata": {},
   "outputs": [],
   "source": [
    "#for text, target in train_data.take(1):\n",
    "  #print(text, target)"
   ]
  },
  {
   "cell_type": "code",
   "execution_count": 27,
   "id": "6619220d-7fc8-4a2b-adf3-88c35a428642",
   "metadata": {},
   "outputs": [
    {
     "data": {
      "text/plain": [
       "14297"
      ]
     },
     "execution_count": 27,
     "metadata": {},
     "output_type": "execute_result"
    }
   ],
   "source": [
    "vocab_size = len(tokenizer.word_index)\n",
    "vocab_size"
   ]
  },
  {
   "cell_type": "code",
   "execution_count": 28,
   "id": "8fa28a02-cd55-4395-80e2-171e95ac8546",
   "metadata": {},
   "outputs": [],
   "source": [
    "# Création d'un modèle de deep learning\n",
    "\n",
    "model=tf.keras.Sequential([\n",
    "    tf.keras.layers.Embedding(vocab_size+1, 64,input_shape=[test.shape[1]]),\n",
    "    tf.keras.layers.Flatten(),\n",
    "    tf.keras.layers.Dense(64, activation='relu'),\n",
    "    tf.keras.layers.Dense(64, activation='relu'),\n",
    "    tf.keras.layers.Dense(1, activation='sigmoid')\n",
    "])"
   ]
  },
  {
   "cell_type": "code",
   "execution_count": 29,
   "id": "4a96dcef-d392-4bd0-b78c-f374c00cb907",
   "metadata": {},
   "outputs": [
    {
     "name": "stdout",
     "output_type": "stream",
     "text": [
      "Model: \"sequential\"\n",
      "_________________________________________________________________\n",
      "Layer (type)                 Output Shape              Param #   \n",
      "=================================================================\n",
      "embedding (Embedding)        (None, 21, 64)            915072    \n",
      "_________________________________________________________________\n",
      "flatten (Flatten)            (None, 1344)              0         \n",
      "_________________________________________________________________\n",
      "dense (Dense)                (None, 64)                86080     \n",
      "_________________________________________________________________\n",
      "dense_1 (Dense)              (None, 64)                4160      \n",
      "_________________________________________________________________\n",
      "dense_2 (Dense)              (None, 1)                 65        \n",
      "=================================================================\n",
      "Total params: 1,005,377\n",
      "Trainable params: 1,005,377\n",
      "Non-trainable params: 0\n",
      "_________________________________________________________________\n"
     ]
    }
   ],
   "source": [
    "model.summary()"
   ]
  },
  {
   "cell_type": "code",
   "execution_count": 30,
   "id": "38b2baad-33f7-4a4e-ad1c-29860785812f",
   "metadata": {},
   "outputs": [],
   "source": [
    "opt = tf.keras.optimizers.Adam(learning_rate=1e-5)\n",
    "model.compile(loss='binary_crossentropy',optimizer=opt,metrics=['accuracy'])"
   ]
  },
  {
   "cell_type": "code",
   "execution_count": 42,
   "id": "780129b5-6416-46b5-8717-55a4d7a56217",
   "metadata": {},
   "outputs": [
    {
     "name": "stdout",
     "output_type": "stream",
     "text": [
      "Shape of train (6469, 21)\n",
      "Shape of Validation  (1142, 21)\n"
     ]
    }
   ],
   "source": [
    "X_train,X_test,y_train,y_test=train_test_split(train,df['target'].values,test_size=0.15)\n",
    "print('Shape of train',X_train.shape)\n",
    "print(\"Shape of Validation \",X_test.shape)"
   ]
  },
  {
   "cell_type": "code",
   "execution_count": 37,
   "id": "23722918-743b-4e11-b9aa-71ea039b8cf2",
   "metadata": {},
   "outputs": [
    {
     "name": "stdout",
     "output_type": "stream",
     "text": [
      "Epoch 1/30\n",
      "333/333 - 7s - loss: 0.5521 - accuracy: 0.8350 - val_loss: 0.6383 - val_accuracy: 0.6502\n",
      "Epoch 2/30\n",
      "333/333 - 7s - loss: 0.5340 - accuracy: 0.8434 - val_loss: 0.6309 - val_accuracy: 0.6546\n",
      "Epoch 3/30\n",
      "333/333 - 7s - loss: 0.5148 - accuracy: 0.8524 - val_loss: 0.6257 - val_accuracy: 0.6651\n",
      "Epoch 4/30\n",
      "333/333 - 7s - loss: 0.4949 - accuracy: 0.8577 - val_loss: 0.6178 - val_accuracy: 0.6620\n",
      "Epoch 5/30\n",
      "333/333 - 7s - loss: 0.4743 - accuracy: 0.8633 - val_loss: 0.6105 - val_accuracy: 0.6624\n",
      "Epoch 6/30\n",
      "333/333 - 8s - loss: 0.4541 - accuracy: 0.8697 - val_loss: 0.6050 - val_accuracy: 0.6729\n",
      "Epoch 7/30\n",
      "333/333 - 7s - loss: 0.4339 - accuracy: 0.8742 - val_loss: 0.5996 - val_accuracy: 0.6843\n",
      "Epoch 8/30\n",
      "333/333 - 7s - loss: 0.4142 - accuracy: 0.8825 - val_loss: 0.5957 - val_accuracy: 0.6874\n",
      "Epoch 9/30\n",
      "333/333 - 7s - loss: 0.3953 - accuracy: 0.8879 - val_loss: 0.5878 - val_accuracy: 0.6918\n",
      "Epoch 10/30\n",
      "333/333 - 8s - loss: 0.3766 - accuracy: 0.8919 - val_loss: 0.5826 - val_accuracy: 0.6975\n",
      "Epoch 11/30\n",
      "333/333 - 7s - loss: 0.3587 - accuracy: 0.8960 - val_loss: 0.5798 - val_accuracy: 0.7084\n",
      "Epoch 12/30\n",
      "333/333 - 8s - loss: 0.3418 - accuracy: 0.9005 - val_loss: 0.5748 - val_accuracy: 0.7154\n",
      "Epoch 13/30\n",
      "333/333 - 7s - loss: 0.3253 - accuracy: 0.9054 - val_loss: 0.5714 - val_accuracy: 0.7172\n",
      "Epoch 14/30\n",
      "333/333 - 8s - loss: 0.3095 - accuracy: 0.9101 - val_loss: 0.5678 - val_accuracy: 0.7141\n",
      "Epoch 15/30\n",
      "333/333 - 8s - loss: 0.2948 - accuracy: 0.9155 - val_loss: 0.5653 - val_accuracy: 0.7185\n",
      "Epoch 16/30\n",
      "333/333 - 9s - loss: 0.2804 - accuracy: 0.9193 - val_loss: 0.5629 - val_accuracy: 0.7207\n",
      "Epoch 17/30\n",
      "333/333 - 8s - loss: 0.2668 - accuracy: 0.9247 - val_loss: 0.5619 - val_accuracy: 0.7259\n",
      "Epoch 18/30\n",
      "333/333 - 9s - loss: 0.2538 - accuracy: 0.9272 - val_loss: 0.5604 - val_accuracy: 0.7281\n",
      "Epoch 19/30\n",
      "333/333 - 8s - loss: 0.2414 - accuracy: 0.9298 - val_loss: 0.5587 - val_accuracy: 0.7246\n",
      "Epoch 20/30\n",
      "333/333 - 8s - loss: 0.2297 - accuracy: 0.9326 - val_loss: 0.5582 - val_accuracy: 0.7220\n",
      "Epoch 21/30\n",
      "333/333 - 7s - loss: 0.2183 - accuracy: 0.9354 - val_loss: 0.5594 - val_accuracy: 0.7281\n",
      "Epoch 22/30\n",
      "333/333 - 8s - loss: 0.2080 - accuracy: 0.9384 - val_loss: 0.5577 - val_accuracy: 0.7312\n",
      "Epoch 23/30\n",
      "333/333 - 7s - loss: 0.1976 - accuracy: 0.9414 - val_loss: 0.5595 - val_accuracy: 0.7299\n",
      "Epoch 24/30\n",
      "333/333 - 8s - loss: 0.1881 - accuracy: 0.9446 - val_loss: 0.5589 - val_accuracy: 0.7255\n",
      "Epoch 25/30\n",
      "333/333 - 8s - loss: 0.1790 - accuracy: 0.9472 - val_loss: 0.5610 - val_accuracy: 0.7307\n",
      "Epoch 26/30\n",
      "333/333 - 9s - loss: 0.1705 - accuracy: 0.9489 - val_loss: 0.5605 - val_accuracy: 0.7272\n",
      "Epoch 27/30\n",
      "333/333 - 8s - loss: 0.1624 - accuracy: 0.9518 - val_loss: 0.5619 - val_accuracy: 0.7250\n",
      "Epoch 28/30\n",
      "333/333 - 8s - loss: 0.1547 - accuracy: 0.9538 - val_loss: 0.5635 - val_accuracy: 0.7312\n",
      "Epoch 29/30\n",
      "333/333 - 7s - loss: 0.1474 - accuracy: 0.9557 - val_loss: 0.5657 - val_accuracy: 0.7264\n",
      "Epoch 30/30\n",
      "333/333 - 7s - loss: 0.1404 - accuracy: 0.9585 - val_loss: 0.5684 - val_accuracy: 0.7255\n"
     ]
    }
   ],
   "source": [
    "history=model.fit(train_data,batch_size=4,epochs=30,validation_data=test_data,verbose=2)"
   ]
  },
  {
   "cell_type": "code",
   "execution_count": 38,
   "id": "f04546f1-490e-4656-9733-6f34ed3387d4",
   "metadata": {},
   "outputs": [],
   "source": [
    "model.save(\"FakeTweet_model_2.h5\")"
   ]
  },
  {
   "cell_type": "code",
   "execution_count": 39,
   "id": "6b616d69-7a91-40ac-8fd3-1e8751f87cec",
   "metadata": {},
   "outputs": [],
   "source": [
    "# Get the dictionary containing each metric and the loss for each epoch\n",
    "history_dict = model.history.history\n",
    "# Save it under the form of a json file\n",
    "json.dump(history_dict, open(\"FakeTweet_history_2.json\", 'w'))"
   ]
  },
  {
   "cell_type": "code",
   "execution_count": 40,
   "id": "95951e83-e777-4613-b6ad-9a9d1c5a2f17",
   "metadata": {},
   "outputs": [],
   "source": [
    "model = tf.keras.models.load_model(\"FakeTweet_model_2.h5\")"
   ]
  },
  {
   "cell_type": "markdown",
   "id": "107dac91-0857-42a8-8813-4782872e6869",
   "metadata": {},
   "source": [
    "## Test du model"
   ]
  },
  {
   "cell_type": "markdown",
   "id": "454d28ad-6daa-4d2b-a8c4-ebd45407ef1e",
   "metadata": {},
   "source": [
    "On récupère le csv_test du projet fake news. On va réaliser des predictions sur les tweets(faux ou vrai) et comparer la prédiction avec la target. "
   ]
  },
  {
   "cell_type": "code",
   "execution_count": 43,
   "id": "3486445f-4419-447f-98f7-74b8d364e432",
   "metadata": {},
   "outputs": [],
   "source": [
    "predictions = model.predict(X_test)"
   ]
  },
  {
   "cell_type": "code",
   "execution_count": 44,
   "id": "a0f1791a-f985-4017-a586-84d58bb4d924",
   "metadata": {},
   "outputs": [
    {
     "data": {
      "text/plain": [
       "array([[0.33219686],\n",
       "       [0.25953227],\n",
       "       [0.19684938],\n",
       "       ...,\n",
       "       [0.07439739],\n",
       "       [0.1318562 ],\n",
       "       [0.99148774]], dtype=float32)"
      ]
     },
     "execution_count": 44,
     "metadata": {},
     "output_type": "execute_result"
    }
   ],
   "source": [
    "predictions"
   ]
  },
  {
   "cell_type": "code",
   "execution_count": 45,
   "id": "e56bae01-c9fc-4b3e-b8d9-ac4cb9396f05",
   "metadata": {},
   "outputs": [],
   "source": [
    "pred_label = tf.argmax(predictions, axis=-1).numpy()"
   ]
  },
  {
   "cell_type": "code",
   "execution_count": 46,
   "id": "bfefaa97-32a6-4188-811e-0345af40c58d",
   "metadata": {},
   "outputs": [
    {
     "data": {
      "text/plain": [
       "array([0, 0, 0, ..., 0, 0, 0], dtype=int64)"
      ]
     },
     "execution_count": 46,
     "metadata": {},
     "output_type": "execute_result"
    }
   ],
   "source": [
    "pred_label"
   ]
  },
  {
   "cell_type": "code",
   "execution_count": 47,
   "id": "08dff117-289a-4ad8-a436-2c97753ce6d6",
   "metadata": {},
   "outputs": [
    {
     "data": {
      "text/plain": [
       "1142"
      ]
     },
     "execution_count": 47,
     "metadata": {},
     "output_type": "execute_result"
    }
   ],
   "source": [
    "len(pred_label)"
   ]
  },
  {
   "cell_type": "code",
   "execution_count": 48,
   "id": "7135e21e-29ea-4be0-a712-1d210f849fcc",
   "metadata": {},
   "outputs": [
    {
     "name": "stdout",
     "output_type": "stream",
     "text": [
      "[[646   0]\n",
      " [496   0]]\n"
     ]
    }
   ],
   "source": [
    "#Get the confusion matrix\n",
    "cf_matrix = confusion_matrix(y_test, pred_label)\n",
    "print(cf_matrix)"
   ]
  },
  {
   "cell_type": "markdown",
   "id": "fd079a4f-986b-4caa-9c11-872abc5d41dc",
   "metadata": {},
   "source": [
    "**Conclusion**  \n",
    "  \n",
    "Le preprocessing à permit de transformer les tweets en tensor tensoflow.  \n",
    "Le modèle de deep learning est construit avec plusieurs couches de neurones.  \n",
    "\n",
    "Après entrainement du modèle on arrive à une accuracy de 95% avec les données train et 72% avec les données test.  \n",
    "**Cependant** la matrice de confusion montre que notre modèle n'arrive pas a prédire un **faux tweet**. Inversement le modèle ne prédit aucun faux tweet alors qu'il est vraie. On peut conclure : \n",
    "- Le modèle n'arrive pas à apprendre avec mes données et il prédit  que tout les tweets sont vrais.  \n",
    "- Problème d'over fiting  \n",
    "  \n",
    "**Perspectives**  \n",
    "Utilisation de bert ? \n",
    "Retravailler le modèle (les couches de neurones)"
   ]
  },
  {
   "cell_type": "code",
   "execution_count": null,
   "id": "daa338ae-1f5b-408d-ab3b-c57c6b3b62fb",
   "metadata": {},
   "outputs": [],
   "source": []
  }
 ],
 "metadata": {
  "kernelspec": {
   "display_name": "Python 3",
   "language": "python",
   "name": "python3"
  },
  "language_info": {
   "codemirror_mode": {
    "name": "ipython",
    "version": 3
   },
   "file_extension": ".py",
   "mimetype": "text/x-python",
   "name": "python",
   "nbconvert_exporter": "python",
   "pygments_lexer": "ipython3",
   "version": "3.8.10"
  }
 },
 "nbformat": 4,
 "nbformat_minor": 5
}
