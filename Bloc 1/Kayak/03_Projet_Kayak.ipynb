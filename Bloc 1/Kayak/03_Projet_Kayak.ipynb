{
 "cells": [
  {
   "cell_type": "markdown",
   "metadata": {},
   "source": [
    "![Kayak](https://seekvectorlogo.com/wp-content/uploads/2018/01/kayak-vector-logo.png)"
   ]
  },
  {
   "cell_type": "markdown",
   "metadata": {},
   "source": [
    "Maintenant nous avons deux résultats :  \n",
    "- Un fichier csv contenant la géolocalisation et la météo des villes\n",
    "- Un fichier json contenant les hotels, notes... pour les villes sélectionées.  \n",
    "  \n",
    "L'objectif est double :  \n",
    "- Créer un dataframe avec les valerus du fichier json\n",
    "- Enregistrer nos données concernant les villes et les hôtels dans un dataLake (AWS)"
   ]
  },
  {
   "cell_type": "code",
   "execution_count": 1,
   "metadata": {
    "tags": []
   },
   "outputs": [],
   "source": [
    "import pandas as pd\n",
    "import plotly.express as px\n",
    "import boto3"
   ]
  },
  {
   "cell_type": "code",
   "execution_count": 2,
   "metadata": {},
   "outputs": [
    {
     "data": {
      "text/html": [
       "<div>\n",
       "<style scoped>\n",
       "    .dataframe tbody tr th:only-of-type {\n",
       "        vertical-align: middle;\n",
       "    }\n",
       "\n",
       "    .dataframe tbody tr th {\n",
       "        vertical-align: top;\n",
       "    }\n",
       "\n",
       "    .dataframe thead th {\n",
       "        text-align: right;\n",
       "    }\n",
       "</style>\n",
       "<table border=\"1\" class=\"dataframe\">\n",
       "  <thead>\n",
       "    <tr style=\"text-align: right;\">\n",
       "      <th></th>\n",
       "      <th>id_ville</th>\n",
       "      <th>Ville</th>\n",
       "      <th>latitude</th>\n",
       "      <th>longitude</th>\n",
       "      <th>main_weather</th>\n",
       "      <th>expected_rain</th>\n",
       "    </tr>\n",
       "  </thead>\n",
       "  <tbody>\n",
       "    <tr>\n",
       "      <th>0</th>\n",
       "      <td>7</td>\n",
       "      <td>Lille</td>\n",
       "      <td>50.636565</td>\n",
       "      <td>3.063528</td>\n",
       "      <td>Clouds</td>\n",
       "      <td>3.6870</td>\n",
       "    </tr>\n",
       "    <tr>\n",
       "      <th>1</th>\n",
       "      <td>5</td>\n",
       "      <td>Paris</td>\n",
       "      <td>48.856697</td>\n",
       "      <td>2.351462</td>\n",
       "      <td>Clear</td>\n",
       "      <td>3.7847</td>\n",
       "    </tr>\n",
       "    <tr>\n",
       "      <th>2</th>\n",
       "      <td>6</td>\n",
       "      <td>Amiens</td>\n",
       "      <td>49.894171</td>\n",
       "      <td>2.295695</td>\n",
       "      <td>Clouds</td>\n",
       "      <td>4.5048</td>\n",
       "    </tr>\n",
       "    <tr>\n",
       "      <th>3</th>\n",
       "      <td>0</td>\n",
       "      <td>Mont Saint Michel</td>\n",
       "      <td>48.635523</td>\n",
       "      <td>-1.510257</td>\n",
       "      <td>Rain</td>\n",
       "      <td>5.3364</td>\n",
       "    </tr>\n",
       "    <tr>\n",
       "      <th>4</th>\n",
       "      <td>4</td>\n",
       "      <td>Rouen</td>\n",
       "      <td>49.440459</td>\n",
       "      <td>1.093966</td>\n",
       "      <td>Clouds</td>\n",
       "      <td>6.4300</td>\n",
       "    </tr>\n",
       "  </tbody>\n",
       "</table>\n",
       "</div>"
      ],
      "text/plain": [
       "   id_ville              Ville   latitude  longitude main_weather  \\\n",
       "0         7              Lille  50.636565   3.063528       Clouds   \n",
       "1         5              Paris  48.856697   2.351462        Clear   \n",
       "2         6             Amiens  49.894171   2.295695       Clouds   \n",
       "3         0  Mont Saint Michel  48.635523  -1.510257         Rain   \n",
       "4         4              Rouen  49.440459   1.093966       Clouds   \n",
       "\n",
       "   expected_rain  \n",
       "0         3.6870  \n",
       "1         3.7847  \n",
       "2         4.5048  \n",
       "3         5.3364  \n",
       "4         6.4300  "
      ]
     },
     "execution_count": 2,
     "metadata": {},
     "output_type": "execute_result"
    }
   ],
   "source": [
    "df = pd.read_csv('destinations.csv')\n",
    "df.head()"
   ]
  },
  {
   "cell_type": "code",
   "execution_count": 4,
   "metadata": {},
   "outputs": [
    {
     "name": "stdin",
     "output_type": "stream",
     "text": [
      "Quelle ville aviez vous choisi ? Paris\n"
     ]
    }
   ],
   "source": [
    "ville = input(\"Quelle ville aviez vous choisi ?\")"
   ]
  },
  {
   "cell_type": "code",
   "execution_count": 5,
   "metadata": {},
   "outputs": [],
   "source": [
    "hotels = pd.DataFrame(columns = ['city_id', 'city_name', 'hotel_id']) #Création d'un dataframe\n",
    "\n",
    "\n",
    "temp_dataset = pd.read_json('hotel_{}.json'.format(ville)) # On récupère le document json de la ville étudiée\n",
    "temp_dataset = temp_dataset.reset_index().rename({'index': 'hotel_id'}, axis = 1) # Changement de la colonne index\n",
    "temp_dataset.loc[:,'city_id'] = df['id_ville'][0] # On récupère l'id de la ville du df, pour l'associer à city_id\n",
    "temp_dataset.loc[:,'city_name'] = ville # Dans la colonne \"city_name\" on ajoute le nom de la ville choisi \n",
    "    \n",
    "# préprocessing des valeurs scrappées\n",
    "temp_dataset.loc[:, 'hotel_name'] = temp_dataset['hotel_name'].str.replace('\\n', '') \n",
    "temp_dataset.loc[:, 'hotel_url'] = temp_dataset['hotel_url'].str.replace('\\n', '')\n",
    "temp_dataset.loc[:, 'hotel_description'] = temp_dataset['hotel_description'].str.replace('\\n', '')\n",
    "\n",
    "\n",
    "hotels = hotels.append(temp_dataset) # On ajoute l'ensemble des valeurs dans le dataframe \"hotels\""
   ]
  },
  {
   "cell_type": "code",
   "execution_count": 6,
   "metadata": {},
   "outputs": [
    {
     "data": {
      "text/html": [
       "<div>\n",
       "<style scoped>\n",
       "    .dataframe tbody tr th:only-of-type {\n",
       "        vertical-align: middle;\n",
       "    }\n",
       "\n",
       "    .dataframe tbody tr th {\n",
       "        vertical-align: top;\n",
       "    }\n",
       "\n",
       "    .dataframe thead th {\n",
       "        text-align: right;\n",
       "    }\n",
       "</style>\n",
       "<table border=\"1\" class=\"dataframe\">\n",
       "  <thead>\n",
       "    <tr style=\"text-align: right;\">\n",
       "      <th></th>\n",
       "      <th>city_id</th>\n",
       "      <th>city_name</th>\n",
       "      <th>hotel_id</th>\n",
       "      <th>hotel_name</th>\n",
       "      <th>hotel_url</th>\n",
       "      <th>hotel_note</th>\n",
       "      <th>hotel_description</th>\n",
       "    </tr>\n",
       "  </thead>\n",
       "  <tbody>\n",
       "    <tr>\n",
       "      <th>0</th>\n",
       "      <td>7</td>\n",
       "      <td>Paris</td>\n",
       "      <td>0</td>\n",
       "      <td>ibis budget Paris Porte de Vincennes</td>\n",
       "      <td>/hotel/fr/ibis-budget-paris-porte-de-vincennes...</td>\n",
       "      <td>7,1</td>\n",
       "      <td>Situé à Paris, l'ibis budget Paris Porte de Vi...</td>\n",
       "    </tr>\n",
       "    <tr>\n",
       "      <th>1</th>\n",
       "      <td>7</td>\n",
       "      <td>Paris</td>\n",
       "      <td>1</td>\n",
       "      <td>hotelF1 Paris Porte de Châtillon</td>\n",
       "      <td>/hotel/fr/hotelf1-paris-porte-de-chatillon-par...</td>\n",
       "      <td>7,4</td>\n",
       "      <td>Situé dans le 14ème arrondissement de Paris, à...</td>\n",
       "    </tr>\n",
       "    <tr>\n",
       "      <th>2</th>\n",
       "      <td>7</td>\n",
       "      <td>Paris</td>\n",
       "      <td>2</td>\n",
       "      <td>Kyriad Paris 10 - Canal Saint Martin - République</td>\n",
       "      <td>/hotel/fr/kyriad-paris-10-canal-saint-martin-r...</td>\n",
       "      <td>7,5</td>\n",
       "      <td>Cet hôtel Kyriad se situe tout près de la plac...</td>\n",
       "    </tr>\n",
       "    <tr>\n",
       "      <th>3</th>\n",
       "      <td>7</td>\n",
       "      <td>Paris</td>\n",
       "      <td>3</td>\n",
       "      <td>ibis Budget Paris La Villette 19ème</td>\n",
       "      <td>/hotel/fr/ibis-budget-paris-la-villette.fr.htm...</td>\n",
       "      <td>7,4</td>\n",
       "      <td>L'ibis Budget Paris La Villette 19ème est situ...</td>\n",
       "    </tr>\n",
       "    <tr>\n",
       "      <th>4</th>\n",
       "      <td>7</td>\n",
       "      <td>Paris</td>\n",
       "      <td>4</td>\n",
       "      <td>Hôtel Jarry Confort</td>\n",
       "      <td>/hotel/fr/jarry-confort.fr.html?label=gen173nr...</td>\n",
       "      <td>6,4</td>\n",
       "      <td>L'Hôtel Jarry Confort se trouve dans le 10ème ...</td>\n",
       "    </tr>\n",
       "  </tbody>\n",
       "</table>\n",
       "</div>"
      ],
      "text/plain": [
       "  city_id city_name hotel_id  \\\n",
       "0       7     Paris        0   \n",
       "1       7     Paris        1   \n",
       "2       7     Paris        2   \n",
       "3       7     Paris        3   \n",
       "4       7     Paris        4   \n",
       "\n",
       "                                          hotel_name  \\\n",
       "0               ibis budget Paris Porte de Vincennes   \n",
       "1                   hotelF1 Paris Porte de Châtillon   \n",
       "2  Kyriad Paris 10 - Canal Saint Martin - République   \n",
       "3                ibis Budget Paris La Villette 19ème   \n",
       "4                                Hôtel Jarry Confort   \n",
       "\n",
       "                                           hotel_url hotel_note  \\\n",
       "0  /hotel/fr/ibis-budget-paris-porte-de-vincennes...       7,1    \n",
       "1  /hotel/fr/hotelf1-paris-porte-de-chatillon-par...       7,4    \n",
       "2  /hotel/fr/kyriad-paris-10-canal-saint-martin-r...       7,5    \n",
       "3  /hotel/fr/ibis-budget-paris-la-villette.fr.htm...       7,4    \n",
       "4  /hotel/fr/jarry-confort.fr.html?label=gen173nr...       6,4    \n",
       "\n",
       "                                   hotel_description  \n",
       "0  Situé à Paris, l'ibis budget Paris Porte de Vi...  \n",
       "1  Situé dans le 14ème arrondissement de Paris, à...  \n",
       "2  Cet hôtel Kyriad se situe tout près de la plac...  \n",
       "3  L'ibis Budget Paris La Villette 19ème est situ...  \n",
       "4  L'Hôtel Jarry Confort se trouve dans le 10ème ...  "
      ]
     },
     "execution_count": 6,
     "metadata": {},
     "output_type": "execute_result"
    }
   ],
   "source": [
    "hotels.head()"
   ]
  },
  {
   "cell_type": "code",
   "execution_count": 17,
   "metadata": {},
   "outputs": [],
   "source": [
    "hotels.to_csv('hotels.csv', index=False) # enregistrment en csv"
   ]
  },
  {
   "cell_type": "code",
   "execution_count": null,
   "metadata": {},
   "outputs": [],
   "source": [
    "# Crétation dans Data Lake dans une bucket S3 de AWS\n",
    "\n",
    "s3 = boto3.resource(\"s3\")  # s3 = session.resource(\"s3\")\n",
    "bucket_name = s3.create_bucket(Bucket=\"jedha_kayak\") \n",
    "\n",
    "\n",
    "hotels_csv = hotels.to_csv(index=False)\n",
    "put_object = bucket_name.put_object(Key = \"hotels.csv\", Body = hotels_csv)\n",
    "\n",
    "\n",
    "cities_csv = df.to_csv(index=False)\n",
    "put_object = bucket_name.put_object(Key = \"cities.csv\", Body = cities_csv)"
   ]
  }
 ],
 "metadata": {
  "kernelspec": {
   "display_name": "Python 3",
   "language": "python",
   "name": "python3"
  },
  "language_info": {
   "codemirror_mode": {
    "name": "ipython",
    "version": 3
   },
   "file_extension": ".py",
   "mimetype": "text/x-python",
   "name": "python",
   "nbconvert_exporter": "python",
   "pygments_lexer": "ipython3",
   "version": "3.8.10"
  }
 },
 "nbformat": 4,
 "nbformat_minor": 4
}
