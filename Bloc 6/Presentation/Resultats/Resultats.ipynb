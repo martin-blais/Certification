{
 "cells": [
  {
   "cell_type": "markdown",
   "metadata": {},
   "source": [
    "# Résultats des models (Transfer Learning)"
   ]
  },
  {
   "cell_type": "markdown",
   "metadata": {},
   "source": [
    "### Preprocessing \n",
    "\n",
    "    img_generator = tf.keras.preprocessing.image.ImageDataGenerator(#rotation_range=90,\n",
    "                                                                    brightness_range=(0.5,1), \n",
    "                                                                    #shear_range=0.2, \n",
    "                                                                    zoom_range=0.2,\n",
    "                                                                    channel_shift_range=0.2,\n",
    "                                                                    horizontal_flip=True,\n",
    "                                                                    vertical_flip=True,\n",
    "                                                                    rescale=1./255,\n",
    "                                                                    validation_split=0.2\n",
    "                                                                    )\n",
    "                                                                \n",
    "    img_generator_flow_train = img_generator.flow_from_directory(directory=\"/content/train\",\n",
    "                                                                 target_size=(150, 150),\n",
    "                                                                 batch_size=32,\n",
    "                                                                 shuffle=True,\n",
    "                                                                 subset=\"training\"\n",
    "                                                                 )\n",
    "\n",
    "    img_generator_flow_valid = img_generator.flow_from_directory(directory=\"/content/train\",\n",
    "                                                                   target_size=(150, 150),\n",
    "                                                                   batch_size=32,\n",
    "                                                                   shuffle=True,\n",
    "                                                                   subset=\"validation\"\n",
    "                                                                   )"
   ]
  },
  {
   "cell_type": "markdown",
   "metadata": {},
   "source": [
    "### DeepLearning Classification (6 classes)\n",
    "\n",
    "#### L'ensemble à été réalisé sur du transfert leanring\n",
    "#### Pour les premiers tests, les models sont réalisés sur 6 catégories (Dog, Cat, Knife, Guitar, Ball, Camera).\n",
    "\n",
    "\n",
    "* Test 1 InceptionV3:\n",
    "\n",
    "    \n",
    "    a) InceptionV3_1 (base_model.trainable = False)\n",
    "\n",
    "     voici le model : \n",
    "\n",
    "     base_model = tf.keras.applications.InceptionV3(input_shape=(150,150,3),\n",
    "                                                    include_top=False,\n",
    "                                                    weights = \"imagenet\"\n",
    "                                                   )\n",
    "     model = tf.keras.Sequential([base_model,\n",
    "                                  tf.keras.layers.MaxPooling2D(),\n",
    "                                  tf.keras.layers.Flatten(),\n",
    "                                  tf.keras.layers.Dense(6, activation=\"softmax\")\n",
    "                                  ])\n",
    "\n",
    "\n",
    "\n",
    "     loss = 0.70\n",
    "     Accuracy = 0.78\n",
    "     Val_loss = 1.17\n",
    "     Val_Accuracy = 0.71\n",
    "       \n",
    "     Observations : \n",
    "\n",
    "    b) Inception V3\n",
    "    \n",
    "    base_model.trainable = True\n",
    "    fine_tune_at = len(base_model.layers) - 30\n",
    "    for layer in base_model.layers[:fine_tune_at]:\n",
    "        layer.trainable = False\n",
    "\n",
    "     voici le model : \n",
    "\n",
    "     base_model = tf.keras.applications.InceptionV3(input_shape=(150,150,3),\n",
    "                                                    include_top=False,\n",
    "                                                    weights = \"imagenet\"\n",
    "                                                   )\n",
    "     model = tf.keras.Sequential([base_model,\n",
    "                                  tf.keras.layers.MaxPooling2D(),\n",
    "                                  tf.keras.layers.Flatten(),\n",
    "                                  tf.keras.layers.Dense(6, activation=\"softmax\")\n",
    "                                  ])\n",
    "\n",
    "\n",
    "\n",
    "     loss = 0.07\n",
    "     Accuracy = 0.97\n",
    "     Val_loss = 1.25\n",
    "     Val_Accuracy = 0.76\n",
    "       \n",
    "     Observations : Net amélioration du loss et de l'accuracy en entrainant plus de couche de mon model de deep learnig. Pour les données test on plafonne à une accuracy de 0.76, mais les courbes ne montre pas un over fiting"
   ]
  },
  {
   "cell_type": "code",
   "execution_count": null,
   "metadata": {},
   "outputs": [],
   "source": []
  }
 ],
 "metadata": {
  "kernelspec": {
   "display_name": "Python 3",
   "language": "python",
   "name": "python3"
  },
  "language_info": {
   "codemirror_mode": {
    "name": "ipython",
    "version": 3
   },
   "file_extension": ".py",
   "mimetype": "text/x-python",
   "name": "python",
   "nbconvert_exporter": "python",
   "pygments_lexer": "ipython3",
   "version": "3.8.6"
  }
 },
 "nbformat": 4,
 "nbformat_minor": 4
}
