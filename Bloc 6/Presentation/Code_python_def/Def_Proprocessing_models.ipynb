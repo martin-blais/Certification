{
 "cells": [
  {
   "cell_type": "markdown",
   "metadata": {},
   "source": [
    "# Librairie"
   ]
  },
  {
   "cell_type": "code",
   "execution_count": null,
   "metadata": {},
   "outputs": [],
   "source": [
    "import tensorflow as tf \n",
    "import numpy as np \n",
    "import matplotlib.pyplot as plt \n",
    "import pandas as pd"
   ]
  },
  {
   "cell_type": "code",
   "execution_count": null,
   "metadata": {},
   "outputs": [],
   "source": [
    "!unzip /content/drive/MyDrive/Projet_Jedha_DL/25_classes/train.zip"
   ]
  },
  {
   "cell_type": "markdown",
   "metadata": {},
   "source": [
    "# Preprocessing Model"
   ]
  },
  {
   "cell_type": "code",
   "execution_count": null,
   "metadata": {},
   "outputs": [],
   "source": [
    "def preprocessing_train_test():\n",
    "    \n",
    "    img_generator = tf.keras.preprocessing.image.ImageDataGenerator(#rotation_range=90,\n",
    "                                                                brightness_range=(0.5,1), \n",
    "                                                                #shear_range=0.2, \n",
    "                                                                zoom_range=0.2,\n",
    "                                                                channel_shift_range=0.2,\n",
    "                                                                horizontal_flip=True,\n",
    "                                                                vertical_flip=True,\n",
    "                                                                rescale=1./255,\n",
    "                                                                validation_split=0.2\n",
    "                                                                )\n",
    "\n",
    "    img_generator_flow_train = img_generator.flow_from_directory(directory=\"/content/train\",\n",
    "                                                             target_size=(150, 150),\n",
    "                                                             batch_size=32,\n",
    "                                                             shuffle=True,\n",
    "                                                             subset=\"training\"\n",
    "                                                             )\n",
    "\n",
    "    img_generator_flow_test = img_generator.flow_from_directory(directory=\"/content/train\",\n",
    "                                                               target_size=(150, 150),\n",
    "                                                               batch_size=32,\n",
    "                                                               shuffle=True,\n",
    "                                                               subset=\"validation\"\n",
    "                                                               )\n",
    "    return img_generator_flow_train, img_generator_flow_test"
   ]
  },
  {
   "cell_type": "markdown",
   "metadata": {},
   "source": [
    "# Model"
   ]
  },
  {
   "cell_type": "markdown",
   "metadata": {},
   "source": [
    "### InceptionV3"
   ]
  },
  {
   "cell_type": "code",
   "execution_count": 1,
   "metadata": {},
   "outputs": [],
   "source": [
    "def inceptionV3(nbr_cat, train = False):\n",
    "    \n",
    "    base_model = tf.keras.applications.InceptionV3(input_shape=(150,150,3),\n",
    "                                                include_top=False,\n",
    "                                                weights = \"imagenet\"\n",
    "                                                )\n",
    "    \n",
    "    if train == False:\n",
    "        base_model.trainable = False\n",
    "    else:\n",
    "        base_model.trainable = True\n",
    "        fine_tune_at = len(base_model.layers) - 30\n",
    "        for layer in base_model.layers[:fine_tune_at]:\n",
    "            layer.trainable = False\n",
    "    \n",
    "    model = tf.keras.Sequential([base_model,\n",
    "                              tf.keras.layers.MaxPooling2D(),\n",
    "                              tf.keras.layers.Flatten(),\n",
    "                              tf.keras.layers.Dense(nbr_cat, activation=\"softmax\")\n",
    "                              ])\n",
    "       \n",
    "    model.compile(optimizer=tf.keras.optimizers.Adam(learning_rate = 0.001),\n",
    "              loss = tf.keras.losses.CategoricalCrossentropy(),\n",
    "              metrics = [tf.keras.metrics.CategoricalAccuracy()])\n",
    "    \n",
    "    return model"
   ]
  },
  {
   "cell_type": "markdown",
   "metadata": {},
   "source": [
    "### Xception "
   ]
  },
  {
   "cell_type": "code",
   "execution_count": 5,
   "metadata": {},
   "outputs": [],
   "source": [
    "def Xception(nbr_cat, train = False):\n",
    "    \n",
    "    base_model = tf.keras.applications.Xception(input_shape=(150,150,3),\n",
    "                                                include_top=False,\n",
    "                                                weights = \"imagenet\"\n",
    "                                                )\n",
    "    \n",
    "    if train == False:\n",
    "        base_model.trainable = False\n",
    "    else:\n",
    "        base_model.trainable = True\n",
    "        fine_tune_at = len(base_model.layers) - 30\n",
    "        for layer in base_model.layers[:fine_tune_at]:\n",
    "            layer.trainable = False\n",
    "    \n",
    "    model = tf.keras.Sequential([base_model,\n",
    "                              tf.keras.layers.GlobalAveragePooling2D(),\n",
    "                              tf.keras.layers.Dropout(0.2),\n",
    "                              tf.keras.layers.Dense(nbr_cat, activation=\"softmax\")\n",
    "                              ])\n",
    "       \n",
    "    model.compile(optimizer=tf.keras.optimizers.Adam(learning_rate = 0.001),\n",
    "              loss = tf.keras.losses.CategoricalCrossentropy(),\n",
    "              metrics = [tf.keras.metrics.CategoricalAccuracy()])\n",
    "    \n",
    "    return model"
   ]
  },
  {
   "cell_type": "markdown",
   "metadata": {},
   "source": [
    "# Prediction"
   ]
  },
  {
   "cell_type": "code",
   "execution_count": 6,
   "metadata": {},
   "outputs": [],
   "source": [
    "def resize(image_path):\n",
    "    \"\"\"\n",
    "    IN : localisation de l'image\n",
    "    OUT: l'image redimensionné\n",
    "    obj: redimensionner l'igame avant prediction\n",
    "    \"\"\"\n",
    "    image_resize = tf.io.read_file(image_path) # read the file as byte type\n",
    "    image_resize = tf.image.decode_image(image_resize, channels=3) # convert bytes to a tensor\n",
    "    image_resize = tf.image.convert_image_dtype(image_resize, tf.float64) # convert the image tensor from int 0-255 to float 0-1\n",
    "    image_resize = tf.image.resize(image_resize, [150, 150]) # resize the image so the model can run inference\n",
    "    image_resize = tf.expand_dims(image_resize, axis=0) # let's expand the dimension so the input data has shape (1,299,299,3)\n",
    "    return image_resize"
   ]
  },
  {
   "cell_type": "code",
   "execution_count": 1,
   "metadata": {},
   "outputs": [],
   "source": [
    "def prediction(model, image):\n",
    "    \"\"\"\n",
    "    IN: model est le model chargé avec les poids; image est l'image redimensionné par def resize\n",
    "    OUT: la valeur de la prediction, c'est un integer\n",
    "    obj: appliquer le model à une image pour sortir une prediction\n",
    "    \"\"\"\n",
    "    pred = model.predict(image)\n",
    "    pred_label = tf.argmax(pred, axis=-1).numpy()\n",
    "    return pred_label[0] # On obtien un array avec la prediction, je viens chercher la valeur de cette prediction\n"
   ]
  },
  {
   "cell_type": "code",
   "execution_count": null,
   "metadata": {},
   "outputs": [],
   "source": [
    "def categorie(pred):\n",
    "    \"\"\"\n",
    "    IN: integer de def prediction()\n",
    "    OUT: Le nom de la catégorie de la prediction\n",
    "    obj: Rechercher dans le  fichier csv qui contient les labels et les catégories. Sortir la catégorie à laquelle l'image appartient\n",
    "    \"\"\"\n",
    "    labels_df = pd.read_csv(\"labels.csv\", sep=\";\")\n",
    "    label = labels_df.iloc[pred,:]['categorie']\n",
    "    return label"
   ]
  },
  {
   "cell_type": "code",
   "execution_count": null,
   "metadata": {},
   "outputs": [],
   "source": [
    "def dictionnaire():\n",
    "    \"\"\"\n",
    "    Cette définition retourne un dictionnaire contenant 12 clefs qui représente 12 lettres. Elles ne contiennent pas de valeurs car elle seront remplacés par les lettres de la prédiction.\n",
    "    Cette def permet de remettre à 0 le dictionnaire à chaque nouvelle prédiction.\n",
    "    \"\"\"\n",
    "    return {\"l0\" : \"\",\"l1\" : \"\",\"l2\" : \"\",\"l3\" : \"\",\"l4\" : \"\",\"l5\" : \"\",\"l6\" : \"\",\"l7\" : \"\",\"l8\" : \"\",\"l9\" : \"\",\"l10\" : \"\",\"l11\" : \"\"}"
   ]
  }
 ],
 "metadata": {
  "kernelspec": {
   "display_name": "Python 3",
   "language": "python",
   "name": "python3"
  },
  "language_info": {
   "codemirror_mode": {
    "name": "ipython",
    "version": 3
   },
   "file_extension": ".py",
   "mimetype": "text/x-python",
   "name": "python",
   "nbconvert_exporter": "python",
   "pygments_lexer": "ipython3",
   "version": "3.8.10"
  }
 },
 "nbformat": 4,
 "nbformat_minor": 4
}
