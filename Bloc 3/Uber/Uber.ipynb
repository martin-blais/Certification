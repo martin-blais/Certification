{
 "cells": [
  {
   "cell_type": "markdown",
   "id": "decf40e9-3df9-43ef-b58c-b46d1594745c",
   "metadata": {},
   "source": [
    "# Projet Uber"
   ]
  },
  {
   "cell_type": "markdown",
   "id": "d9e02542-29e8-443d-8fef-14b5e4e789c9",
   "metadata": {},
   "source": [
    "**Projet**  \n",
    "L'un des principaux problèmes rencontrés par l'équipe d'Uber est que parfois les chauffeurs ne sont pas là lorsque les utilisateurs en ont besoin. Par exemple, un utilisateur peut se trouver dans le quartier financier de San Francisco alors que les chauffeurs Uber recherchent des clients à Castro.  \n",
    "  \n",
    "Par conséquent, l'équipe de données d'Uber aimerait travailler sur un projet dans lequel **son application recommanderait des zones chaudes dans les grandes villes à n'importe quel moment de la journée.**"
   ]
  },
  {
   "cell_type": "markdown",
   "id": "50878110-8656-42c8-95f4-a351664fb7fb",
   "metadata": {},
   "source": [
    "**Objectifs**  \n",
    "1) Travailler sur un algorythme pour trouver les zones chaudes  \n",
    "2) Visualiser les résultats sur un tableau de bord"
   ]
  },
  {
   "cell_type": "markdown",
   "id": "93514ff6-7ce1-464a-a00b-728c334b8066",
   "metadata": {},
   "source": [
    "# Importation des librairies"
   ]
  },
  {
   "cell_type": "code",
   "execution_count": 1,
   "id": "7f55450f-0ad2-4cde-afc0-4f2528771480",
   "metadata": {},
   "outputs": [],
   "source": [
    "\n",
    "import pandas as pd\n",
    "import numpy as np\n",
    "\n",
    "import plotly.graph_objects as go\n",
    "import plotly.express as px \n",
    "\n",
    "from sklearn.cluster import DBSCAN, KMeans\n",
    "from sklearn.metrics import silhouette_score"
   ]
  },
  {
   "cell_type": "markdown",
   "id": "a83de483-910f-4a12-b11a-33f3547a7a0d",
   "metadata": {},
   "source": [
    "# Chargement du dataset"
   ]
  },
  {
   "cell_type": "code",
   "execution_count": 2,
   "id": "62e16472-5a98-41d6-8bf3-436567aff9c4",
   "metadata": {},
   "outputs": [],
   "source": [
    "uber = pd.read_csv('uber-raw-data-apr14.csv')"
   ]
  },
  {
   "cell_type": "code",
   "execution_count": 3,
   "id": "474774e0-0d6b-46b3-8415-f325517fd50f",
   "metadata": {},
   "outputs": [
    {
     "data": {
      "text/html": [
       "<div>\n",
       "<style scoped>\n",
       "    .dataframe tbody tr th:only-of-type {\n",
       "        vertical-align: middle;\n",
       "    }\n",
       "\n",
       "    .dataframe tbody tr th {\n",
       "        vertical-align: top;\n",
       "    }\n",
       "\n",
       "    .dataframe thead th {\n",
       "        text-align: right;\n",
       "    }\n",
       "</style>\n",
       "<table border=\"1\" class=\"dataframe\">\n",
       "  <thead>\n",
       "    <tr style=\"text-align: right;\">\n",
       "      <th></th>\n",
       "      <th>Date/Time</th>\n",
       "      <th>Lat</th>\n",
       "      <th>Lon</th>\n",
       "      <th>Base</th>\n",
       "    </tr>\n",
       "  </thead>\n",
       "  <tbody>\n",
       "    <tr>\n",
       "      <th>0</th>\n",
       "      <td>4/1/2014 0:11:00</td>\n",
       "      <td>40.7690</td>\n",
       "      <td>-73.9549</td>\n",
       "      <td>B02512</td>\n",
       "    </tr>\n",
       "    <tr>\n",
       "      <th>1</th>\n",
       "      <td>4/1/2014 0:17:00</td>\n",
       "      <td>40.7267</td>\n",
       "      <td>-74.0345</td>\n",
       "      <td>B02512</td>\n",
       "    </tr>\n",
       "    <tr>\n",
       "      <th>2</th>\n",
       "      <td>4/1/2014 0:21:00</td>\n",
       "      <td>40.7316</td>\n",
       "      <td>-73.9873</td>\n",
       "      <td>B02512</td>\n",
       "    </tr>\n",
       "    <tr>\n",
       "      <th>3</th>\n",
       "      <td>4/1/2014 0:28:00</td>\n",
       "      <td>40.7588</td>\n",
       "      <td>-73.9776</td>\n",
       "      <td>B02512</td>\n",
       "    </tr>\n",
       "    <tr>\n",
       "      <th>4</th>\n",
       "      <td>4/1/2014 0:33:00</td>\n",
       "      <td>40.7594</td>\n",
       "      <td>-73.9722</td>\n",
       "      <td>B02512</td>\n",
       "    </tr>\n",
       "  </tbody>\n",
       "</table>\n",
       "</div>"
      ],
      "text/plain": [
       "          Date/Time      Lat      Lon    Base\n",
       "0  4/1/2014 0:11:00  40.7690 -73.9549  B02512\n",
       "1  4/1/2014 0:17:00  40.7267 -74.0345  B02512\n",
       "2  4/1/2014 0:21:00  40.7316 -73.9873  B02512\n",
       "3  4/1/2014 0:28:00  40.7588 -73.9776  B02512\n",
       "4  4/1/2014 0:33:00  40.7594 -73.9722  B02512"
      ]
     },
     "execution_count": 3,
     "metadata": {},
     "output_type": "execute_result"
    }
   ],
   "source": [
    "uber.head()"
   ]
  },
  {
   "cell_type": "markdown",
   "id": "837407e9-9ed0-47c8-be9e-d0c75a13032c",
   "metadata": {},
   "source": [
    "Ce dataset donne la géolocalisation (latitude et longitude) de chaque course Uber, pour tout le mois d'avril."
   ]
  },
  {
   "cell_type": "markdown",
   "id": "1b45c63c-99f1-440e-98ee-fcaa651376ef",
   "metadata": {},
   "source": [
    "# Analyse du dataset"
   ]
  },
  {
   "cell_type": "code",
   "execution_count": 4,
   "id": "bca78066-eebc-43db-a4e6-96753d0c47be",
   "metadata": {},
   "outputs": [
    {
     "name": "stdout",
     "output_type": "stream",
     "text": [
      "(564516, 4)\n",
      "\n",
      "                 Lat            Lon\n",
      "count  564516.000000  564516.000000\n",
      "mean       40.740005     -73.976817\n",
      "std         0.036083       0.050426\n",
      "min        40.072900     -74.773300\n",
      "25%        40.722500     -73.997700\n",
      "50%        40.742500     -73.984800\n",
      "75%        40.760700     -73.970000\n",
      "max        42.116600     -72.066600\n",
      "\n",
      "<class 'pandas.core.frame.DataFrame'>\n",
      "RangeIndex: 564516 entries, 0 to 564515\n",
      "Data columns (total 4 columns):\n",
      " #   Column     Non-Null Count   Dtype  \n",
      "---  ------     --------------   -----  \n",
      " 0   Date/Time  564516 non-null  object \n",
      " 1   Lat        564516 non-null  float64\n",
      " 2   Lon        564516 non-null  float64\n",
      " 3   Base       564516 non-null  object \n",
      "dtypes: float64(2), object(2)\n",
      "memory usage: 17.2+ MB\n",
      "None\n",
      "\n",
      "Date/Time    0.0\n",
      "Lat          0.0\n",
      "Lon          0.0\n",
      "Base         0.0\n",
      "dtype: float64\n"
     ]
    }
   ],
   "source": [
    "print(uber.shape)\n",
    "print()\n",
    "\n",
    "print(uber.describe())\n",
    "print()\n",
    "\n",
    "print(uber.info())\n",
    "print()\n",
    "\n",
    "print(uber.isna().mean())"
   ]
  },
  {
   "cell_type": "code",
   "execution_count": 5,
   "id": "0edade77-ca4f-42f4-af85-79983a6e7f1e",
   "metadata": {},
   "outputs": [
    {
     "data": {
      "text/plain": [
       "B02682    227808\n",
       "B02598    183263\n",
       "B02617    108001\n",
       "B02512     35536\n",
       "B02764      9908\n",
       "Name: Base, dtype: int64"
      ]
     },
     "execution_count": 5,
     "metadata": {},
     "output_type": "execute_result"
    }
   ],
   "source": [
    "uber['Base'].value_counts()"
   ]
  },
  {
   "cell_type": "markdown",
   "id": "a37d211d-fb1d-49c0-9f5b-389eb184f68f",
   "metadata": {},
   "source": [
    "Pour avoir une nouvelles approche pour travailler sur ce dataset, nous allons créer de nouvelles variables.  \n",
    "Pour chaque réservation Uber, nous allons ajouter les variables \"mois\", \"heure\", \"minute\" et \"jour\".  \n",
    "L'objectid est simple, il sera possible de faire des cluster selon le jour du mois ou selon une certaine heure de la journée."
   ]
  },
  {
   "cell_type": "code",
   "execution_count": 6,
   "id": "b3743b6f-c26a-4ae9-a47b-d0c1cb5402e5",
   "metadata": {},
   "outputs": [],
   "source": [
    "# Utilisation de datetime pour obtenir des features mois, heure, minute et jour\n",
    "uber['Date/Time'] = pd.to_datetime(uber['Date/Time'])\n",
    "uber.loc[:,'Month'] = uber['Date/Time'].dt.month\n",
    "uber.loc[:,'Heure'] = uber['Date/Time'].dt.hour\n",
    "uber.loc[:,'Minute'] = uber['Date/Time'].dt.minute\n",
    "uber.loc[:,'Jour'] = uber['Date/Time'].dt.day"
   ]
  },
  {
   "cell_type": "code",
   "execution_count": 7,
   "id": "da07c990-c94b-4ccf-8c1d-f558c0cac684",
   "metadata": {},
   "outputs": [
    {
     "data": {
      "text/html": [
       "<div>\n",
       "<style scoped>\n",
       "    .dataframe tbody tr th:only-of-type {\n",
       "        vertical-align: middle;\n",
       "    }\n",
       "\n",
       "    .dataframe tbody tr th {\n",
       "        vertical-align: top;\n",
       "    }\n",
       "\n",
       "    .dataframe thead th {\n",
       "        text-align: right;\n",
       "    }\n",
       "</style>\n",
       "<table border=\"1\" class=\"dataframe\">\n",
       "  <thead>\n",
       "    <tr style=\"text-align: right;\">\n",
       "      <th></th>\n",
       "      <th>Date/Time</th>\n",
       "      <th>Lat</th>\n",
       "      <th>Lon</th>\n",
       "      <th>Base</th>\n",
       "      <th>Month</th>\n",
       "      <th>Heure</th>\n",
       "      <th>Minute</th>\n",
       "      <th>Jour</th>\n",
       "    </tr>\n",
       "  </thead>\n",
       "  <tbody>\n",
       "    <tr>\n",
       "      <th>0</th>\n",
       "      <td>2014-04-01 00:11:00</td>\n",
       "      <td>40.7690</td>\n",
       "      <td>-73.9549</td>\n",
       "      <td>B02512</td>\n",
       "      <td>4</td>\n",
       "      <td>0</td>\n",
       "      <td>11</td>\n",
       "      <td>1</td>\n",
       "    </tr>\n",
       "    <tr>\n",
       "      <th>1</th>\n",
       "      <td>2014-04-01 00:17:00</td>\n",
       "      <td>40.7267</td>\n",
       "      <td>-74.0345</td>\n",
       "      <td>B02512</td>\n",
       "      <td>4</td>\n",
       "      <td>0</td>\n",
       "      <td>17</td>\n",
       "      <td>1</td>\n",
       "    </tr>\n",
       "    <tr>\n",
       "      <th>2</th>\n",
       "      <td>2014-04-01 00:21:00</td>\n",
       "      <td>40.7316</td>\n",
       "      <td>-73.9873</td>\n",
       "      <td>B02512</td>\n",
       "      <td>4</td>\n",
       "      <td>0</td>\n",
       "      <td>21</td>\n",
       "      <td>1</td>\n",
       "    </tr>\n",
       "    <tr>\n",
       "      <th>3</th>\n",
       "      <td>2014-04-01 00:28:00</td>\n",
       "      <td>40.7588</td>\n",
       "      <td>-73.9776</td>\n",
       "      <td>B02512</td>\n",
       "      <td>4</td>\n",
       "      <td>0</td>\n",
       "      <td>28</td>\n",
       "      <td>1</td>\n",
       "    </tr>\n",
       "    <tr>\n",
       "      <th>4</th>\n",
       "      <td>2014-04-01 00:33:00</td>\n",
       "      <td>40.7594</td>\n",
       "      <td>-73.9722</td>\n",
       "      <td>B02512</td>\n",
       "      <td>4</td>\n",
       "      <td>0</td>\n",
       "      <td>33</td>\n",
       "      <td>1</td>\n",
       "    </tr>\n",
       "  </tbody>\n",
       "</table>\n",
       "</div>"
      ],
      "text/plain": [
       "            Date/Time      Lat      Lon    Base  Month  Heure  Minute  Jour\n",
       "0 2014-04-01 00:11:00  40.7690 -73.9549  B02512      4      0      11     1\n",
       "1 2014-04-01 00:17:00  40.7267 -74.0345  B02512      4      0      17     1\n",
       "2 2014-04-01 00:21:00  40.7316 -73.9873  B02512      4      0      21     1\n",
       "3 2014-04-01 00:28:00  40.7588 -73.9776  B02512      4      0      28     1\n",
       "4 2014-04-01 00:33:00  40.7594 -73.9722  B02512      4      0      33     1"
      ]
     },
     "execution_count": 7,
     "metadata": {},
     "output_type": "execute_result"
    }
   ],
   "source": [
    "uber.head()"
   ]
  },
  {
   "cell_type": "markdown",
   "id": "a4719f83-325f-4da1-a262-1bb92ea224de",
   "metadata": {},
   "source": [
    "Pour le début, nous allons se focaliser sur un jour du mois d'avril. Je vais travailler sur le jour 1 du mois d'avril.  \n",
    "Deux modèle de machine learnng seront tester :  \n",
    "-DBSCAN\n",
    "-KMeans"
   ]
  },
  {
   "cell_type": "markdown",
   "id": "5ebd3cc9-633b-4dc3-a59e-6c7bb55f39bd",
   "metadata": {},
   "source": [
    "# Première analyse sur 1 jour du mois "
   ]
  },
  {
   "cell_type": "code",
   "execution_count": 8,
   "id": "736cfc94-5444-4ed2-842b-9d2acb93cd60",
   "metadata": {},
   "outputs": [
    {
     "data": {
      "text/html": [
       "<div>\n",
       "<style scoped>\n",
       "    .dataframe tbody tr th:only-of-type {\n",
       "        vertical-align: middle;\n",
       "    }\n",
       "\n",
       "    .dataframe tbody tr th {\n",
       "        vertical-align: top;\n",
       "    }\n",
       "\n",
       "    .dataframe thead th {\n",
       "        text-align: right;\n",
       "    }\n",
       "</style>\n",
       "<table border=\"1\" class=\"dataframe\">\n",
       "  <thead>\n",
       "    <tr style=\"text-align: right;\">\n",
       "      <th></th>\n",
       "      <th>Date/Time</th>\n",
       "      <th>Lat</th>\n",
       "      <th>Lon</th>\n",
       "      <th>Base</th>\n",
       "      <th>Month</th>\n",
       "      <th>Heure</th>\n",
       "      <th>Minute</th>\n",
       "      <th>Jour</th>\n",
       "    </tr>\n",
       "  </thead>\n",
       "  <tbody>\n",
       "    <tr>\n",
       "      <th>0</th>\n",
       "      <td>2014-04-01 00:11:00</td>\n",
       "      <td>40.7690</td>\n",
       "      <td>-73.9549</td>\n",
       "      <td>B02512</td>\n",
       "      <td>4</td>\n",
       "      <td>0</td>\n",
       "      <td>11</td>\n",
       "      <td>1</td>\n",
       "    </tr>\n",
       "    <tr>\n",
       "      <th>1</th>\n",
       "      <td>2014-04-01 00:17:00</td>\n",
       "      <td>40.7267</td>\n",
       "      <td>-74.0345</td>\n",
       "      <td>B02512</td>\n",
       "      <td>4</td>\n",
       "      <td>0</td>\n",
       "      <td>17</td>\n",
       "      <td>1</td>\n",
       "    </tr>\n",
       "    <tr>\n",
       "      <th>2</th>\n",
       "      <td>2014-04-01 00:21:00</td>\n",
       "      <td>40.7316</td>\n",
       "      <td>-73.9873</td>\n",
       "      <td>B02512</td>\n",
       "      <td>4</td>\n",
       "      <td>0</td>\n",
       "      <td>21</td>\n",
       "      <td>1</td>\n",
       "    </tr>\n",
       "    <tr>\n",
       "      <th>3</th>\n",
       "      <td>2014-04-01 00:28:00</td>\n",
       "      <td>40.7588</td>\n",
       "      <td>-73.9776</td>\n",
       "      <td>B02512</td>\n",
       "      <td>4</td>\n",
       "      <td>0</td>\n",
       "      <td>28</td>\n",
       "      <td>1</td>\n",
       "    </tr>\n",
       "    <tr>\n",
       "      <th>4</th>\n",
       "      <td>2014-04-01 00:33:00</td>\n",
       "      <td>40.7594</td>\n",
       "      <td>-73.9722</td>\n",
       "      <td>B02512</td>\n",
       "      <td>4</td>\n",
       "      <td>0</td>\n",
       "      <td>33</td>\n",
       "      <td>1</td>\n",
       "    </tr>\n",
       "  </tbody>\n",
       "</table>\n",
       "</div>"
      ],
      "text/plain": [
       "            Date/Time      Lat      Lon    Base  Month  Heure  Minute  Jour\n",
       "0 2014-04-01 00:11:00  40.7690 -73.9549  B02512      4      0      11     1\n",
       "1 2014-04-01 00:17:00  40.7267 -74.0345  B02512      4      0      17     1\n",
       "2 2014-04-01 00:21:00  40.7316 -73.9873  B02512      4      0      21     1\n",
       "3 2014-04-01 00:28:00  40.7588 -73.9776  B02512      4      0      28     1\n",
       "4 2014-04-01 00:33:00  40.7594 -73.9722  B02512      4      0      33     1"
      ]
     },
     "execution_count": 8,
     "metadata": {},
     "output_type": "execute_result"
    }
   ],
   "source": [
    "# On selectionne que le jour 1 du mois d'avril\n",
    "df= uber[uber['Jour'] == 1 ]\n",
    "df.head()"
   ]
  },
  {
   "cell_type": "code",
   "execution_count": 9,
   "id": "19341958-7dea-49c2-9082-25ef440e5721",
   "metadata": {},
   "outputs": [
    {
     "data": {
      "text/plain": [
       "(14546, 8)"
      ]
     },
     "execution_count": 9,
     "metadata": {},
     "output_type": "execute_result"
    }
   ],
   "source": [
    "df.shape"
   ]
  },
  {
   "cell_type": "code",
   "execution_count": 10,
   "id": "0888105a-b93d-4c32-917f-6cf7dfa782fa",
   "metadata": {},
   "outputs": [
    {
     "data": {
      "text/html": [
       "<iframe\n",
       "    scrolling=\"no\"\n",
       "    width=\"100%\"\n",
       "    height=\"545px\"\n",
       "    src=\"iframe_figures/figure_10.html\"\n",
       "    frameborder=\"0\"\n",
       "    allowfullscreen\n",
       "></iframe>\n"
      ]
     },
     "metadata": {},
     "output_type": "display_data"
    }
   ],
   "source": [
    "# Représentation graphique des demandes Uber\n",
    "fig = px.scatter_mapbox(df, lat=\"Lat\", lon=\"Lon\",color=\"Minute\"\n",
    "                  ,color_continuous_scale=px.colors.cyclical.IceFire, size_max=15, zoom=10, title=\"Représention de chaques réservation Uber en 1 heure\")\n",
    "fig.update_layout(mapbox_style=\"open-street-map\")\n",
    "fig.update_layout(margin={\"r\":0,\"t\":0,\"l\":0,\"b\":0})\n",
    "\n",
    "fig.show('iframe')"
   ]
  },
  {
   "cell_type": "markdown",
   "id": "325fa0cb-a8bc-4449-8e44-793757215d0f",
   "metadata": {},
   "source": [
    "# DBSCAN MODEL (Sur le jour 1 du mois d'avril)"
   ]
  },
  {
   "cell_type": "markdown",
   "id": "87cd52e1-36cd-49e4-9c97-bf57ad6c3dce",
   "metadata": {},
   "source": [
    "**DBSCAN**  \n",
    "Pour cet algorithme, pas besoin de lui spécifier le nombre de cluster à l'avance.  \n",
    "Il utilise le concepte de densité pour affecter des observation à un agrégat.  \n",
    "Pour tuiliser cet algorythme, je vais jouer sur 2 paramètres :  \n",
    "- eps (epsilone) : la distance entre un point et les limites du voisinage.\n",
    "- min_sample : le nombre minimum de points necessaire pour definir un échantillon de base."
   ]
  },
  {
   "cell_type": "code",
   "execution_count": 11,
   "id": "d41ec84e-eaae-41b8-aefc-55faab3906d3",
   "metadata": {},
   "outputs": [
    {
     "data": {
      "text/html": [
       "<div>\n",
       "<style scoped>\n",
       "    .dataframe tbody tr th:only-of-type {\n",
       "        vertical-align: middle;\n",
       "    }\n",
       "\n",
       "    .dataframe tbody tr th {\n",
       "        vertical-align: top;\n",
       "    }\n",
       "\n",
       "    .dataframe thead th {\n",
       "        text-align: right;\n",
       "    }\n",
       "</style>\n",
       "<table border=\"1\" class=\"dataframe\">\n",
       "  <thead>\n",
       "    <tr style=\"text-align: right;\">\n",
       "      <th></th>\n",
       "      <th>Lat</th>\n",
       "      <th>Lon</th>\n",
       "    </tr>\n",
       "  </thead>\n",
       "  <tbody>\n",
       "    <tr>\n",
       "      <th>0</th>\n",
       "      <td>40.7690</td>\n",
       "      <td>-73.9549</td>\n",
       "    </tr>\n",
       "    <tr>\n",
       "      <th>1</th>\n",
       "      <td>40.7267</td>\n",
       "      <td>-74.0345</td>\n",
       "    </tr>\n",
       "    <tr>\n",
       "      <th>2</th>\n",
       "      <td>40.7316</td>\n",
       "      <td>-73.9873</td>\n",
       "    </tr>\n",
       "    <tr>\n",
       "      <th>3</th>\n",
       "      <td>40.7588</td>\n",
       "      <td>-73.9776</td>\n",
       "    </tr>\n",
       "    <tr>\n",
       "      <th>4</th>\n",
       "      <td>40.7594</td>\n",
       "      <td>-73.9722</td>\n",
       "    </tr>\n",
       "  </tbody>\n",
       "</table>\n",
       "</div>"
      ],
      "text/plain": [
       "       Lat      Lon\n",
       "0  40.7690 -73.9549\n",
       "1  40.7267 -74.0345\n",
       "2  40.7316 -73.9873\n",
       "3  40.7588 -73.9776\n",
       "4  40.7594 -73.9722"
      ]
     },
     "execution_count": 11,
     "metadata": {},
     "output_type": "execute_result"
    }
   ],
   "source": [
    "#On sélection que les données necessaire pour le fonctionnement du modèle \n",
    "df_model = df.drop(columns = ['Date/Time', 'Month', 'Minute', 'Base', 'Jour', 'Heure'])\n",
    "df_model.head()"
   ]
  },
  {
   "cell_type": "code",
   "execution_count": 12,
   "id": "1c57ca86-bf16-4c08-86cb-bb31c1fc0f10",
   "metadata": {},
   "outputs": [
    {
     "name": "stdout",
     "output_type": "stream",
     "text": [
      "0.01 0.5\n",
      "[  0   1   2   3   4   5   6   7   8   9  10  11  12  13  14  15  16  17\n",
      "  18  19  20  21  22  23  24  25  26  27  28  29  30  31  32  33  34  35\n",
      "  36  37  38  39  40  41  42  43  44  45  46  47  48  49  50  51  52  53\n",
      "  54  55  56  57  58  59  60  61  62  63  64  65  66  67  68  69  70  71\n",
      "  72  73  74  75  76  77  78  79  80  81  82  83  84  85  86  87  88  89\n",
      "  90  91  92  93  94  95  96  97  98  99 100 101 102 103 104 105 106 107\n",
      " 108 109 110 111 112 113 114 115 116 117 118 119 120 121 122 123 124 125\n",
      " 126 127 128 129 130 131 132 133 134 135 136 137 138 139 140 141 142 143\n",
      " 144 145 146 147 148 149 150 151 152 153 154 155 156 157 158 159 160 161\n",
      " 162 163 164 165 166 167 168]\n",
      "\n",
      "0.01 1\n",
      "[  0   1   2   3   4   5   6   7   8   9  10  11  12  13  14  15  16  17\n",
      "  18  19  20  21  22  23  24  25  26  27  28  29  30  31  32  33  34  35\n",
      "  36  37  38  39  40  41  42  43  44  45  46  47  48  49  50  51  52  53\n",
      "  54  55  56  57  58  59  60  61  62  63  64  65  66  67  68  69  70  71\n",
      "  72  73  74  75  76  77  78  79  80  81  82  83  84  85  86  87  88  89\n",
      "  90  91  92  93  94  95  96  97  98  99 100 101 102 103 104 105 106 107\n",
      " 108 109 110 111 112 113 114 115 116 117 118 119 120 121 122 123 124 125\n",
      " 126 127 128 129 130 131 132 133 134 135 136 137 138 139 140 141 142 143\n",
      " 144 145 146 147 148 149 150 151 152 153 154 155 156 157 158 159 160 161\n",
      " 162 163 164 165 166 167 168]\n",
      "\n",
      "0.01 5\n",
      "[-1  0  1  2  3  4  5  6  7  8  9 10 11 12]\n",
      "\n",
      "0.01 10\n",
      "[-1  0  1  2  3  4  5]\n",
      "\n",
      "0.01 15\n",
      "[-1  0  1  2  3  4]\n",
      "\n",
      "0.02 0.5\n",
      "[ 0  1  2  3  4  5  6  7  8  9 10 11 12 13 14 15 16 17 18 19 20 21 22 23\n",
      " 24 25 26 27 28 29 30 31 32 33 34 35 36 37 38 39 40 41 42 43 44 45 46 47\n",
      " 48 49 50 51 52 53 54 55 56 57 58 59 60 61 62 63 64 65 66 67 68 69 70 71\n",
      " 72 73 74 75 76 77 78 79]\n",
      "\n",
      "0.02 1\n",
      "[ 0  1  2  3  4  5  6  7  8  9 10 11 12 13 14 15 16 17 18 19 20 21 22 23\n",
      " 24 25 26 27 28 29 30 31 32 33 34 35 36 37 38 39 40 41 42 43 44 45 46 47\n",
      " 48 49 50 51 52 53 54 55 56 57 58 59 60 61 62 63 64 65 66 67 68 69 70 71\n",
      " 72 73 74 75 76 77 78 79]\n",
      "\n",
      "0.02 5\n",
      "[-1  0  1  2  3  4]\n",
      "\n",
      "0.02 10\n",
      "[-1  0  1]\n",
      "\n",
      "0.02 15\n",
      "[-1  0  1  2  3]\n",
      "\n",
      "0.05 0.5\n",
      "[ 0  1  2  3  4  5  6  7  8  9 10 11 12 13 14 15 16 17 18 19 20 21 22 23]\n",
      "\n",
      "0.05 1\n",
      "[ 0  1  2  3  4  5  6  7  8  9 10 11 12 13 14 15 16 17 18 19 20 21 22 23]\n",
      "\n",
      "0.05 5\n",
      "[-1  0  1  2  3]\n",
      "\n",
      "0.05 10\n",
      "[-1  0  1  2]\n",
      "\n",
      "0.05 15\n",
      "[-1  0  1]\n",
      "\n",
      "0.1 0.5\n",
      "[0 1 2 3 4 5 6]\n",
      "\n",
      "0.1 1\n",
      "[0 1 2 3 4 5 6]\n",
      "\n",
      "0.1 5\n",
      "[-1  0]\n",
      "\n",
      "0.1 10\n",
      "[-1  0]\n",
      "\n",
      "0.1 15\n",
      "[-1  0]\n",
      "\n"
     ]
    }
   ],
   "source": [
    "# Boucle for pour tester deux hypers paramètres du modèle DBSCAN\n",
    "\n",
    "eps = [0.01, 0.02, 0.05, 0.1]\n",
    "min_samples = [0.5, 1, 5, 10, 15]\n",
    "\n",
    "for e in eps:\n",
    "    for m in min_samples:\n",
    "        model = DBSCAN(eps = e , min_samples = m, metric=\"euclidean\", algorithm=\"brute\")\n",
    "        model.fit(df_model)\n",
    "        print(e,m)\n",
    "        print(np.unique(model.labels_))\n",
    "        print()"
   ]
  },
  {
   "cell_type": "code",
   "execution_count": 13,
   "id": "c7715b98-7ebd-4a66-98bb-90ec68cc7810",
   "metadata": {},
   "outputs": [
    {
     "data": {
      "text/plain": [
       "DBSCAN(algorithm='brute', eps=0.01, min_samples=15)"
      ]
     },
     "execution_count": 13,
     "metadata": {},
     "output_type": "execute_result"
    }
   ],
   "source": [
    "# On fit le model sur nos données \n",
    "model = DBSCAN(eps = 0.01 , min_samples = 15, metric=\"euclidean\", algorithm=\"brute\")\n",
    "model.fit(df_model)"
   ]
  },
  {
   "cell_type": "code",
   "execution_count": 14,
   "id": "0553c7d8-7a7e-4ade-9125-9e64d0fc7f96",
   "metadata": {},
   "outputs": [
    {
     "data": {
      "text/html": [
       "<div>\n",
       "<style scoped>\n",
       "    .dataframe tbody tr th:only-of-type {\n",
       "        vertical-align: middle;\n",
       "    }\n",
       "\n",
       "    .dataframe tbody tr th {\n",
       "        vertical-align: top;\n",
       "    }\n",
       "\n",
       "    .dataframe thead th {\n",
       "        text-align: right;\n",
       "    }\n",
       "</style>\n",
       "<table border=\"1\" class=\"dataframe\">\n",
       "  <thead>\n",
       "    <tr style=\"text-align: right;\">\n",
       "      <th></th>\n",
       "      <th>Lat</th>\n",
       "      <th>Lon</th>\n",
       "      <th>cluster</th>\n",
       "    </tr>\n",
       "  </thead>\n",
       "  <tbody>\n",
       "    <tr>\n",
       "      <th>0</th>\n",
       "      <td>40.7690</td>\n",
       "      <td>-73.9549</td>\n",
       "      <td>0</td>\n",
       "    </tr>\n",
       "    <tr>\n",
       "      <th>1</th>\n",
       "      <td>40.7267</td>\n",
       "      <td>-74.0345</td>\n",
       "      <td>0</td>\n",
       "    </tr>\n",
       "    <tr>\n",
       "      <th>2</th>\n",
       "      <td>40.7316</td>\n",
       "      <td>-73.9873</td>\n",
       "      <td>0</td>\n",
       "    </tr>\n",
       "    <tr>\n",
       "      <th>3</th>\n",
       "      <td>40.7588</td>\n",
       "      <td>-73.9776</td>\n",
       "      <td>0</td>\n",
       "    </tr>\n",
       "    <tr>\n",
       "      <th>4</th>\n",
       "      <td>40.7594</td>\n",
       "      <td>-73.9722</td>\n",
       "      <td>0</td>\n",
       "    </tr>\n",
       "  </tbody>\n",
       "</table>\n",
       "</div>"
      ],
      "text/plain": [
       "       Lat      Lon  cluster\n",
       "0  40.7690 -73.9549        0\n",
       "1  40.7267 -74.0345        0\n",
       "2  40.7316 -73.9873        0\n",
       "3  40.7588 -73.9776        0\n",
       "4  40.7594 -73.9722        0"
      ]
     },
     "execution_count": 14,
     "metadata": {},
     "output_type": "execute_result"
    }
   ],
   "source": [
    "# On récupère la prédiction de modèle\n",
    "df_model['cluster'] = model.labels_\n",
    "df_model.head()"
   ]
  },
  {
   "cell_type": "code",
   "execution_count": 15,
   "id": "651c81da-96a0-485d-80c4-fa225fee6a56",
   "metadata": {},
   "outputs": [
    {
     "data": {
      "text/plain": [
       " 0    13362\n",
       "-1      434\n",
       " 3      309\n",
       " 1      306\n",
       " 2      118\n",
       " 4       17\n",
       "Name: cluster, dtype: int64"
      ]
     },
     "execution_count": 15,
     "metadata": {},
     "output_type": "execute_result"
    }
   ],
   "source": [
    "df_model['cluster'].value_counts()"
   ]
  },
  {
   "cell_type": "code",
   "execution_count": 16,
   "id": "3490b769-b872-4a5b-82b6-5825fcbf80e8",
   "metadata": {},
   "outputs": [
    {
     "data": {
      "text/html": [
       "<iframe\n",
       "    scrolling=\"no\"\n",
       "    width=\"100%\"\n",
       "    height=\"545px\"\n",
       "    src=\"iframe_figures/figure_16.html\"\n",
       "    frameborder=\"0\"\n",
       "    allowfullscreen\n",
       "></iframe>\n"
      ]
     },
     "metadata": {},
     "output_type": "display_data"
    }
   ],
   "source": [
    "fig = px.scatter_mapbox(\n",
    "df_model[df_model.cluster != -1], \n",
    "lat=\"Lat\", \n",
    "lon=\"Lon\",\n",
    "color=\"cluster\",\n",
    "mapbox_style=\"carto-positron\")\n",
    "fig.show(\"iframe\")"
   ]
  },
  {
   "cell_type": "markdown",
   "id": "d638273e-799a-4087-aa3f-1023ce2fb85d",
   "metadata": {},
   "source": [
    "**Résultats**  \n",
    "J'ai choisi eps et min_sample de façon à ne former que 5 clusters. On peut remarquer que les cluster ne sont pas homogène. Que le gros cluster bleu (sur le graphique) n'est pas assez précis pour le besoin du projet.  \n",
    "**Perspective**  \n",
    "changer les hypers paramètres pour obtenir un résultat répondant au besoin"
   ]
  },
  {
   "cell_type": "markdown",
   "id": "5bd0203a-2797-4b92-b982-ba7875f07257",
   "metadata": {},
   "source": [
    "# Kmeans MODEL (Sur le jour 1 du mois d'avril)"
   ]
  },
  {
   "cell_type": "markdown",
   "id": "a059c6f1-fc19-45cb-b706-18be38bcf974",
   "metadata": {},
   "source": [
    "**Kmeans**  \n",
    "K-means est une technique de partitionnement, qui sépare les observations en k clusters. Où chaque observation est considérée comme appartenant au groupe où la moyenne est la plus proche selon une distance donnée."
   ]
  },
  {
   "cell_type": "code",
   "execution_count": 17,
   "id": "a32cbc01-f23d-486f-9ec6-f4c2baa59c6b",
   "metadata": {},
   "outputs": [
    {
     "data": {
      "text/html": [
       "<div>\n",
       "<style scoped>\n",
       "    .dataframe tbody tr th:only-of-type {\n",
       "        vertical-align: middle;\n",
       "    }\n",
       "\n",
       "    .dataframe tbody tr th {\n",
       "        vertical-align: top;\n",
       "    }\n",
       "\n",
       "    .dataframe thead th {\n",
       "        text-align: right;\n",
       "    }\n",
       "</style>\n",
       "<table border=\"1\" class=\"dataframe\">\n",
       "  <thead>\n",
       "    <tr style=\"text-align: right;\">\n",
       "      <th></th>\n",
       "      <th>Lat</th>\n",
       "      <th>Lon</th>\n",
       "    </tr>\n",
       "  </thead>\n",
       "  <tbody>\n",
       "    <tr>\n",
       "      <th>0</th>\n",
       "      <td>40.7690</td>\n",
       "      <td>-73.9549</td>\n",
       "    </tr>\n",
       "    <tr>\n",
       "      <th>1</th>\n",
       "      <td>40.7267</td>\n",
       "      <td>-74.0345</td>\n",
       "    </tr>\n",
       "    <tr>\n",
       "      <th>2</th>\n",
       "      <td>40.7316</td>\n",
       "      <td>-73.9873</td>\n",
       "    </tr>\n",
       "    <tr>\n",
       "      <th>3</th>\n",
       "      <td>40.7588</td>\n",
       "      <td>-73.9776</td>\n",
       "    </tr>\n",
       "    <tr>\n",
       "      <th>4</th>\n",
       "      <td>40.7594</td>\n",
       "      <td>-73.9722</td>\n",
       "    </tr>\n",
       "  </tbody>\n",
       "</table>\n",
       "</div>"
      ],
      "text/plain": [
       "       Lat      Lon\n",
       "0  40.7690 -73.9549\n",
       "1  40.7267 -74.0345\n",
       "2  40.7316 -73.9873\n",
       "3  40.7588 -73.9776\n",
       "4  40.7594 -73.9722"
      ]
     },
     "execution_count": 17,
     "metadata": {},
     "output_type": "execute_result"
    }
   ],
   "source": [
    "df_model = df.drop(columns = ['Date/Time', 'Month', 'Minute', 'Base', 'Jour', 'Heure'])\n",
    "df_model.head()"
   ]
  },
  {
   "cell_type": "markdown",
   "id": "e9159d48-6f2f-41b8-8456-302818cb06f2",
   "metadata": {},
   "source": [
    "**Méthode Elbow**  \n",
    "La méthodes Elbow essaie de voir si chaque point de données d'un cluster est proche les uns des autres."
   ]
  },
  {
   "cell_type": "code",
   "execution_count": 18,
   "id": "587e0136-91b4-49ce-b7bc-17dd1c20a6c9",
   "metadata": {},
   "outputs": [
    {
     "name": "stdout",
     "output_type": "stream",
     "text": [
      "WCSS for K=1 --> 59.44371542664515\n",
      "WCSS for K=2 --> 37.71280837380052\n",
      "WCSS for K=3 --> 28.32134393189509\n",
      "WCSS for K=4 --> 20.89571128178056\n",
      "WCSS for K=5 --> 15.875392812992542\n",
      "WCSS for K=6 --> 12.822573252255077\n",
      "WCSS for K=7 --> 10.897900139268302\n",
      "WCSS for K=8 --> 9.576220172129554\n",
      "WCSS for K=9 --> 8.635591434579691\n",
      "WCSS for K=10 --> 7.7224400146449454\n",
      "WCSS for K=11 --> 6.928455457530976\n",
      "WCSS for K=12 --> 6.217536322131518\n",
      "WCSS for K=13 --> 5.517676366475769\n",
      "WCSS for K=14 --> 5.1977377842361765\n",
      "WCSS for K=15 --> 4.838647041484005\n",
      "WCSS for K=16 --> 4.549930753455824\n",
      "WCSS for K=17 --> 4.312199109788333\n",
      "WCSS for K=18 --> 4.08306278558196\n",
      "WCSS for K=19 --> 3.801429864212174\n"
     ]
    }
   ],
   "source": [
    "# Application de la méthode Elbow avec une boucle for. L'objectif est de modifier le nbr de cluster de 1 à 19 pour connaître l'inertie pour chaque valeur de K\n",
    "\n",
    "wcss =  []\n",
    "k = []\n",
    "for i in range (1,20): \n",
    "    kmeans = KMeans(n_clusters= i, init = \"k-means++\", random_state = 0)\n",
    "    kmeans.fit(df_model)\n",
    "    wcss.append(kmeans.inertia_)\n",
    "    k.append(i)\n",
    "    print(\"WCSS for K={} --> {}\".format(i, wcss[-1]))"
   ]
  },
  {
   "cell_type": "code",
   "execution_count": 19,
   "id": "1778f91f-6f80-452a-8bf4-b593003efa0f",
   "metadata": {},
   "outputs": [
    {
     "data": {
      "text/html": [
       "<iframe\n",
       "    scrolling=\"no\"\n",
       "    width=\"100%\"\n",
       "    height=\"545px\"\n",
       "    src=\"iframe_figures/figure_19.html\"\n",
       "    frameborder=\"0\"\n",
       "    allowfullscreen\n",
       "></iframe>\n"
      ]
     },
     "metadata": {},
     "output_type": "display_data"
    }
   ],
   "source": [
    "# Création d'un DataFrame\n",
    "wcss_frame = pd.DataFrame(wcss)\n",
    "k_frame = pd.Series(k)\n",
    "\n",
    "# Création d'une figure\n",
    "fig= px.line(\n",
    "    wcss_frame,\n",
    "    x=k_frame,\n",
    "    y=wcss_frame.iloc[:,-1]\n",
    ")\n",
    "\n",
    "# Création d'un axe et d'un titre\n",
    "fig.update_layout(\n",
    "    yaxis_title=\"Inertia\",\n",
    "    xaxis_title=\"# Clusters\",\n",
    "    title=\"Inertia per cluster\"\n",
    ")\n",
    "\n",
    "fig.show(renderer=\"iframe\") # if using workspace"
   ]
  },
  {
   "cell_type": "markdown",
   "id": "a9ae2b50-54f3-4e19-8692-a509c01908af",
   "metadata": {},
   "source": [
    "Avec la méthode Elbow, le nombre de cluster optimal serait compris entre 3 et 6"
   ]
  },
  {
   "cell_type": "markdown",
   "id": "66dbeaa7-37ae-4de6-a6c6-abb85f6f9f25",
   "metadata": {},
   "source": [
    "**Méthode Silhouette**  \n",
    "La méthode silhouette essaie de déterminer à quelle distance se trouvent chaque groupe(et donc à quel point ils sont significatifs)"
   ]
  },
  {
   "cell_type": "code",
   "execution_count": 20,
   "id": "61e1b164-d1ac-4cc0-8a24-b248f6e8cdd4",
   "metadata": {},
   "outputs": [
    {
     "name": "stdout",
     "output_type": "stream",
     "text": [
      "Silhouette score for K=2 is 0.7263771291722336\n",
      "Silhouette score for K=3 is 0.40773729148770177\n",
      "Silhouette score for K=4 is 0.428847533402157\n",
      "Silhouette score for K=5 is 0.44982133054459494\n",
      "Silhouette score for K=6 is 0.4713777148995064\n",
      "Silhouette score for K=7 is 0.4747723843351138\n",
      "Silhouette score for K=8 is 0.43168475349058044\n",
      "Silhouette score for K=9 is 0.43099296470182463\n",
      "Silhouette score for K=10 is 0.4315161351762257\n"
     ]
    }
   ],
   "source": [
    "# Application de la méthode silhouette avec un boucle for. L'objectif est de modifier le nbr de cluster de 1 à 19 pour connaître la silhouette score pour chaque valeur de K\n",
    "\n",
    "sil = []\n",
    "k = []\n",
    "\n",
    "for i in range (2,11): \n",
    "    kmeans = KMeans(n_clusters= i, init = \"k-means++\", random_state = 0)\n",
    "    kmeans.fit(df_model)\n",
    "    sil.append(silhouette_score(df_model, kmeans.predict(df_model)))\n",
    "    k.append(i)\n",
    "    print(\"Silhouette score for K={} is {}\".format(i, sil[-1]))"
   ]
  },
  {
   "cell_type": "code",
   "execution_count": 21,
   "id": "9a8cc78f-d4cb-4adb-82d0-5fad0baee639",
   "metadata": {},
   "outputs": [
    {
     "data": {
      "text/html": [
       "<iframe\n",
       "    scrolling=\"no\"\n",
       "    width=\"100%\"\n",
       "    height=\"545px\"\n",
       "    src=\"iframe_figures/figure_21.html\"\n",
       "    frameborder=\"0\"\n",
       "    allowfullscreen\n",
       "></iframe>\n"
      ]
     },
     "metadata": {},
     "output_type": "display_data"
    }
   ],
   "source": [
    "cluster_scores=pd.DataFrame(sil)\n",
    "k_frame = pd.Series(k)\n",
    "\n",
    "fig = px.bar(data_frame=cluster_scores,  \n",
    "             x=k, \n",
    "             y=cluster_scores.iloc[:, -1]\n",
    "            )\n",
    "\n",
    "fig.update_layout(\n",
    "    yaxis_title=\"Silhouette Score\",\n",
    "    xaxis_title=\"# Clusters\",\n",
    "    title=\"Silhouette Score per cluster\"\n",
    ")\n",
    "\n",
    "\n",
    "fig.show(renderer=\"iframe\")"
   ]
  },
  {
   "cell_type": "markdown",
   "id": "d119357d-5fa8-4eb4-b9c5-b7a6ec6ba6fc",
   "metadata": {},
   "source": [
    "**Résultats**  \n",
    "La méthode silhouette montre que 4 clusters est le nombre de cluster \"idéal\".  \n",
    "Par la suite je vais donc travailler avec un nombre de cluster de 4"
   ]
  },
  {
   "cell_type": "code",
   "execution_count": 22,
   "id": "57831ba7-04f2-4003-8bb6-6f5cac70bbbd",
   "metadata": {},
   "outputs": [
    {
     "data": {
      "text/plain": [
       "KMeans(n_clusters=4, random_state=0)"
      ]
     },
     "execution_count": 22,
     "metadata": {},
     "output_type": "execute_result"
    }
   ],
   "source": [
    "# On applique le modèle à nos données\n",
    "\n",
    "kmeans = KMeans(n_clusters= 4, init = \"k-means++\", random_state = 0)\n",
    "kmeans.fit(df_model)"
   ]
  },
  {
   "cell_type": "code",
   "execution_count": 24,
   "id": "ad9130c8-b79d-4a9d-8606-9bbae2711bf0",
   "metadata": {},
   "outputs": [],
   "source": [
    "#On récupère les coordonnées des centres de cluster\n",
    "cluster_centers = kmeans.cluster_centers_"
   ]
  },
  {
   "cell_type": "code",
   "execution_count": 25,
   "id": "7379e376-7df8-46a8-b6ba-6de99b5addbd",
   "metadata": {},
   "outputs": [
    {
     "data": {
      "text/plain": [
       "array([[ 40.76782741, -73.96612107],\n",
       "       [ 40.72198106, -73.99254926],\n",
       "       [ 40.67683229, -73.77723341],\n",
       "       [ 40.69598509, -74.20891925]])"
      ]
     },
     "execution_count": 25,
     "metadata": {},
     "output_type": "execute_result"
    }
   ],
   "source": [
    "cluster_centers"
   ]
  },
  {
   "cell_type": "code",
   "execution_count": 26,
   "id": "b68e9a75-4740-44b2-8730-6a225062de2d",
   "metadata": {},
   "outputs": [
    {
     "data": {
      "text/plain": [
       "array([0, 1, 1, ..., 1, 1, 0])"
      ]
     },
     "execution_count": 26,
     "metadata": {},
     "output_type": "execute_result"
    }
   ],
   "source": [
    "# On créer un variable y, qui contient les prédiction du modèle\n",
    "y = kmeans.fit_predict(df_model)\n",
    "y"
   ]
  },
  {
   "cell_type": "code",
   "execution_count": 27,
   "id": "f46f260c-48b6-4d04-be61-a9868c56dc15",
   "metadata": {},
   "outputs": [
    {
     "data": {
      "text/plain": [
       "1    7477\n",
       "0    6462\n",
       "2     446\n",
       "3     161\n",
       "Name: pred, dtype: int64"
      ]
     },
     "execution_count": 27,
     "metadata": {},
     "output_type": "execute_result"
    }
   ],
   "source": [
    "df2 = pd.Series(y, name = 'pred')\n",
    "df2.value_counts()"
   ]
  },
  {
   "cell_type": "code",
   "execution_count": 28,
   "id": "fed307c1-1ffe-414a-8ed6-df984f8c1618",
   "metadata": {},
   "outputs": [
    {
     "data": {
      "text/html": [
       "<div>\n",
       "<style scoped>\n",
       "    .dataframe tbody tr th:only-of-type {\n",
       "        vertical-align: middle;\n",
       "    }\n",
       "\n",
       "    .dataframe tbody tr th {\n",
       "        vertical-align: top;\n",
       "    }\n",
       "\n",
       "    .dataframe thead th {\n",
       "        text-align: right;\n",
       "    }\n",
       "</style>\n",
       "<table border=\"1\" class=\"dataframe\">\n",
       "  <thead>\n",
       "    <tr style=\"text-align: right;\">\n",
       "      <th></th>\n",
       "      <th>Lat</th>\n",
       "      <th>Lon</th>\n",
       "      <th>cluster</th>\n",
       "    </tr>\n",
       "  </thead>\n",
       "  <tbody>\n",
       "    <tr>\n",
       "      <th>0</th>\n",
       "      <td>40.7690</td>\n",
       "      <td>-73.9549</td>\n",
       "      <td>0</td>\n",
       "    </tr>\n",
       "    <tr>\n",
       "      <th>1</th>\n",
       "      <td>40.7267</td>\n",
       "      <td>-74.0345</td>\n",
       "      <td>1</td>\n",
       "    </tr>\n",
       "    <tr>\n",
       "      <th>2</th>\n",
       "      <td>40.7316</td>\n",
       "      <td>-73.9873</td>\n",
       "      <td>1</td>\n",
       "    </tr>\n",
       "    <tr>\n",
       "      <th>3</th>\n",
       "      <td>40.7588</td>\n",
       "      <td>-73.9776</td>\n",
       "      <td>0</td>\n",
       "    </tr>\n",
       "    <tr>\n",
       "      <th>4</th>\n",
       "      <td>40.7594</td>\n",
       "      <td>-73.9722</td>\n",
       "      <td>0</td>\n",
       "    </tr>\n",
       "    <tr>\n",
       "      <th>...</th>\n",
       "      <td>...</td>\n",
       "      <td>...</td>\n",
       "      <td>...</td>\n",
       "    </tr>\n",
       "    <tr>\n",
       "      <th>554926</th>\n",
       "      <td>40.7219</td>\n",
       "      <td>-73.9920</td>\n",
       "      <td>1</td>\n",
       "    </tr>\n",
       "    <tr>\n",
       "      <th>554927</th>\n",
       "      <td>40.7261</td>\n",
       "      <td>-74.0027</td>\n",
       "      <td>1</td>\n",
       "    </tr>\n",
       "    <tr>\n",
       "      <th>554928</th>\n",
       "      <td>40.7364</td>\n",
       "      <td>-73.9926</td>\n",
       "      <td>1</td>\n",
       "    </tr>\n",
       "    <tr>\n",
       "      <th>554929</th>\n",
       "      <td>40.7149</td>\n",
       "      <td>-73.9405</td>\n",
       "      <td>1</td>\n",
       "    </tr>\n",
       "    <tr>\n",
       "      <th>554930</th>\n",
       "      <td>40.7493</td>\n",
       "      <td>-73.9768</td>\n",
       "      <td>0</td>\n",
       "    </tr>\n",
       "  </tbody>\n",
       "</table>\n",
       "<p>14546 rows × 3 columns</p>\n",
       "</div>"
      ],
      "text/plain": [
       "            Lat      Lon  cluster\n",
       "0       40.7690 -73.9549        0\n",
       "1       40.7267 -74.0345        1\n",
       "2       40.7316 -73.9873        1\n",
       "3       40.7588 -73.9776        0\n",
       "4       40.7594 -73.9722        0\n",
       "...         ...      ...      ...\n",
       "554926  40.7219 -73.9920        1\n",
       "554927  40.7261 -74.0027        1\n",
       "554928  40.7364 -73.9926        1\n",
       "554929  40.7149 -73.9405        1\n",
       "554930  40.7493 -73.9768        0\n",
       "\n",
       "[14546 rows x 3 columns]"
      ]
     },
     "execution_count": 28,
     "metadata": {},
     "output_type": "execute_result"
    }
   ],
   "source": [
    "# On ajoute la colonne y(prédiction) à notre dataframe de départ\n",
    "df_model['cluster'] = y\n",
    "df_model"
   ]
  },
  {
   "cell_type": "markdown",
   "id": "ce52c153-59b9-44ab-9958-38db9eb49ab6",
   "metadata": {},
   "source": [
    "Pour chaque coordonnée le modèle l'attribut à un cluster. Qui sera représenté dans le graphique suivant."
   ]
  },
  {
   "cell_type": "code",
   "execution_count": 29,
   "id": "9cffafdb-a43f-4c48-8fd6-88818287a5e2",
   "metadata": {},
   "outputs": [
    {
     "data": {
      "text/html": [
       "<iframe\n",
       "    scrolling=\"no\"\n",
       "    width=\"100%\"\n",
       "    height=\"545px\"\n",
       "    src=\"iframe_figures/figure_29.html\"\n",
       "    frameborder=\"0\"\n",
       "    allowfullscreen\n",
       "></iframe>\n"
      ]
     },
     "metadata": {},
     "output_type": "display_data"
    }
   ],
   "source": [
    "fig = px.scatter_mapbox(\n",
    "df_model[df_model.cluster != -1], \n",
    "lat=\"Lat\", \n",
    "lon=\"Lon\",\n",
    "color=\"cluster\",\n",
    "mapbox_style=\"carto-positron\")\n",
    "fig.show(\"iframe\")"
   ]
  },
  {
   "cell_type": "markdown",
   "id": "5630d80a-dd47-4fac-beaf-48a281af336f",
   "metadata": {},
   "source": [
    "Sur ce graphique (modèle K-Means), on remarque que le centre ville est cette fois-ci composé de 2 clusters.  Le Cluster 1 (représenté en violet) regroupe sur 1 jour plus de 1000 demande que le cluster 0 (représenté en bleu)."
   ]
  },
  {
   "cell_type": "markdown",
   "id": "29bc656b-a361-4ad5-87ac-85d36714c049",
   "metadata": {},
   "source": [
    "# Conclusion sur cette première analyse : "
   ]
  },
  {
   "cell_type": "markdown",
   "id": "322414d5-a144-4ed5-aa6f-b06b3d194727",
   "metadata": {},
   "source": [
    "Pour cette première analyse, je me suis concentré sur le jour 1 du mois d'avril. On remarque que le modèle Kmeans est le modèle le plus approprié pour créer des clusters biens distincts et identifiables. Pour la suite du projet, je vais garder ce modèle. Nous allons faire une analyse sur l'ensemble du mois d'avril, en regroupant par jour de la semaine (Donc 7 jours)"
   ]
  },
  {
   "cell_type": "markdown",
   "id": "2513b680-8be7-4590-a536-3f00fe4797fe",
   "metadata": {},
   "source": [
    "# Analyse par jour de la semaine du mois d'Avil : "
   ]
  },
  {
   "cell_type": "code",
   "execution_count": 30,
   "id": "2b3dee4b-d646-411d-8588-1bf895483f1c",
   "metadata": {},
   "outputs": [
    {
     "data": {
      "text/html": [
       "<div>\n",
       "<style scoped>\n",
       "    .dataframe tbody tr th:only-of-type {\n",
       "        vertical-align: middle;\n",
       "    }\n",
       "\n",
       "    .dataframe tbody tr th {\n",
       "        vertical-align: top;\n",
       "    }\n",
       "\n",
       "    .dataframe thead th {\n",
       "        text-align: right;\n",
       "    }\n",
       "</style>\n",
       "<table border=\"1\" class=\"dataframe\">\n",
       "  <thead>\n",
       "    <tr style=\"text-align: right;\">\n",
       "      <th></th>\n",
       "      <th>Date/Time</th>\n",
       "      <th>Lat</th>\n",
       "      <th>Lon</th>\n",
       "      <th>Base</th>\n",
       "      <th>Month</th>\n",
       "      <th>Heure</th>\n",
       "      <th>Minute</th>\n",
       "      <th>Jour</th>\n",
       "    </tr>\n",
       "  </thead>\n",
       "  <tbody>\n",
       "    <tr>\n",
       "      <th>0</th>\n",
       "      <td>2014-04-01 00:11:00</td>\n",
       "      <td>40.7690</td>\n",
       "      <td>-73.9549</td>\n",
       "      <td>B02512</td>\n",
       "      <td>4</td>\n",
       "      <td>0</td>\n",
       "      <td>11</td>\n",
       "      <td>1</td>\n",
       "    </tr>\n",
       "    <tr>\n",
       "      <th>1</th>\n",
       "      <td>2014-04-01 00:17:00</td>\n",
       "      <td>40.7267</td>\n",
       "      <td>-74.0345</td>\n",
       "      <td>B02512</td>\n",
       "      <td>4</td>\n",
       "      <td>0</td>\n",
       "      <td>17</td>\n",
       "      <td>1</td>\n",
       "    </tr>\n",
       "    <tr>\n",
       "      <th>2</th>\n",
       "      <td>2014-04-01 00:21:00</td>\n",
       "      <td>40.7316</td>\n",
       "      <td>-73.9873</td>\n",
       "      <td>B02512</td>\n",
       "      <td>4</td>\n",
       "      <td>0</td>\n",
       "      <td>21</td>\n",
       "      <td>1</td>\n",
       "    </tr>\n",
       "    <tr>\n",
       "      <th>3</th>\n",
       "      <td>2014-04-01 00:28:00</td>\n",
       "      <td>40.7588</td>\n",
       "      <td>-73.9776</td>\n",
       "      <td>B02512</td>\n",
       "      <td>4</td>\n",
       "      <td>0</td>\n",
       "      <td>28</td>\n",
       "      <td>1</td>\n",
       "    </tr>\n",
       "    <tr>\n",
       "      <th>4</th>\n",
       "      <td>2014-04-01 00:33:00</td>\n",
       "      <td>40.7594</td>\n",
       "      <td>-73.9722</td>\n",
       "      <td>B02512</td>\n",
       "      <td>4</td>\n",
       "      <td>0</td>\n",
       "      <td>33</td>\n",
       "      <td>1</td>\n",
       "    </tr>\n",
       "  </tbody>\n",
       "</table>\n",
       "</div>"
      ],
      "text/plain": [
       "            Date/Time      Lat      Lon    Base  Month  Heure  Minute  Jour\n",
       "0 2014-04-01 00:11:00  40.7690 -73.9549  B02512      4      0      11     1\n",
       "1 2014-04-01 00:17:00  40.7267 -74.0345  B02512      4      0      17     1\n",
       "2 2014-04-01 00:21:00  40.7316 -73.9873  B02512      4      0      21     1\n",
       "3 2014-04-01 00:28:00  40.7588 -73.9776  B02512      4      0      28     1\n",
       "4 2014-04-01 00:33:00  40.7594 -73.9722  B02512      4      0      33     1"
      ]
     },
     "execution_count": 30,
     "metadata": {},
     "output_type": "execute_result"
    }
   ],
   "source": [
    "df.head()"
   ]
  },
  {
   "cell_type": "code",
   "execution_count": 31,
   "id": "5d3f5d2b-af7f-4d90-a07c-8444cb9e4b66",
   "metadata": {},
   "outputs": [
    {
     "data": {
      "text/html": [
       "<div>\n",
       "<style scoped>\n",
       "    .dataframe tbody tr th:only-of-type {\n",
       "        vertical-align: middle;\n",
       "    }\n",
       "\n",
       "    .dataframe tbody tr th {\n",
       "        vertical-align: top;\n",
       "    }\n",
       "\n",
       "    .dataframe thead th {\n",
       "        text-align: right;\n",
       "    }\n",
       "</style>\n",
       "<table border=\"1\" class=\"dataframe\">\n",
       "  <thead>\n",
       "    <tr style=\"text-align: right;\">\n",
       "      <th></th>\n",
       "      <th>Date/Time</th>\n",
       "      <th>Lat</th>\n",
       "      <th>Lon</th>\n",
       "      <th>Base</th>\n",
       "      <th>Month</th>\n",
       "      <th>Heure</th>\n",
       "      <th>Minute</th>\n",
       "      <th>Jour</th>\n",
       "      <th>Semaine</th>\n",
       "    </tr>\n",
       "  </thead>\n",
       "  <tbody>\n",
       "    <tr>\n",
       "      <th>0</th>\n",
       "      <td>2014-04-01 00:11:00</td>\n",
       "      <td>40.7690</td>\n",
       "      <td>-73.9549</td>\n",
       "      <td>B02512</td>\n",
       "      <td>4</td>\n",
       "      <td>0</td>\n",
       "      <td>11</td>\n",
       "      <td>1</td>\n",
       "      <td>1</td>\n",
       "    </tr>\n",
       "    <tr>\n",
       "      <th>1</th>\n",
       "      <td>2014-04-01 00:17:00</td>\n",
       "      <td>40.7267</td>\n",
       "      <td>-74.0345</td>\n",
       "      <td>B02512</td>\n",
       "      <td>4</td>\n",
       "      <td>0</td>\n",
       "      <td>17</td>\n",
       "      <td>1</td>\n",
       "      <td>1</td>\n",
       "    </tr>\n",
       "    <tr>\n",
       "      <th>2</th>\n",
       "      <td>2014-04-01 00:21:00</td>\n",
       "      <td>40.7316</td>\n",
       "      <td>-73.9873</td>\n",
       "      <td>B02512</td>\n",
       "      <td>4</td>\n",
       "      <td>0</td>\n",
       "      <td>21</td>\n",
       "      <td>1</td>\n",
       "      <td>1</td>\n",
       "    </tr>\n",
       "    <tr>\n",
       "      <th>3</th>\n",
       "      <td>2014-04-01 00:28:00</td>\n",
       "      <td>40.7588</td>\n",
       "      <td>-73.9776</td>\n",
       "      <td>B02512</td>\n",
       "      <td>4</td>\n",
       "      <td>0</td>\n",
       "      <td>28</td>\n",
       "      <td>1</td>\n",
       "      <td>1</td>\n",
       "    </tr>\n",
       "    <tr>\n",
       "      <th>4</th>\n",
       "      <td>2014-04-01 00:33:00</td>\n",
       "      <td>40.7594</td>\n",
       "      <td>-73.9722</td>\n",
       "      <td>B02512</td>\n",
       "      <td>4</td>\n",
       "      <td>0</td>\n",
       "      <td>33</td>\n",
       "      <td>1</td>\n",
       "      <td>1</td>\n",
       "    </tr>\n",
       "  </tbody>\n",
       "</table>\n",
       "</div>"
      ],
      "text/plain": [
       "            Date/Time      Lat      Lon    Base  Month  Heure  Minute  Jour  \\\n",
       "0 2014-04-01 00:11:00  40.7690 -73.9549  B02512      4      0      11     1   \n",
       "1 2014-04-01 00:17:00  40.7267 -74.0345  B02512      4      0      17     1   \n",
       "2 2014-04-01 00:21:00  40.7316 -73.9873  B02512      4      0      21     1   \n",
       "3 2014-04-01 00:28:00  40.7588 -73.9776  B02512      4      0      28     1   \n",
       "4 2014-04-01 00:33:00  40.7594 -73.9722  B02512      4      0      33     1   \n",
       "\n",
       "   Semaine  \n",
       "0        1  \n",
       "1        1  \n",
       "2        1  \n",
       "3        1  \n",
       "4        1  "
      ]
     },
     "execution_count": 31,
     "metadata": {},
     "output_type": "execute_result"
    }
   ],
   "source": [
    "# Création de la colonne Semaine\n",
    "\n",
    "uber['Date/Time'] = pd.to_datetime(uber['Date/Time'])\n",
    "uber.loc[:,'Semaine'] = uber['Date/Time'].dt.dayofweek\n",
    "uber.head()"
   ]
  },
  {
   "cell_type": "code",
   "execution_count": 32,
   "id": "0cf6b6fd-30ea-4767-a797-75a03fe1b6e1",
   "metadata": {},
   "outputs": [
    {
     "data": {
      "text/plain": [
       "2    108631\n",
       "1     91185\n",
       "4     90303\n",
       "3     85067\n",
       "5     77218\n",
       "0     60861\n",
       "6     51251\n",
       "Name: Semaine, dtype: int64"
      ]
     },
     "execution_count": 32,
     "metadata": {},
     "output_type": "execute_result"
    }
   ],
   "source": [
    "uber['Semaine'].value_counts()\n",
    "# On a sept résultats corrspndant aux 7 jours de la semaine!"
   ]
  },
  {
   "cell_type": "code",
   "execution_count": 33,
   "id": "bcc62a7d-afa0-4fbd-9cf8-aa211e2cf156",
   "metadata": {},
   "outputs": [
    {
     "data": {
      "text/html": [
       "<div>\n",
       "<style scoped>\n",
       "    .dataframe tbody tr th:only-of-type {\n",
       "        vertical-align: middle;\n",
       "    }\n",
       "\n",
       "    .dataframe tbody tr th {\n",
       "        vertical-align: top;\n",
       "    }\n",
       "\n",
       "    .dataframe thead th {\n",
       "        text-align: right;\n",
       "    }\n",
       "</style>\n",
       "<table border=\"1\" class=\"dataframe\">\n",
       "  <thead>\n",
       "    <tr style=\"text-align: right;\">\n",
       "      <th></th>\n",
       "      <th>Lat</th>\n",
       "      <th>Lon</th>\n",
       "    </tr>\n",
       "  </thead>\n",
       "  <tbody>\n",
       "    <tr>\n",
       "      <th>0</th>\n",
       "      <td>40.7690</td>\n",
       "      <td>-73.9549</td>\n",
       "    </tr>\n",
       "    <tr>\n",
       "      <th>1</th>\n",
       "      <td>40.7267</td>\n",
       "      <td>-74.0345</td>\n",
       "    </tr>\n",
       "    <tr>\n",
       "      <th>2</th>\n",
       "      <td>40.7316</td>\n",
       "      <td>-73.9873</td>\n",
       "    </tr>\n",
       "    <tr>\n",
       "      <th>3</th>\n",
       "      <td>40.7588</td>\n",
       "      <td>-73.9776</td>\n",
       "    </tr>\n",
       "    <tr>\n",
       "      <th>4</th>\n",
       "      <td>40.7594</td>\n",
       "      <td>-73.9722</td>\n",
       "    </tr>\n",
       "  </tbody>\n",
       "</table>\n",
       "</div>"
      ],
      "text/plain": [
       "       Lat      Lon\n",
       "0  40.7690 -73.9549\n",
       "1  40.7267 -74.0345\n",
       "2  40.7316 -73.9873\n",
       "3  40.7588 -73.9776\n",
       "4  40.7594 -73.9722"
      ]
     },
     "execution_count": 33,
     "metadata": {},
     "output_type": "execute_result"
    }
   ],
   "source": [
    "# On sélection seulement la semaine 1\n",
    "\n",
    "uber_model = uber.loc[uber['Semaine']==1, ['Lat', 'Lon']]\n",
    "uber_model.head()"
   ]
  },
  {
   "cell_type": "code",
   "execution_count": 34,
   "id": "8dc14173-0a7f-46d5-9180-f3f76d4f151b",
   "metadata": {},
   "outputs": [
    {
     "data": {
      "text/plain": [
       "(91185, 2)"
      ]
     },
     "execution_count": 34,
     "metadata": {},
     "output_type": "execute_result"
    }
   ],
   "source": [
    "uber_model.shape"
   ]
  },
  {
   "cell_type": "markdown",
   "id": "90b7bdc8-a94f-4e08-84b3-bbae9a89a0d3",
   "metadata": {},
   "source": [
    "le shape correspond bien au nombre de valeurs contenus dans le jour 1"
   ]
  },
  {
   "cell_type": "code",
   "execution_count": 35,
   "id": "a3819dc0-bccf-4a59-89ef-cb38be6bc95b",
   "metadata": {},
   "outputs": [
    {
     "data": {
      "text/plain": [
       "array([1, 2, 3, 4, 5, 6, 0], dtype=int64)"
      ]
     },
     "execution_count": 35,
     "metadata": {},
     "output_type": "execute_result"
    }
   ],
   "source": [
    "uber['Semaine'].unique()"
   ]
  },
  {
   "cell_type": "code",
   "execution_count": 36,
   "id": "22d01479-760c-407b-9b39-57a761995363",
   "metadata": {},
   "outputs": [
    {
     "data": {
      "text/html": [
       "<iframe\n",
       "    scrolling=\"no\"\n",
       "    width=\"100%\"\n",
       "    height=\"545px\"\n",
       "    src=\"iframe_figures/figure_36.html\"\n",
       "    frameborder=\"0\"\n",
       "    allowfullscreen\n",
       "></iframe>\n"
      ]
     },
     "metadata": {},
     "output_type": "display_data"
    },
    {
     "data": {
      "text/html": [
       "<iframe\n",
       "    scrolling=\"no\"\n",
       "    width=\"100%\"\n",
       "    height=\"545px\"\n",
       "    src=\"iframe_figures/figure_36.html\"\n",
       "    frameborder=\"0\"\n",
       "    allowfullscreen\n",
       "></iframe>\n"
      ]
     },
     "metadata": {},
     "output_type": "display_data"
    },
    {
     "data": {
      "text/html": [
       "<iframe\n",
       "    scrolling=\"no\"\n",
       "    width=\"100%\"\n",
       "    height=\"545px\"\n",
       "    src=\"iframe_figures/figure_36.html\"\n",
       "    frameborder=\"0\"\n",
       "    allowfullscreen\n",
       "></iframe>\n"
      ]
     },
     "metadata": {},
     "output_type": "display_data"
    },
    {
     "data": {
      "text/html": [
       "<iframe\n",
       "    scrolling=\"no\"\n",
       "    width=\"100%\"\n",
       "    height=\"545px\"\n",
       "    src=\"iframe_figures/figure_36.html\"\n",
       "    frameborder=\"0\"\n",
       "    allowfullscreen\n",
       "></iframe>\n"
      ]
     },
     "metadata": {},
     "output_type": "display_data"
    },
    {
     "data": {
      "text/html": [
       "<iframe\n",
       "    scrolling=\"no\"\n",
       "    width=\"100%\"\n",
       "    height=\"545px\"\n",
       "    src=\"iframe_figures/figure_36.html\"\n",
       "    frameborder=\"0\"\n",
       "    allowfullscreen\n",
       "></iframe>\n"
      ]
     },
     "metadata": {},
     "output_type": "display_data"
    },
    {
     "data": {
      "text/html": [
       "<iframe\n",
       "    scrolling=\"no\"\n",
       "    width=\"100%\"\n",
       "    height=\"545px\"\n",
       "    src=\"iframe_figures/figure_36.html\"\n",
       "    frameborder=\"0\"\n",
       "    allowfullscreen\n",
       "></iframe>\n"
      ]
     },
     "metadata": {},
     "output_type": "display_data"
    },
    {
     "data": {
      "text/html": [
       "<iframe\n",
       "    scrolling=\"no\"\n",
       "    width=\"100%\"\n",
       "    height=\"545px\"\n",
       "    src=\"iframe_figures/figure_36.html\"\n",
       "    frameborder=\"0\"\n",
       "    allowfullscreen\n",
       "></iframe>\n"
      ]
     },
     "metadata": {},
     "output_type": "display_data"
    }
   ],
   "source": [
    "# On aplique le modèle dans une boucle for, pour qu'il donne des prédiction pour chaque jour de la semaine.\n",
    "\n",
    "for j in uber['Semaine'].unique():\n",
    "    uber_model = uber.loc[uber['Semaine']==j, ['Lat', 'Lon']]\n",
    "    model = KMeans(n_clusters= 4, init = \"k-means++\", random_state = 0)\n",
    "    model.fit(uber_model)\n",
    "    \n",
    "    uber_model.loc[:, 'Cluster'] = model.fit_predict(uber_model)\n",
    "    \n",
    "    fig = px.scatter_mapbox(\n",
    "        uber_model[uber_model.Cluster != -1], \n",
    "        lat=\"Lat\", \n",
    "        lon=\"Lon\",\n",
    "        color=\"Cluster\",\n",
    "        mapbox_style=\"carto-positron\")\n",
    "    fig.show(renderer=\"iframe\")"
   ]
  },
  {
   "cell_type": "code",
   "execution_count": null,
   "id": "20a5c6f0-17fb-4a27-9bb8-cb434fadf16c",
   "metadata": {},
   "outputs": [],
   "source": []
  }
 ],
 "metadata": {
  "kernelspec": {
   "display_name": "Python 3",
   "language": "python",
   "name": "python3"
  },
  "language_info": {
   "codemirror_mode": {
    "name": "ipython",
    "version": 3
   },
   "file_extension": ".py",
   "mimetype": "text/x-python",
   "name": "python",
   "nbconvert_exporter": "python",
   "pygments_lexer": "ipython3",
   "version": "3.8.10"
  }
 },
 "nbformat": 4,
 "nbformat_minor": 5
}
