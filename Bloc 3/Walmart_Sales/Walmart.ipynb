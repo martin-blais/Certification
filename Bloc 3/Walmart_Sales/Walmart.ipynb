{
 "cells": [
  {
   "cell_type": "markdown",
   "metadata": {},
   "source": [
    "<img src=\"https://www.bestdesigns.co/uploads/inspiration_images/4350/990__1511457498_404_walmart.png\" alt=\"WALMART LOGO\">\n",
    "\n",
    "# Walmart : predict weekly sales"
   ]
  },
  {
   "cell_type": "markdown",
   "metadata": {},
   "source": [
    "Walmart Inc. est une multinationale américaine de vente au détail qui exploite une chaîne d’hypermarchés, de grands magasins à rabais et d’épiceries des États-Unis, dont le siège social est situé à Bentonville, en  Arkansas. La société a été fondée par Sam Walton en 1962."
   ]
  },
  {
   "cell_type": "markdown",
   "metadata": {},
   "source": [
    "**Projet**  \n",
    "  \n",
    "Le service marketing de Walmart vous a demandé de construire un modèle d’apprentissage automatique capable d’estimer les ventes hebdomadaires dans leurs magasins, avec la meilleure précision possible sur les prédictions faites. Un tel modèle les aiderait à mieux comprendre comment les ventes sont influencées par les indicateurs économiques et pourrait être utilisé pour planifier de futures campagnes de marketing."
   ]
  },
  {
   "cell_type": "markdown",
   "metadata": {},
   "source": [
    "**Objectifs**  \n",
    "1) Faire un EDA\n",
    "2) Entraîner un modèle de régression linéaire  \n",
    "3) éviter un over-fitting"
   ]
  },
  {
   "cell_type": "markdown",
   "metadata": {},
   "source": [
    "## Importation des librairies"
   ]
  },
  {
   "cell_type": "code",
   "execution_count": 33,
   "metadata": {},
   "outputs": [],
   "source": [
    "import pandas as pd\n",
    "from datetime import datetime\n",
    "\n",
    "from sklearn.model_selection import train_test_split\n",
    "from sklearn.pipeline import Pipeline\n",
    "from sklearn.impute import SimpleImputer\n",
    "from sklearn.preprocessing import OneHotEncoder, StandardScaler\n",
    "from sklearn.compose import ColumnTransformer\n",
    "from sklearn.metrics import accuracy_score , r2_score, mean_squared_error\n",
    "from sklearn.linear_model import LinearRegression , Ridge, Lasso\n",
    "from sklearn.feature_selection import f_regression\n",
    "from sklearn.model_selection import GridSearchCV\n",
    "\n",
    "import seaborn as sns\n",
    "import matplotlib.pyplot as plt\n",
    "import plotly.express as px\n",
    "import plotly.graph_objects as go\n",
    "import plotly.io as pio\n",
    "# setting Jedha color palette as default\n",
    "pio.templates[\"jedha\"] = go.layout.Template(\n",
    "    layout_colorway=[\"#4B9AC7\", \"#4BE8E0\", \"#9DD4F3\", \"#97FBF6\", \"#2A7FAF\", \"#23B1AB\", \"#0E3449\", \"#015955\"]\n",
    ")\n",
    "pio.templates.default = \"jedha\"\n",
    "pio.renderers.default = \"iframe\""
   ]
  },
  {
   "cell_type": "markdown",
   "metadata": {},
   "source": [
    "## 1) EDA"
   ]
  },
  {
   "cell_type": "code",
   "execution_count": 2,
   "metadata": {
    "colab_type": "text",
    "id": "vrMMuiomtYse"
   },
   "outputs": [],
   "source": [
    "df = pd.read_csv('Walmart_Store_sales.csv') # Importation du csv"
   ]
  },
  {
   "cell_type": "code",
   "execution_count": 3,
   "metadata": {},
   "outputs": [
    {
     "data": {
      "text/html": [
       "<div>\n",
       "<style scoped>\n",
       "    .dataframe tbody tr th:only-of-type {\n",
       "        vertical-align: middle;\n",
       "    }\n",
       "\n",
       "    .dataframe tbody tr th {\n",
       "        vertical-align: top;\n",
       "    }\n",
       "\n",
       "    .dataframe thead th {\n",
       "        text-align: right;\n",
       "    }\n",
       "</style>\n",
       "<table border=\"1\" class=\"dataframe\">\n",
       "  <thead>\n",
       "    <tr style=\"text-align: right;\">\n",
       "      <th></th>\n",
       "      <th>Store</th>\n",
       "      <th>Date</th>\n",
       "      <th>Weekly_Sales</th>\n",
       "      <th>Holiday_Flag</th>\n",
       "      <th>Temperature</th>\n",
       "      <th>Fuel_Price</th>\n",
       "      <th>CPI</th>\n",
       "      <th>Unemployment</th>\n",
       "    </tr>\n",
       "  </thead>\n",
       "  <tbody>\n",
       "    <tr>\n",
       "      <th>0</th>\n",
       "      <td>6.0</td>\n",
       "      <td>18-02-2011</td>\n",
       "      <td>1572117.54</td>\n",
       "      <td>NaN</td>\n",
       "      <td>59.61</td>\n",
       "      <td>3.045</td>\n",
       "      <td>214.777523</td>\n",
       "      <td>6.858</td>\n",
       "    </tr>\n",
       "    <tr>\n",
       "      <th>1</th>\n",
       "      <td>13.0</td>\n",
       "      <td>25-03-2011</td>\n",
       "      <td>1807545.43</td>\n",
       "      <td>0.0</td>\n",
       "      <td>42.38</td>\n",
       "      <td>3.435</td>\n",
       "      <td>128.616064</td>\n",
       "      <td>7.470</td>\n",
       "    </tr>\n",
       "    <tr>\n",
       "      <th>2</th>\n",
       "      <td>17.0</td>\n",
       "      <td>27-07-2012</td>\n",
       "      <td>NaN</td>\n",
       "      <td>0.0</td>\n",
       "      <td>NaN</td>\n",
       "      <td>NaN</td>\n",
       "      <td>130.719581</td>\n",
       "      <td>5.936</td>\n",
       "    </tr>\n",
       "    <tr>\n",
       "      <th>3</th>\n",
       "      <td>11.0</td>\n",
       "      <td>NaN</td>\n",
       "      <td>1244390.03</td>\n",
       "      <td>0.0</td>\n",
       "      <td>84.57</td>\n",
       "      <td>NaN</td>\n",
       "      <td>214.556497</td>\n",
       "      <td>7.346</td>\n",
       "    </tr>\n",
       "    <tr>\n",
       "      <th>4</th>\n",
       "      <td>6.0</td>\n",
       "      <td>28-05-2010</td>\n",
       "      <td>1644470.66</td>\n",
       "      <td>0.0</td>\n",
       "      <td>78.89</td>\n",
       "      <td>2.759</td>\n",
       "      <td>212.412888</td>\n",
       "      <td>7.092</td>\n",
       "    </tr>\n",
       "  </tbody>\n",
       "</table>\n",
       "</div>"
      ],
      "text/plain": [
       "   Store        Date  Weekly_Sales  Holiday_Flag  Temperature  Fuel_Price  \\\n",
       "0    6.0  18-02-2011    1572117.54           NaN        59.61       3.045   \n",
       "1   13.0  25-03-2011    1807545.43           0.0        42.38       3.435   \n",
       "2   17.0  27-07-2012           NaN           0.0          NaN         NaN   \n",
       "3   11.0         NaN    1244390.03           0.0        84.57         NaN   \n",
       "4    6.0  28-05-2010    1644470.66           0.0        78.89       2.759   \n",
       "\n",
       "          CPI  Unemployment  \n",
       "0  214.777523         6.858  \n",
       "1  128.616064         7.470  \n",
       "2  130.719581         5.936  \n",
       "3  214.556497         7.346  \n",
       "4  212.412888         7.092  "
      ]
     },
     "execution_count": 3,
     "metadata": {},
     "output_type": "execute_result"
    }
   ],
   "source": [
    "df.head()"
   ]
  },
  {
   "cell_type": "code",
   "execution_count": 4,
   "metadata": {},
   "outputs": [
    {
     "name": "stdout",
     "output_type": "stream",
     "text": [
      "Voici le shape du dataset : (150, 8)\n",
      "\n",
      "<class 'pandas.core.frame.DataFrame'>\n",
      "RangeIndex: 150 entries, 0 to 149\n",
      "Data columns (total 8 columns):\n",
      " #   Column        Non-Null Count  Dtype  \n",
      "---  ------        --------------  -----  \n",
      " 0   Store         150 non-null    float64\n",
      " 1   Date          132 non-null    object \n",
      " 2   Weekly_Sales  136 non-null    float64\n",
      " 3   Holiday_Flag  138 non-null    float64\n",
      " 4   Temperature   132 non-null    float64\n",
      " 5   Fuel_Price    136 non-null    float64\n",
      " 6   CPI           138 non-null    float64\n",
      " 7   Unemployment  135 non-null    float64\n",
      "dtypes: float64(7), object(1)\n",
      "memory usage: 9.5+ KB\n"
     ]
    },
    {
     "data": {
      "text/plain": [
       "None"
      ]
     },
     "metadata": {},
     "output_type": "display_data"
    },
    {
     "name": "stdout",
     "output_type": "stream",
     "text": [
      "\n",
      "Desciption du dataset :\n"
     ]
    },
    {
     "data": {
      "text/html": [
       "<div>\n",
       "<style scoped>\n",
       "    .dataframe tbody tr th:only-of-type {\n",
       "        vertical-align: middle;\n",
       "    }\n",
       "\n",
       "    .dataframe tbody tr th {\n",
       "        vertical-align: top;\n",
       "    }\n",
       "\n",
       "    .dataframe thead th {\n",
       "        text-align: right;\n",
       "    }\n",
       "</style>\n",
       "<table border=\"1\" class=\"dataframe\">\n",
       "  <thead>\n",
       "    <tr style=\"text-align: right;\">\n",
       "      <th></th>\n",
       "      <th>Store</th>\n",
       "      <th>Weekly_Sales</th>\n",
       "      <th>Holiday_Flag</th>\n",
       "      <th>Temperature</th>\n",
       "      <th>Fuel_Price</th>\n",
       "      <th>CPI</th>\n",
       "      <th>Unemployment</th>\n",
       "    </tr>\n",
       "  </thead>\n",
       "  <tbody>\n",
       "    <tr>\n",
       "      <th>count</th>\n",
       "      <td>150.000000</td>\n",
       "      <td>1.360000e+02</td>\n",
       "      <td>138.000000</td>\n",
       "      <td>132.000000</td>\n",
       "      <td>136.000000</td>\n",
       "      <td>138.000000</td>\n",
       "      <td>135.000000</td>\n",
       "    </tr>\n",
       "    <tr>\n",
       "      <th>mean</th>\n",
       "      <td>9.866667</td>\n",
       "      <td>1.249536e+06</td>\n",
       "      <td>0.079710</td>\n",
       "      <td>61.398106</td>\n",
       "      <td>3.320853</td>\n",
       "      <td>179.898509</td>\n",
       "      <td>7.598430</td>\n",
       "    </tr>\n",
       "    <tr>\n",
       "      <th>std</th>\n",
       "      <td>6.231191</td>\n",
       "      <td>6.474630e+05</td>\n",
       "      <td>0.271831</td>\n",
       "      <td>18.378901</td>\n",
       "      <td>0.478149</td>\n",
       "      <td>40.274956</td>\n",
       "      <td>1.577173</td>\n",
       "    </tr>\n",
       "    <tr>\n",
       "      <th>min</th>\n",
       "      <td>1.000000</td>\n",
       "      <td>2.689290e+05</td>\n",
       "      <td>0.000000</td>\n",
       "      <td>18.790000</td>\n",
       "      <td>2.514000</td>\n",
       "      <td>126.111903</td>\n",
       "      <td>5.143000</td>\n",
       "    </tr>\n",
       "    <tr>\n",
       "      <th>25%</th>\n",
       "      <td>4.000000</td>\n",
       "      <td>6.050757e+05</td>\n",
       "      <td>0.000000</td>\n",
       "      <td>45.587500</td>\n",
       "      <td>2.852250</td>\n",
       "      <td>131.970831</td>\n",
       "      <td>6.597500</td>\n",
       "    </tr>\n",
       "    <tr>\n",
       "      <th>50%</th>\n",
       "      <td>9.000000</td>\n",
       "      <td>1.261424e+06</td>\n",
       "      <td>0.000000</td>\n",
       "      <td>62.985000</td>\n",
       "      <td>3.451000</td>\n",
       "      <td>197.908893</td>\n",
       "      <td>7.470000</td>\n",
       "    </tr>\n",
       "    <tr>\n",
       "      <th>75%</th>\n",
       "      <td>15.750000</td>\n",
       "      <td>1.806386e+06</td>\n",
       "      <td>0.000000</td>\n",
       "      <td>76.345000</td>\n",
       "      <td>3.706250</td>\n",
       "      <td>214.934616</td>\n",
       "      <td>8.150000</td>\n",
       "    </tr>\n",
       "    <tr>\n",
       "      <th>max</th>\n",
       "      <td>20.000000</td>\n",
       "      <td>2.771397e+06</td>\n",
       "      <td>1.000000</td>\n",
       "      <td>91.650000</td>\n",
       "      <td>4.193000</td>\n",
       "      <td>226.968844</td>\n",
       "      <td>14.313000</td>\n",
       "    </tr>\n",
       "  </tbody>\n",
       "</table>\n",
       "</div>"
      ],
      "text/plain": [
       "            Store  Weekly_Sales  Holiday_Flag  Temperature  Fuel_Price  \\\n",
       "count  150.000000  1.360000e+02    138.000000   132.000000  136.000000   \n",
       "mean     9.866667  1.249536e+06      0.079710    61.398106    3.320853   \n",
       "std      6.231191  6.474630e+05      0.271831    18.378901    0.478149   \n",
       "min      1.000000  2.689290e+05      0.000000    18.790000    2.514000   \n",
       "25%      4.000000  6.050757e+05      0.000000    45.587500    2.852250   \n",
       "50%      9.000000  1.261424e+06      0.000000    62.985000    3.451000   \n",
       "75%     15.750000  1.806386e+06      0.000000    76.345000    3.706250   \n",
       "max     20.000000  2.771397e+06      1.000000    91.650000    4.193000   \n",
       "\n",
       "              CPI  Unemployment  \n",
       "count  138.000000    135.000000  \n",
       "mean   179.898509      7.598430  \n",
       "std     40.274956      1.577173  \n",
       "min    126.111903      5.143000  \n",
       "25%    131.970831      6.597500  \n",
       "50%    197.908893      7.470000  \n",
       "75%    214.934616      8.150000  \n",
       "max    226.968844     14.313000  "
      ]
     },
     "metadata": {},
     "output_type": "display_data"
    },
    {
     "name": "stdout",
     "output_type": "stream",
     "text": [
      "\n",
      "Voici le pourcentage de valeurs nulls pour chaque variable\n"
     ]
    },
    {
     "data": {
      "text/plain": [
       "Store           0.000000\n",
       "Date            0.120000\n",
       "Weekly_Sales    0.093333\n",
       "Holiday_Flag    0.080000\n",
       "Temperature     0.120000\n",
       "Fuel_Price      0.093333\n",
       "CPI             0.080000\n",
       "Unemployment    0.100000\n",
       "dtype: float64"
      ]
     },
     "metadata": {},
     "output_type": "display_data"
    }
   ],
   "source": [
    "# Infortations sur le dataset\n",
    "\n",
    "print('Voici le shape du dataset : {}'.format(df.shape))\n",
    "print()\n",
    "\n",
    "display(df.info())\n",
    "print()\n",
    "\n",
    "print('Desciption du dataset :')\n",
    "display(df.describe())\n",
    "print()\n",
    "\n",
    "print('Voici le pourcentage de valeurs nulls pour chaque variable')\n",
    "display(df.isnull().mean())"
   ]
  },
  {
   "cell_type": "markdown",
   "metadata": {},
   "source": [
    "**Première information**  \n",
    "La colonne chômage (Unemployment) est compris entre 5 et 7. Ce sont des données peu cohérentes. On a un manque d'information (faut-il multiplier par 100 ? 1000?...)  \n"
   ]
  },
  {
   "cell_type": "code",
   "execution_count": 5,
   "metadata": {},
   "outputs": [],
   "source": [
    "def date(df):\n",
    "    \"\"\" \n",
    "    Création d'une colonne \"month\" et \"week\" à partir de la colonne \"date\"\n",
    "    \"\"\"\n",
    "    df['Date'] = pd.to_datetime(df['Date'])\n",
    "    df.loc[:,'Month'] = df['Date'].dt.month\n",
    "    df.loc[:,'Week'] = df['Date'].dt.week\n",
    "    \n",
    "    return df"
   ]
  },
  {
   "cell_type": "code",
   "execution_count": 6,
   "metadata": {},
   "outputs": [
    {
     "name": "stderr",
     "output_type": "stream",
     "text": [
      "<ipython-input-5-3287b59c068f>:7: FutureWarning:\n",
      "\n",
      "Series.dt.weekofyear and Series.dt.week have been deprecated.  Please use Series.dt.isocalendar().week instead.\n",
      "\n"
     ]
    }
   ],
   "source": [
    "df = date(df)"
   ]
  },
  {
   "cell_type": "code",
   "execution_count": 7,
   "metadata": {},
   "outputs": [
    {
     "data": {
      "image/png": "[encoded data removed]",
      "text/plain": [
       "<Figure size 432x288 with 1 Axes>"
      ]
     },
     "metadata": {
      "needs_background": "light"
     },
     "output_type": "display_data"
    },
    {
     "data": {
      "image/png": "[encoded data removed]",
      "text/plain": [
       "<Figure size 432x288 with 1 Axes>"
      ]
     },
     "metadata": {
      "needs_background": "light"
     },
     "output_type": "display_data"
    },
    {
     "data": {
      "image/png": "[encoded data removed]",
      "text/plain": [
       "<Figure size 432x288 with 1 Axes>"
      ]
     },
     "metadata": {
      "needs_background": "light"
     },
     "output_type": "display_data"
    },
    {
     "data": {
      "image/png": "[encoded data removed]",
      "text/plain": [
       "<Figure size 432x288 with 1 Axes>"
      ]
     },
     "metadata": {
      "needs_background": "light"
     },
     "output_type": "display_data"
    },
    {
     "data": {
      "image/png": "[encoded data removed]",
      "text/plain": [
       "<Figure size 432x288 with 1 Axes>"
      ]
     },
     "metadata": {
      "needs_background": "light"
     },
     "output_type": "display_data"
    },
    {
     "data": {
      "image/png": "[encoded data removed]",
      "text/plain": [
       "<Figure size 432x288 with 1 Axes>"
      ]
     },
     "metadata": {
      "needs_background": "light"
     },
     "output_type": "display_data"
    },
    {
     "data": {
      "image/png": "[encoded data removed]",
      "text/plain": [
       "<Figure size 432x288 with 1 Axes>"
      ]
     },
     "metadata": {
      "needs_background": "light"
     },
     "output_type": "display_data"
    },
    {
     "data": {
      "image/png": "[encoded data removed]",
      "text/plain": [
       "<Figure size 432x288 with 1 Axes>"
      ]
     },
     "metadata": {
      "needs_background": "light"
     },
     "output_type": "display_data"
    },
    {
     "data": {
      "image/png": "[encoded data removed]",
      "text/plain": [
       "<Figure size 432x288 with 1 Axes>"
      ]
     },
     "metadata": {
      "needs_background": "light"
     },
     "output_type": "display_data"
    }
   ],
   "source": [
    "for col in df.select_dtypes('float'):\n",
    "    plt.figure()\n",
    "    sns.histplot(df[col])\n",
    "    plt.title('Distribution des données {}'.format(col))"
   ]
  },
  {
   "cell_type": "markdown",
   "metadata": {},
   "source": [
    "La distribution des données ne suivent pas une loi normale"
   ]
  },
  {
   "cell_type": "code",
   "execution_count": 8,
   "metadata": {},
   "outputs": [],
   "source": [
    "def imputation(df):\n",
    "    \"\"\"\n",
    "    Suppression des lignes où il y a des valeurs null dans la colonne target(Weekly_Sales)\n",
    "    Suppression de la colonne Date\n",
    "    \n",
    "    traitement des données ! On ne garde pas les valeurs qui sont à +3 ecart type\n",
    "    pour les features ('Temperature', 'Fuel_Price', 'CPI', 'Unemployment')\n",
    "    \n",
    "    \n",
    "    \"\"\"\n",
    "    data = df.dropna(subset = ['Weekly_Sales'])\n",
    "    data = data.drop('Date', axis = 1)\n",
    "    \n",
    "    colonnes = ['Temperature', 'Fuel_Price', 'CPI', 'Unemployment']\n",
    "    \n",
    "    \n",
    "    for col in colonnes:\n",
    "        to_keep = data[col] < data[col].mean() + 3 * data[col].std()\n",
    "        data = data.loc[to_keep]\n",
    "        \n",
    "    return data"
   ]
  },
  {
   "cell_type": "code",
   "execution_count": 9,
   "metadata": {},
   "outputs": [
    {
     "data": {
      "text/plain": [
       "(90, 9)"
      ]
     },
     "execution_count": 9,
     "metadata": {},
     "output_type": "execute_result"
    }
   ],
   "source": [
    "data = imputation(df)\n",
    "data.shape"
   ]
  },
  {
   "cell_type": "markdown",
   "metadata": {},
   "source": [
    "On a créé une nouvelle colonne mois et semaine. Ce sont des informations qui pourront être utiles et importantes dans l'entraînement du modèle"
   ]
  },
  {
   "cell_type": "markdown",
   "metadata": {},
   "source": [
    "Nous avons très peu de valeurs.. Ceci aura des conséquences sur la performance du modèle de machine learning"
   ]
  },
  {
   "cell_type": "code",
   "execution_count": 10,
   "metadata": {},
   "outputs": [
    {
     "name": "stdout",
     "output_type": "stream",
     "text": [
      "Voici le pourcentage de valeurs nulls pour chaque variable de Data\n"
     ]
    },
    {
     "data": {
      "text/plain": [
       "Store           0.000000\n",
       "Weekly_Sales    0.000000\n",
       "Holiday_Flag    0.111111\n",
       "Temperature     0.000000\n",
       "Fuel_Price      0.000000\n",
       "CPI             0.000000\n",
       "Unemployment    0.000000\n",
       "Month           0.111111\n",
       "Week            0.111111\n",
       "dtype: float64"
      ]
     },
     "metadata": {},
     "output_type": "display_data"
    }
   ],
   "source": [
    "print('Voici le pourcentage de valeurs nulls pour chaque variable de Data')\n",
    "display(data.isna().mean())"
   ]
  },
  {
   "cell_type": "markdown",
   "metadata": {},
   "source": [
    "# Visualisation "
   ]
  },
  {
   "cell_type": "code",
   "execution_count": 11,
   "metadata": {},
   "outputs": [
    {
     "data": {
      "text/html": [
       "<iframe\n",
       "    scrolling=\"no\"\n",
       "    width=\"100%\"\n",
       "    height=\"545px\"\n",
       "    src=\"iframe_figures/figure_11.html\"\n",
       "    frameborder=\"0\"\n",
       "    allowfullscreen\n",
       "></iframe>\n"
      ]
     },
     "metadata": {},
     "output_type": "display_data"
    }
   ],
   "source": [
    "month = data.groupby('Month')['Weekly_Sales'].sum().sort_values().reset_index()\n",
    "\n",
    "px.bar(month, x = 'Month', y ='Weekly_Sales', color = 'Weekly_Sales', title=\"Ventes moyennes selon le mois de l'année\" )"
   ]
  },
  {
   "cell_type": "markdown",
   "metadata": {},
   "source": [
    "**Interprétations**  \n",
    "Le mois où la vente est la plus importante est :  Mars, Décembre (Noël)  \n",
    "Les mois où les ventes sont les plus basses sont : Janvier, Septembre et Novembre"
   ]
  },
  {
   "cell_type": "code",
   "execution_count": 12,
   "metadata": {
    "tags": []
   },
   "outputs": [
    {
     "data": {
      "image/png": "[encoded data removed]",
      "text/plain": [
       "<Figure size 360x360 with 1 Axes>"
      ]
     },
     "metadata": {
      "needs_background": "light"
     },
     "output_type": "display_data"
    },
    {
     "data": {
      "image/png": "[encoded data removed]",
      "text/plain": [
       "<Figure size 360x360 with 1 Axes>"
      ]
     },
     "metadata": {
      "needs_background": "light"
     },
     "output_type": "display_data"
    },
    {
     "data": {
      "image/png": "[encoded data removed]",
      "text/plain": [
       "<Figure size 360x360 with 1 Axes>"
      ]
     },
     "metadata": {
      "needs_background": "light"
     },
     "output_type": "display_data"
    },
    {
     "data": {
      "image/png": "[encoded data removed]",
      "text/plain": [
       "<Figure size 360x360 with 1 Axes>"
      ]
     },
     "metadata": {
      "needs_background": "light"
     },
     "output_type": "display_data"
    }
   ],
   "source": [
    "features = ['Temperature', 'Fuel_Price', 'CPI', 'Unemployment']\n",
    "\n",
    "for f in features:\n",
    "    plt.subplots(figsize= (5,5))\n",
    "    plt.scatter(data[f], data['Weekly_Sales'])\n",
    "    plt.title('Weekly_Sales by {}'.format(f))\n",
    "    plt.show()\n",
    "    \n",
    "    "
   ]
  },
  {
   "cell_type": "markdown",
   "metadata": {},
   "source": [
    "Les graphiques ci-dessus, permettent d'avoir une première idée de la corrélation entre les features et la target.  \n",
    "Ici le résultat montre qu'il n'y a pas de corrélation linéaire marquante entre les features et la target"
   ]
  },
  {
   "cell_type": "markdown",
   "metadata": {},
   "source": [
    "# 2) Régression Linéaire"
   ]
  },
  {
   "cell_type": "markdown",
   "metadata": {},
   "source": [
    "**Preprocessing**  \n",
    "Dans cette partie:  \n",
    "- Séparer les données en deux. Un partie sera les données d'entraînement, le deuxième sera la partie de test.  \n",
    "- Preprocessing. Il y a des données numériques et catégorielles. "
   ]
  },
  {
   "cell_type": "markdown",
   "metadata": {},
   "source": [
    "Nous avons des variables numériques et des variables catégorielles.  \n",
    "Variables numériques : Temperature, Fuel_Price, CPI, Unemployment, Month, Week  \n",
    "Variables catégorielles : Store, Holiday_Flag  \n",
    "  \n",
    "Pour entraîner le modèle, il faut faire un préprocessing des variables.  \n",
    "**Pour les variables numériques :**  \n",
    "Les features Month et Week présentent dans valeurs nulles ! J'ai choisi de les remplacer par la valeur median. Je standarise l'ensemble des données avec un StandardScaler.  \n",
    "**Pour les variables catégorielles :**  \n",
    "La feature Holiday_Flag présente également des valeurs nulles ! J'ai choisi des les remplacer par la valeur la plus représentée (most_frequent). Le OneHotEncoder va permettre de créer et ajouter des colonnes (dummies) binaires qui réfèrent ou non la donnée par un 0 ou 1."
   ]
  },
  {
   "cell_type": "code",
   "execution_count": 13,
   "metadata": {},
   "outputs": [],
   "source": [
    "trainset, testset = train_test_split(data, test_size=0.2, random_state=0)"
   ]
  },
  {
   "cell_type": "code",
   "execution_count": 15,
   "metadata": {},
   "outputs": [],
   "source": [
    "def num_cat(numeric_features = [], categorical_features = []):\n",
    "    \"\"\"\n",
    "    Création d'un pipeline pour le préprocessing des features numériques\n",
    "    \n",
    "    Création d'un pipeline pour le préprocessing des features catégorielles\n",
    "    \n",
    "    IN : numeric_features --> Position des colonnes numériques dans X_train/X_test\n",
    "         categorical_features --> Position des colonnes catégorielle dans X_train/X_test\n",
    "         \n",
    "    OUT: On assemble les deux pipelines pour faire un pipeline preprocessor\n",
    "    \"\"\"\n",
    "    numeric_transformer = Pipeline(steps=[\n",
    "    ('imputer', SimpleImputer(strategy='median')),  \n",
    "    ('scaler', StandardScaler())\n",
    "    ])\n",
    "    \n",
    "    categorical_transformer = Pipeline(\n",
    "    steps=[\n",
    "    ('imputer', SimpleImputer(strategy='most_frequent')),\n",
    "    ('encoder', OneHotEncoder(drop = 'first'))\n",
    "    ])\n",
    "    \n",
    "    preprocessor = ColumnTransformer(\n",
    "    transformers=[\n",
    "        ('num', numeric_transformer, numeric_features),\n",
    "        ('cat', categorical_transformer, categorical_features)\n",
    "    ])\n",
    "    \n",
    "    \n",
    "    return preprocessor"
   ]
  },
  {
   "cell_type": "code",
   "execution_count": 16,
   "metadata": {},
   "outputs": [],
   "source": [
    "def preprocessing(data_train, data_test, numeric_features = [], categorical_features = []):\n",
    "    \"\"\"\n",
    "    IN : data_train --> dataset train\n",
    "         data_test --> dataset test\n",
    "         numeric_features --> Position des colonnes numériques dans X_train/X_test\n",
    "         categorical_features --> Position des colonnes catégorielle dans X_train/X_test\n",
    "         \n",
    "    OUT : X_train, y_train, X_test, y_test\n",
    "    \n",
    "    Dans cette fonction, on récupère les datasets d'entrainement et de test. On sépare les features de la target. \n",
    "    On trasforme en numpy array.\n",
    "    On appliplique le preprocessor de la fonction num_cat\n",
    "    \n",
    "    \"\"\"\n",
    "    n = numeric_features\n",
    "    c = categorical_features\n",
    "    \n",
    "    X_train = data_train.drop(['Weekly_Sales'], axis = 1) \n",
    "    y_train = data_train['Weekly_Sales']\n",
    "    \n",
    "    X_test = data_test.drop(['Weekly_Sales'], axis = 1) \n",
    "    y_test = data_test['Weekly_Sales']\n",
    "    \n",
    "    X_train = X_train.values\n",
    "    y_train = y_train.values\n",
    "    X_test = X_test.values\n",
    "    y_test = y_test.values\n",
    "    \n",
    "    preprocessor = num_cat(n,c)\n",
    "    \n",
    "    X_train = preprocessor.fit_transform(X_train)\n",
    "    X_test = preprocessor.transform(X_test)\n",
    "    \n",
    "    return X_train, y_train, X_test, y_test"
   ]
  },
  {
   "cell_type": "code",
   "execution_count": 17,
   "metadata": {},
   "outputs": [],
   "source": [
    "X_train, y_train, X_test, y_test = preprocessing(trainset, testset, numeric_features = [2, 3 , 4 , 5, 6,7],  categorical_features = [0,1])"
   ]
  },
  {
   "cell_type": "markdown",
   "metadata": {},
   "source": [
    "# Application du modèle "
   ]
  },
  {
   "cell_type": "code",
   "execution_count": 47,
   "metadata": {},
   "outputs": [],
   "source": [
    "def evaluation(model, X_train, X_test, y_train, y_test):\n",
    "   \n",
    "    model.fit(X_train, y_train)\n",
    "    \n",
    "    ypred_test = model.predict(X_test)\n",
    "    ypred_train = model.predict(X_train)\n",
    "    \n",
    "\n",
    "    \n",
    "    return ypred_train, ypred_test, r2_score(y_train, ypred_train),r2_score(y_test, ypred_test)"
   ]
  },
  {
   "cell_type": "code",
   "execution_count": 44,
   "metadata": {},
   "outputs": [],
   "source": [
    "model = LinearRegression() # modèle de régression linéaire"
   ]
  },
  {
   "cell_type": "code",
   "execution_count": 48,
   "metadata": {},
   "outputs": [
    {
     "name": "stdout",
     "output_type": "stream",
     "text": [
      "Accuracy on training set: 0.9851464406071564\n",
      "Accuracy on test set: 0.9264432900113063\n"
     ]
    }
   ],
   "source": [
    "ypred_train, ypred_test, Rscore_train, Rscore_test = evaluation(model,X_train, X_test, y_train, y_test)\n",
    "\n",
    "print(\"Accuracy on training set:\", Rscore_train)\n",
    "print(\"Accuracy on test set:\", Rscore_test)"
   ]
  },
  {
   "cell_type": "code",
   "execution_count": 34,
   "metadata": {},
   "outputs": [
    {
     "data": {
      "text/plain": [
       "array([-1.91493893e+02, -6.76251316e+04,  7.73314912e+05,  2.80480614e+04,\n",
       "        4.81793198e+05, -4.66084355e+05,  2.52494641e+05, -1.26154202e+06,\n",
       "        2.34052650e+06, -1.23086512e+06,  9.89948806e+04, -5.59758410e+05,\n",
       "       -6.82079645e+05, -1.10759634e+06,  1.89496657e+06,  2.33239077e+05,\n",
       "        2.23635080e+06,  1.08072927e+06,  7.16597434e+05, -5.28438034e+05,\n",
       "        1.03740908e+06,  1.07610293e+06,  1.48611584e+06,  6.06440533e+05,\n",
       "       -7.87760897e+04])"
      ]
     },
     "execution_count": 34,
     "metadata": {},
     "output_type": "execute_result"
    }
   ],
   "source": [
    "model.coef_"
   ]
  },
  {
   "cell_type": "markdown",
   "metadata": {},
   "source": [
    "**Résultats**  \n",
    "On obtient un modèe avec de bonnes performances. Un R2 proche de 1 pour les données d'entraînements. Le R2(test) < R2(train) de 0.6. Il est possible de diminuer cette différence et de diminuer l'over fitting."
   ]
  },
  {
   "cell_type": "markdown",
   "metadata": {},
   "source": [
    "Il y a beaucoup de coef, c'est normal !! On a réalisé un OneHotEncodor ce qui à multiplié le nbr de variables"
   ]
  },
  {
   "cell_type": "markdown",
   "metadata": {},
   "source": [
    "# Ridge / Lasso"
   ]
  },
  {
   "cell_type": "markdown",
   "metadata": {},
   "source": [
    "**Ridge et Lasso** sont deux modèles très utiles et très utilisés pour la régression linéaire. Différent l'un de l'autre, les deux modèles ont un même objectif : Pénaliser les coefficients. Minimiser la fonction coût c'est minimiser les coefficients de la régression."
   ]
  },
  {
   "cell_type": "markdown",
   "metadata": {},
   "source": [
    "**Ridge** : On introduit un biais dans le modèle pour un meilleur compromis. Une  augmentation du biais entraînera une baisse de la variance dans un modèle de sur-ajustement et nous aidera à long terme.  \n",
    "    En régression linéaire, la régression Ridge pénalise la somme des carrés des résidus + lambda * la pente² .  Lambda c'est l'ampleur de la pénalité. Plus le lambda est élevé, plus le modèle sera régularisé mais plus fort sera le biais"
   ]
  },
  {
   "cell_type": "code",
   "execution_count": 35,
   "metadata": {},
   "outputs": [
    {
     "name": "stdout",
     "output_type": "stream",
     "text": [
      "Fitting 5 folds for each of 4 candidates, totalling 20 fits\n"
     ]
    },
    {
     "data": {
      "text/plain": [
       "{'alpha': 0}"
      ]
     },
     "execution_count": 35,
     "metadata": {},
     "output_type": "execute_result"
    }
   ],
   "source": [
    "#GridSearchCV pour trouver les meilleurs paramètres \n",
    "\n",
    "params = {'alpha' : [0,10, 100, 200]}\n",
    "ridge = Ridge()\n",
    "gridRidge = GridSearchCV(ridge, param_grid=params, cv=5, verbose=1)\n",
    "\n",
    "gridRidge.fit(X_train, y_train)\n",
    "\n",
    "gridRidge.best_params_"
   ]
  },
  {
   "cell_type": "code",
   "execution_count": 36,
   "metadata": {},
   "outputs": [
    {
     "name": "stdout",
     "output_type": "stream",
     "text": [
      "BEST ESTIMATOR:\n",
      "      train R2: 0.9835432888422062\n",
      "      test R2: 0.9265995261888874\n"
     ]
    }
   ],
   "source": [
    "print(\"BEST ESTIMATOR:\")\n",
    "best_model_Ridge1 = gridRidge.best_estimator_\n",
    "print(\"      train R2:\",\n",
    "      best_model_Ridge1.score(X_train, y_train))\n",
    "print(\"      test R2:\",\n",
    "      best_model_Ridge1.score(X_test, y_test))\n",
    "\n",
    "rtrain_1 = best_model_Ridge1.score(X_train, y_train)\n",
    "rtest_1 = best_model_Ridge1.score(X_test, y_test)\n",
    "\n"
   ]
  },
  {
   "cell_type": "markdown",
   "metadata": {},
   "source": [
    "**Résultat**  \n",
    "On obtient toujours un model avec de bonnes performances. On remarque que la différence entre le R2_train et le R2_test est toujours de 0.6."
   ]
  },
  {
   "cell_type": "markdown",
   "metadata": {},
   "source": [
    "# Lasso"
   ]
  },
  {
   "cell_type": "markdown",
   "metadata": {},
   "source": [
    "**Lasso :** Semblable à la régression Ridge, la régression Lasso permet également de régulariser un modèle. Lasso prendra une équation similaire mais prendra la valeur absolue de la pente plutôt que la quadrature. Il prendra la somme des carrés des résidus + lambda * la valeur absolue de la pente. Dans Lasso, au lieu de simplement pénaliser les fonctionnalités les moins importantes lors de l'utilisation de Ridge, Lasso peut réduire les fonctionnalités pour n'avoir aucun impact sur le modèle final. "
   ]
  },
  {
   "cell_type": "code",
   "execution_count": 37,
   "metadata": {},
   "outputs": [],
   "source": [
    "lasso = Lasso()"
   ]
  },
  {
   "cell_type": "code",
   "execution_count": 38,
   "metadata": {
    "collapsed": true,
    "jupyter": {
     "outputs_hidden": true
    },
    "tags": []
   },
   "outputs": [
    {
     "name": "stdout",
     "output_type": "stream",
     "text": [
      "Fitting 5 folds for each of 6 candidates, totalling 30 fits\n"
     ]
    },
    {
     "name": "stderr",
     "output_type": "stream",
     "text": [
      "C:\\Users\\marti\\anaconda3\\lib\\site-packages\\sklearn\\model_selection\\_validation.py:598: UserWarning:\n",
      "\n",
      "With alpha=0, this algorithm does not converge well. You are advised to use the LinearRegression estimator\n",
      "\n",
      "C:\\Users\\marti\\anaconda3\\lib\\site-packages\\sklearn\\linear_model\\_coordinate_descent.py:513: ConvergenceWarning:\n",
      "\n",
      "Objective did not converge. You might want to increase the number of iterations. Duality gap: 176189323561.08167, tolerance: 2488243055.832358\n",
      "\n",
      "C:\\Users\\marti\\anaconda3\\lib\\site-packages\\sklearn\\model_selection\\_validation.py:598: UserWarning:\n",
      "\n",
      "With alpha=0, this algorithm does not converge well. You are advised to use the LinearRegression estimator\n",
      "\n",
      "C:\\Users\\marti\\anaconda3\\lib\\site-packages\\sklearn\\linear_model\\_coordinate_descent.py:513: ConvergenceWarning:\n",
      "\n",
      "Objective did not converge. You might want to increase the number of iterations. Duality gap: 172603882307.3275, tolerance: 2425932262.9849753\n",
      "\n",
      "C:\\Users\\marti\\anaconda3\\lib\\site-packages\\sklearn\\model_selection\\_validation.py:598: UserWarning:\n",
      "\n",
      "With alpha=0, this algorithm does not converge well. You are advised to use the LinearRegression estimator\n",
      "\n",
      "C:\\Users\\marti\\anaconda3\\lib\\site-packages\\sklearn\\linear_model\\_coordinate_descent.py:513: ConvergenceWarning:\n",
      "\n",
      "Objective did not converge. You might want to increase the number of iterations. Duality gap: 183003808465.5532, tolerance: 2429616103.9483047\n",
      "\n",
      "C:\\Users\\marti\\anaconda3\\lib\\site-packages\\sklearn\\model_selection\\_validation.py:598: UserWarning:\n",
      "\n",
      "With alpha=0, this algorithm does not converge well. You are advised to use the LinearRegression estimator\n",
      "\n",
      "C:\\Users\\marti\\anaconda3\\lib\\site-packages\\sklearn\\linear_model\\_coordinate_descent.py:513: ConvergenceWarning:\n",
      "\n",
      "Objective did not converge. You might want to increase the number of iterations. Duality gap: 168527465222.73502, tolerance: 2224507089.8946767\n",
      "\n",
      "C:\\Users\\marti\\anaconda3\\lib\\site-packages\\sklearn\\model_selection\\_validation.py:598: UserWarning:\n",
      "\n",
      "With alpha=0, this algorithm does not converge well. You are advised to use the LinearRegression estimator\n",
      "\n",
      "C:\\Users\\marti\\anaconda3\\lib\\site-packages\\sklearn\\linear_model\\_coordinate_descent.py:513: ConvergenceWarning:\n",
      "\n",
      "Objective did not converge. You might want to increase the number of iterations. Duality gap: 100994799512.92542, tolerance: 2429438625.825091\n",
      "\n",
      "C:\\Users\\marti\\anaconda3\\lib\\site-packages\\sklearn\\linear_model\\_coordinate_descent.py:513: ConvergenceWarning:\n",
      "\n",
      "Objective did not converge. You might want to increase the number of iterations. Duality gap: 75483729486.80588, tolerance: 2488243055.832358\n",
      "\n",
      "C:\\Users\\marti\\anaconda3\\lib\\site-packages\\sklearn\\linear_model\\_coordinate_descent.py:513: ConvergenceWarning:\n",
      "\n",
      "Objective did not converge. You might want to increase the number of iterations. Duality gap: 94115149840.95752, tolerance: 2425932262.9849753\n",
      "\n",
      "C:\\Users\\marti\\anaconda3\\lib\\site-packages\\sklearn\\linear_model\\_coordinate_descent.py:513: ConvergenceWarning:\n",
      "\n",
      "Objective did not converge. You might want to increase the number of iterations. Duality gap: 114515115706.03065, tolerance: 2429616103.9483047\n",
      "\n",
      "C:\\Users\\marti\\anaconda3\\lib\\site-packages\\sklearn\\linear_model\\_coordinate_descent.py:513: ConvergenceWarning:\n",
      "\n",
      "Objective did not converge. You might want to increase the number of iterations. Duality gap: 125249033627.69421, tolerance: 2224507089.8946767\n",
      "\n",
      "C:\\Users\\marti\\anaconda3\\lib\\site-packages\\sklearn\\linear_model\\_coordinate_descent.py:513: ConvergenceWarning:\n",
      "\n",
      "Objective did not converge. You might want to increase the number of iterations. Duality gap: 73445465073.80042, tolerance: 2429438625.825091\n",
      "\n",
      "C:\\Users\\marti\\anaconda3\\lib\\site-packages\\sklearn\\linear_model\\_coordinate_descent.py:513: ConvergenceWarning:\n",
      "\n",
      "Objective did not converge. You might want to increase the number of iterations. Duality gap: 54460407930.318054, tolerance: 2488243055.832358\n",
      "\n",
      "C:\\Users\\marti\\anaconda3\\lib\\site-packages\\sklearn\\linear_model\\_coordinate_descent.py:513: ConvergenceWarning:\n",
      "\n",
      "Objective did not converge. You might want to increase the number of iterations. Duality gap: 54136327042.21399, tolerance: 2425932262.9849753\n",
      "\n",
      "C:\\Users\\marti\\anaconda3\\lib\\site-packages\\sklearn\\linear_model\\_coordinate_descent.py:513: ConvergenceWarning:\n",
      "\n",
      "Objective did not converge. You might want to increase the number of iterations. Duality gap: 2879280008.8046875, tolerance: 2429616103.9483047\n",
      "\n",
      "C:\\Users\\marti\\anaconda3\\lib\\site-packages\\sklearn\\linear_model\\_coordinate_descent.py:513: ConvergenceWarning:\n",
      "\n",
      "Objective did not converge. You might want to increase the number of iterations. Duality gap: 72982197617.23187, tolerance: 2224507089.8946767\n",
      "\n",
      "C:\\Users\\marti\\anaconda3\\lib\\site-packages\\sklearn\\linear_model\\_coordinate_descent.py:513: ConvergenceWarning:\n",
      "\n",
      "Objective did not converge. You might want to increase the number of iterations. Duality gap: 41161103327.58777, tolerance: 2429438625.825091\n",
      "\n",
      "C:\\Users\\marti\\anaconda3\\lib\\site-packages\\sklearn\\linear_model\\_coordinate_descent.py:513: ConvergenceWarning:\n",
      "\n",
      "Objective did not converge. You might want to increase the number of iterations. Duality gap: 10255781475.910156, tolerance: 2488243055.832358\n",
      "\n",
      "C:\\Users\\marti\\anaconda3\\lib\\site-packages\\sklearn\\linear_model\\_coordinate_descent.py:513: ConvergenceWarning:\n",
      "\n",
      "Objective did not converge. You might want to increase the number of iterations. Duality gap: 8275124520.784119, tolerance: 2425932262.9849753\n",
      "\n",
      "C:\\Users\\marti\\anaconda3\\lib\\site-packages\\sklearn\\linear_model\\_coordinate_descent.py:513: ConvergenceWarning:\n",
      "\n",
      "Objective did not converge. You might want to increase the number of iterations. Duality gap: 3367052319.685791, tolerance: 2429616103.9483047\n",
      "\n",
      "C:\\Users\\marti\\anaconda3\\lib\\site-packages\\sklearn\\linear_model\\_coordinate_descent.py:513: ConvergenceWarning:\n",
      "\n",
      "Objective did not converge. You might want to increase the number of iterations. Duality gap: 42302513344.7655, tolerance: 2224507089.8946767\n",
      "\n",
      "C:\\Users\\marti\\anaconda3\\lib\\site-packages\\sklearn\\linear_model\\_coordinate_descent.py:513: ConvergenceWarning:\n",
      "\n",
      "Objective did not converge. You might want to increase the number of iterations. Duality gap: 6190204587.751282, tolerance: 2429438625.825091\n",
      "\n",
      "C:\\Users\\marti\\anaconda3\\lib\\site-packages\\sklearn\\linear_model\\_coordinate_descent.py:513: ConvergenceWarning:\n",
      "\n",
      "Objective did not converge. You might want to increase the number of iterations. Duality gap: 7246396774.567871, tolerance: 2488243055.832358\n",
      "\n",
      "C:\\Users\\marti\\anaconda3\\lib\\site-packages\\sklearn\\linear_model\\_coordinate_descent.py:513: ConvergenceWarning:\n",
      "\n",
      "Objective did not converge. You might want to increase the number of iterations. Duality gap: 3883220480.1219482, tolerance: 2425932262.9849753\n",
      "\n",
      "C:\\Users\\marti\\anaconda3\\lib\\site-packages\\sklearn\\linear_model\\_coordinate_descent.py:513: ConvergenceWarning:\n",
      "\n",
      "Objective did not converge. You might want to increase the number of iterations. Duality gap: 23483549281.527466, tolerance: 2224507089.8946767\n",
      "\n",
      "C:\\Users\\marti\\anaconda3\\lib\\site-packages\\sklearn\\linear_model\\_coordinate_descent.py:513: ConvergenceWarning:\n",
      "\n",
      "Objective did not converge. You might want to increase the number of iterations. Duality gap: 5017390126.625061, tolerance: 2429438625.825091\n",
      "\n",
      "C:\\Users\\marti\\anaconda3\\lib\\site-packages\\sklearn\\linear_model\\_coordinate_descent.py:513: ConvergenceWarning:\n",
      "\n",
      "Objective did not converge. You might want to increase the number of iterations. Duality gap: 3926810640.928955, tolerance: 2488243055.832358\n",
      "\n",
      "C:\\Users\\marti\\anaconda3\\lib\\site-packages\\sklearn\\linear_model\\_coordinate_descent.py:513: ConvergenceWarning:\n",
      "\n",
      "Objective did not converge. You might want to increase the number of iterations. Duality gap: 4726553307.515137, tolerance: 2224507089.8946767\n",
      "\n",
      "C:\\Users\\marti\\anaconda3\\lib\\site-packages\\sklearn\\linear_model\\_coordinate_descent.py:513: ConvergenceWarning:\n",
      "\n",
      "Objective did not converge. You might want to increase the number of iterations. Duality gap: 3011693075.8829956, tolerance: 2429438625.825091\n",
      "\n",
      "C:\\Users\\marti\\anaconda3\\lib\\site-packages\\sklearn\\model_selection\\_search.py:880: UserWarning:\n",
      "\n",
      "With alpha=0, this algorithm does not converge well. You are advised to use the LinearRegression estimator\n",
      "\n",
      "C:\\Users\\marti\\anaconda3\\lib\\site-packages\\sklearn\\linear_model\\_coordinate_descent.py:513: ConvergenceWarning:\n",
      "\n",
      "Objective did not converge. You might want to increase the number of iterations. Duality gap: 227679014845.39795, tolerance: 3009808860.5723906\n",
      "\n"
     ]
    },
    {
     "data": {
      "text/plain": [
       "{'alpha': 0}"
      ]
     },
     "execution_count": 38,
     "metadata": {},
     "output_type": "execute_result"
    }
   ],
   "source": [
    "params = {'alpha' : [0, 50, 100, 200, 400, 800]}\n",
    "gridLasso = GridSearchCV(lasso, param_grid=params, cv=5, verbose=1)\n",
    "\n",
    "gridLasso.fit(X_train, y_train)\n",
    "\n",
    "gridLasso.best_params_"
   ]
  },
  {
   "cell_type": "code",
   "execution_count": 39,
   "metadata": {},
   "outputs": [
    {
     "name": "stdout",
     "output_type": "stream",
     "text": [
      "BEST ESTIMATOR:\n",
      "      train R2: 0.9848708655338275\n",
      "      test R2: 0.9277680464224508\n"
     ]
    }
   ],
   "source": [
    "print(\"BEST ESTIMATOR:\")\n",
    "best_model_Lasso = gridLasso.best_estimator_\n",
    "print(\"      train R2:\",\n",
    "      best_model_Lasso.score(X_train, y_train))\n",
    "print(\"      test R2:\",\n",
    "      best_model_Lasso.score(X_test, y_test))\n",
    "\n",
    "ltrain = best_model_Lasso.score(X_train, y_train)\n",
    "ltest = best_model_Lasso.score(X_test, y_test)\n"
   ]
  },
  {
   "cell_type": "markdown",
   "metadata": {},
   "source": [
    "# Conclusion "
   ]
  },
  {
   "cell_type": "markdown",
   "metadata": {},
   "source": [
    "1) Exploration des données :  \n",
    "    * Très peu de données (90 lignes) après preprocessing\n",
    "    * Manque d'information sur les données du chômage\n",
    "\n",
    "2) Modèle de regression linéaire\n",
    "    * R2_train = 0.98 \n",
    "    * modèle performant\n",
    "    * léger over-fitting\n",
    "\n",
    "3) Over-fitting\n",
    "    * Utilisation de Ridge et Lasso. Les résultats obtenus montrent que les deux modèles n'ont pas permis une réduction de l'over-fitting. Je pense qu'il faut augmenter le nombre de données."
   ]
  },
  {
   "cell_type": "code",
   "execution_count": 49,
   "metadata": {},
   "outputs": [
    {
     "data": {
      "text/html": [
       "<div>\n",
       "<style scoped>\n",
       "    .dataframe tbody tr th:only-of-type {\n",
       "        vertical-align: middle;\n",
       "    }\n",
       "\n",
       "    .dataframe tbody tr th {\n",
       "        vertical-align: top;\n",
       "    }\n",
       "\n",
       "    .dataframe thead th {\n",
       "        text-align: right;\n",
       "    }\n",
       "</style>\n",
       "<table border=\"1\" class=\"dataframe\">\n",
       "  <thead>\n",
       "    <tr style=\"text-align: right;\">\n",
       "      <th></th>\n",
       "      <th>LinearRegression 1</th>\n",
       "      <th>Ridge</th>\n",
       "      <th>Lasso</th>\n",
       "    </tr>\n",
       "  </thead>\n",
       "  <tbody>\n",
       "    <tr>\n",
       "      <th>R2 train</th>\n",
       "      <td>0.985146</td>\n",
       "      <td>0.983543</td>\n",
       "      <td>0.984871</td>\n",
       "    </tr>\n",
       "    <tr>\n",
       "      <th>R2 test</th>\n",
       "      <td>0.926443</td>\n",
       "      <td>0.926600</td>\n",
       "      <td>0.927768</td>\n",
       "    </tr>\n",
       "  </tbody>\n",
       "</table>\n",
       "</div>"
      ],
      "text/plain": [
       "          LinearRegression 1     Ridge     Lasso\n",
       "R2 train            0.985146  0.983543  0.984871\n",
       "R2 test             0.926443  0.926600  0.927768"
      ]
     },
     "execution_count": 49,
     "metadata": {},
     "output_type": "execute_result"
    }
   ],
   "source": [
    "result = pd.DataFrame({\"LinearRegression 1\" : (r2_score(y_train, ypred_train) , r2_score(y_test, ypred_test)),\n",
    "                      \"Ridge\" : (rtrain_1 , rtest_1),\n",
    "                      \"Lasso\" : (ltrain, ltest)},\n",
    "                     index = (\"R2 train\", \"R2 test\"))\n",
    "\n",
    "result"
   ]
  },
  {
   "cell_type": "markdown",
   "metadata": {},
   "source": [
    "**Perspectives :**  \n",
    "Regarder l'influence de certaines variables sur le modèle. Certaines features n'ont peut être aucunes influence sur la prédiction.  \n",
    "Utilisation du time-series pour une meilleure prédiction ? "
   ]
  }
 ],
 "metadata": {
  "kernelspec": {
   "display_name": "Python 3",
   "language": "python",
   "name": "python3"
  },
  "language_info": {
   "codemirror_mode": {
    "name": "ipython",
    "version": 3
   },
   "file_extension": ".py",
   "mimetype": "text/x-python",
   "name": "python",
   "nbconvert_exporter": "python",
   "pygments_lexer": "ipython3",
   "version": "3.8.10"
  }
 },
 "nbformat": 4,
 "nbformat_minor": 4
}
